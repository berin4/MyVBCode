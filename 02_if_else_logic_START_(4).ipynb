{
  "nbformat": 4,
  "nbformat_minor": 0,
  "metadata": {
    "colab": {
      "provenance": [],
      "cell_execution_strategy": "setup",
      "include_colab_link": true
    },
    "kernelspec": {
      "name": "python3",
      "display_name": "Python 3"
    },
    "language_info": {
      "name": "python"
    }
  },
  "cells": [
    {
      "cell_type": "markdown",
      "metadata": {
        "id": "view-in-github",
        "colab_type": "text"
      },
      "source": [
        "<a href=\"https://colab.research.google.com/github/berin4/MyVBCode/blob/master/02_if_else_logic_START_(4).ipynb\" target=\"_parent\"><img src=\"https://colab.research.google.com/assets/colab-badge.svg\" alt=\"Open In Colab\"/></a>"
      ]
    },
    {
      "cell_type": "markdown",
      "metadata": {
        "id": "4dnX330-L99l"
      },
      "source": [
        "##If-Else Logic\n",
        "###If a condition is true, do something\n",
        "###Else, do nothing or do something else\n",
        "\n",
        "###Math Operators\n",
        "  - ** exponents: 2 ** 3 = 8\n",
        "  - % modulo operator returns remainder: 11 % 3 = 2\n",
        "\n",
        "- **comparison operator** gees between 2 values and compares them\n",
        "- the comparison returns either **True** or **False**\n",
        "\n",
        "**=** single equal sign is the **Assignment Operator** (it SETS a value).  \n",
        "**==** double equal sign is the **Comparison Operator** (it COMPARES 2 values and returns a boolean)"
      ]
    },
    {
      "cell_type": "markdown",
      "metadata": {
        "id": "Zq_lsMvzM1Lr"
      },
      "source": [
        "###== Comparison Operator: double equal signs"
      ]
    },
    {
      "cell_type": "markdown",
      "metadata": {
        "id": "8vWn6CpDNlBf"
      },
      "source": [
        "###Greater-than, Less-than Operators: <, >, <=, >=\n",
        "### Not Equal To: !="
      ]
    },
    {
      "cell_type": "code",
      "metadata": {
        "id": "we3fRkrbL7Io",
        "colab": {
          "base_uri": "https://localhost:8080/"
        },
        "outputId": "b8bfe83d-de88-4686-ad57-0e4e9374ce1a"
      },
      "source": [
        "# = single equal sign is the Assignment Operator (it SETS a value)\n",
        "# == double equal sign is the Comparison Operator (it COMPARES 2 values and returns a boolean)\n",
        "# < and > are less than and greater than, respectively\n",
        "# <= and >= are less than or equal to and and greater than or equal to\n",
        "# these are called inequalities and you can use them in if statements\n",
        "\n",
        "# comparison operator gpes between 2 values and compares them\n",
        "# the comparison returns either True or False\n",
        "print('4 == 4:') # True\n",
        "print('3 < 5:') # True\n",
        "print('5 < 3:') # False\n",
        "print('3 > 5:') # False\n",
        "print('5 > 3:') # True\n",
        "print('4 >= 4:') # True\n",
        "print('4 >= 3:') # True\n",
        "print('4 != 4:') # False\n",
        "print('4 != 3:') # True"
      ],
      "execution_count": 1,
      "outputs": [
        {
          "output_type": "stream",
          "name": "stdout",
          "text": [
            "4 == 4:\n",
            "3 < 5:\n",
            "5 < 3:\n",
            "3 > 5:\n",
            "5 > 3:\n",
            "4 >= 4:\n",
            "4 >= 3:\n",
            "4 != 4:\n",
            "4 != 3:\n"
          ]
        }
      ]
    },
    {
      "cell_type": "code",
      "source": [
        "# a comparison statement is either True or False\n",
        "\n",
        "# describes the Truth value of"
      ],
      "metadata": {
        "id": "T8nG2qDmqh7_"
      },
      "execution_count": 2,
      "outputs": []
    },
    {
      "cell_type": "markdown",
      "source": [
        "**if** is followed by a condition to evaluate\n",
        "- condition uses a comparison operator (==, <, >, !=, etc)\n",
        "- condition returns a **boolean**\n",
        "- if **True** code inside if block runs\n",
        "- if **False** code inside if block does not run"
      ],
      "metadata": {
        "id": "csErgbstDw_8"
      }
    },
    {
      "cell_type": "code",
      "source": [
        "# if it returns True, it executes the code\n",
        "# inside the if-block\n",
        "# in Python the if-block code is indented\n",
        "# if the condition is False, the if-block code is ignored\n",
        "\n",
        "# 'It\\'s true! x is greater than 15'\n",
        "\n",
        "x = 17\n",
        "if x>15:\n",
        "  print(\"x is greater than 15\")"
      ],
      "metadata": {
        "colab": {
          "base_uri": "https://localhost:8080/"
        },
        "id": "McosXmR7DbMz",
        "outputId": "e3a0b63c-af48-44e8-ae00-15bca078c6c0"
      },
      "execution_count": 3,
      "outputs": [
        {
          "output_type": "stream",
          "name": "stdout",
          "text": [
            "x is greater than 15\n"
          ]
        }
      ]
    },
    {
      "cell_type": "markdown",
      "source": [
        "**x ** 2** means x squared (** is the exponentiation operator)"
      ],
      "metadata": {
        "id": "AQuDeAMBFtJi"
      }
    },
    {
      "cell_type": "code",
      "source": [
        "# ** is for expontents: base ** power\n",
        "# x\n",
        "print(5 ** 2) # 25\n",
        "print(5 ** 3) # 125\n",
        "print(5 ** 4) # 625"
      ],
      "metadata": {
        "id": "3xeOUoRYFshx",
        "colab": {
          "base_uri": "https://localhost:8080/"
        },
        "outputId": "c3ce6bca-690d-405a-cd80-5ecc77f17693"
      },
      "execution_count": 4,
      "outputs": [
        {
          "output_type": "stream",
          "name": "stdout",
          "text": [
            "25\n",
            "125\n",
            "625\n"
          ]
        }
      ]
    },
    {
      "cell_type": "markdown",
      "source": [
        "**else** is used to run code when **if** condition is **False**"
      ],
      "metadata": {
        "id": "RhkeGFIKFhKT"
      }
    },
    {
      "cell_type": "code",
      "source": [
        "# if evaluates a boolean comparison:\n",
        "# if runs if boolean comparison returns True\n",
        "\n",
        "x = 20\n",
        "\n",
        "if (x ** 2) ==50: #evaluated to False\n",
        "  print(\"x squared is 50\")\n",
        "else:\n",
        "  print(\"x squared is NOT 50\")\n",
        "\n",
        "# 'x squared is 50'\n",
        "# runs if boolean comparison returns False\n",
        "# 'x squared is NOT 50'"
      ],
      "metadata": {
        "id": "X3iqZuP2Fd-T",
        "colab": {
          "base_uri": "https://localhost:8080/"
        },
        "outputId": "89665bcd-0cb4-4cc1-e010-7323f48635c4"
      },
      "execution_count": 5,
      "outputs": [
        {
          "output_type": "stream",
          "name": "stdout",
          "text": [
            "x squared is NOT 50\n"
          ]
        }
      ]
    },
    {
      "cell_type": "markdown",
      "source": [
        "**17 % 5** modulus operator returns the remainder (2)"
      ],
      "metadata": {
        "id": "x0pu8WqYGPZj"
      }
    },
    {
      "cell_type": "code",
      "source": [
        "# % mod operator returns remainder of num1 divided by num2: num1 % num2\n",
        "print(17 % 5) # returne the remainder\n",
        "print(4 % 2) # 2 * 2 = 4, 4 - 4 = 0, remainder = 0\n",
        "\n",
        "#  snything thatt divides evenly has a remainder 0\n",
        "# anything that is odd, has a remainder\n",
        "\n",
        "# '11/3 yields remainder of 2'\n",
        "print(11 % 3)\n",
        "\n",
        "print(14 % 3) # 3 * 4 = 12; 14 - 12 = 2 remainder 2\n",
        "# '11/3 yields remainder of 5'\n",
        "\n",
        "# '11/3 yields remainder of '\n",
        "print(3 % 4) # remainder +> 3 (if number is less, remainder is that number)"
      ],
      "metadata": {
        "colab": {
          "base_uri": "https://localhost:8080/"
        },
        "id": "5tDhGOp1GOVV",
        "outputId": "ed2693d9-a286-47be-a6ec-8906a44b228c"
      },
      "execution_count": 6,
      "outputs": [
        {
          "output_type": "stream",
          "name": "stdout",
          "text": [
            "2\n",
            "0\n",
            "2\n",
            "2\n",
            "3\n"
          ]
        }
      ]
    },
    {
      "cell_type": "markdown",
      "source": [
        "####**f\"Hi, {first_name} {last_name}!\"** formatting intead of concatenation\n",
        "- string concatenation can get too complicated with all the \"\" and +\n",
        "- string concatenation also fails when you include numbers, so you have to stringify nums: str(x)\n",
        "- as an alternative to reg str concat, use **f\"\"** formatting\n",
        "- only need ONE set of quotes\n",
        "- variables go inside **{x}** curly braces\n",
        "- handles number variables with no problem"
      ],
      "metadata": {
        "id": "ROnI5n5PBnub"
      }
    },
    {
      "cell_type": "code",
      "source": [
        "# regular string concatenation can get too complicated:\n",
        "first = \"Bessie\"\n",
        "last = \"Ngwu\"\n",
        "high_score = 1_000_000\n",
        "\n",
        "# \"Welcome, ! Your high score is !\"\n",
        "print(\"Welcome \" +first + \" \" + last + \", Your Highscore is \" + str(high_score)) # \"Welcome, Brian McClain! Your high score is 12345!\""
      ],
      "metadata": {
        "colab": {
          "base_uri": "https://localhost:8080/"
        },
        "id": "p8ZQ_s7dAavY",
        "outputId": "07136859-1374-4483-f280-a1bc55debae2"
      },
      "execution_count": 7,
      "outputs": [
        {
          "output_type": "stream",
          "name": "stdout",
          "text": [
            "Welcome Bessie Ngwu, Your Highscore is 1000000\n"
          ]
        }
      ]
    },
    {
      "cell_type": "code",
      "source": [
        "# as an alternative to reg str concat, use f\"\" formatting\n",
        "# \"Welcome,Your high score is !\"\n",
        "# \"Welcome! Your high score is !\"\n",
        "msg = f\"Welcome, {first} {last}! Your high score is {high_score}!!!!!\"\n",
        "print(msg)"
      ],
      "metadata": {
        "colab": {
          "base_uri": "https://localhost:8080/"
        },
        "id": "wX4OJ-FFBKJp",
        "outputId": "61844da8-dbde-4eb3-9b4c-de3d4c5194f3"
      },
      "execution_count": 8,
      "outputs": [
        {
          "output_type": "stream",
          "name": "stdout",
          "text": [
            "Welcome, Bessie Ngwu! Your high score is 1000000!!!!!\n"
          ]
        }
      ]
    },
    {
      "cell_type": "markdown",
      "source": [
        "**strings have list-like properties, len and index**\n",
        "- **string[index]** returns the character at specified index\n",
        "- **\"apple\"[0]** is \"a\""
      ],
      "metadata": {
        "id": "twfuserfJbLz"
      }
    },
    {
      "cell_type": "code",
      "source": [],
      "metadata": {
        "id": "9pzaF7llwf8I"
      },
      "execution_count": 8,
      "outputs": []
    },
    {
      "cell_type": "code",
      "metadata": {
        "id": "j2ckHdAbM4Re",
        "colab": {
          "base_uri": "https://localhost:8080/"
        },
        "outputId": "d711efa2-f78c-41c4-8dda-07d90c9b68f5"
      },
      "source": [
        "# declare a string var and use if-else logic to\n",
        "# run code based on what letter it starts with\n",
        "veg = \"carrot\"\n",
        "print(len(veg))\n",
        "print(len(veg) == 5)\n",
        "print('first lette:', veg[0])\n",
        "print('last letter:', veg[-1])\n",
        "\n",
        "if veg [0] == 'C':\n",
        "  print(f'{veg} starts with C') # 6\n",
        "\n",
        "\n",
        "# using == check if veggie starts with 'c'\n",
        "# 'c'\n",
        "# 'starts with C'\n",
        "\n",
        "# 'ka'\n",
        "# if\n",
        "# 'starts with C'\n",
        "\n",
        "# 'does NOT start with C. It starts with\n",
        "\n",
        "# add a new veg only if it starts with 'c'\n",
        "\n",
        "# declare a new empty list\n",
        "[]\n",
        "\n",
        "# 'cel'\n",
        "\n",
        "# 'c'\n",
        "\n",
        "\n",
        "print() # ['celery']\n",
        "print() # celery"
      ],
      "execution_count": 9,
      "outputs": [
        {
          "output_type": "stream",
          "name": "stdout",
          "text": [
            "6\n",
            "False\n",
            "first lette: c\n",
            "last letter: t\n",
            "\n",
            "\n"
          ]
        }
      ]
    },
    {
      "cell_type": "markdown",
      "source": [
        "**in** and **not in** keywords are also used for boolean comparisons\n",
        "- they check for existence of an item in a list or a char in a str"
      ],
      "metadata": {
        "id": "P5Wy68OSLJGR"
      }
    },
    {
      "cell_type": "code",
      "metadata": {
        "id": "tsoMpT9hP8Ig",
        "colab": {
          "base_uri": "https://localhost:8080/"
        },
        "outputId": "6510944a-1a51-4717-f011-825490dd357b"
      },
      "source": [
        "# in and not in keywords also used for bool comparisons\n",
        "# they check for existence\n",
        "# 'Audi', 'BMW', 'Chevy', 'Dodge'\n",
        "print('Mercedes') # False\n",
        "print('Mercedes') # True\n",
        "print('Chevy') # True\n",
        "print('Chevy') # False"
      ],
      "execution_count": 10,
      "outputs": [
        {
          "output_type": "stream",
          "name": "stdout",
          "text": [
            "Mercedes\n",
            "Mercedes\n",
            "Chevy\n",
            "Chevy\n"
          ]
        }
      ]
    },
    {
      "cell_type": "code",
      "source": [
        "# use in and not in to append conditionally to list:\n",
        "# that is, add item but only if it is not already there:\n",
        "# 'Mercedes'\n",
        "\n",
        "# if # True, so code below will run:\n",
        "\n",
        "\n",
        "print()"
      ],
      "metadata": {
        "colab": {
          "base_uri": "https://localhost:8080/"
        },
        "id": "3OhYuDTA46L_",
        "outputId": "34c9a340-6c03-4ece-d3f5-59cf015b09e7"
      },
      "execution_count": 11,
      "outputs": [
        {
          "output_type": "stream",
          "name": "stdout",
          "text": [
            "\n"
          ]
        }
      ]
    },
    {
      "cell_type": "code",
      "source": [
        "# add car to cars if it starts with \"A\"\n",
        "# 'Toyota'\n",
        "\n",
        "# 'A': # True, so code below will run:\n",
        "\n",
        "\n",
        "print()"
      ],
      "metadata": {
        "colab": {
          "base_uri": "https://localhost:8080/"
        },
        "id": "7T7axDikMoSy",
        "outputId": "48dddcff-3439-4bbe-d252-4e3d621a9d6e"
      },
      "execution_count": 12,
      "outputs": [
        {
          "output_type": "stream",
          "name": "stdout",
          "text": [
            "\n"
          ]
        }
      ]
    },
    {
      "cell_type": "code",
      "source": [
        "# CHALLENGE: make an input() to accept a test score as integer from 0-100\n",
        "# 'Test Score: '\n",
        "# write if-else which compares score to 65\n",
        "# if score is >= 65, print \"You PASSED the test!\"\n",
        "Score_ = int(input(\"Enter your test score 0-100\"))\n",
        "\n",
        "if Score_ > 0 and Score_ <= 100:\n",
        "  if Score_ >= 65:\n",
        "    print('You PASSED the test!')\n",
        "    else:\n",
        "      print(\"Sorry! You FAILED the test!\")\n",
        "# else print \"Sorry! You FAILED the test!\"\n",
        "else:\n",
        "  print(\"Sorry! Score is invalid, Score\"_)\n",
        "\n",
        "# run it twice, once to pass and again to fail\n",
        "#if Score_ >= 65:\n",
        " # print(\"You PASSED the test!\", Score_)\n",
        "  #print(\"Congrats! You got an A and a free!\")\n",
        "# 'What was your test score? '\n",
        "#print(Score_)\n",
        "# 'You PASSED the test'\n",
        "\n",
        "#print(\"Sorry! You FAILED the test!\")\n",
        "# 'What was your test score? '\n",
        "#print('You passed the test!!!')\n",
        "\n",
        "# 'You FAILED the test'\n",
        "\n",
        "#\n",
        "#print(\"Sorry! You FAILED the test!\")"
      ],
      "metadata": {
        "colab": {
          "base_uri": "https://localhost:8080/",
          "height": 106
        },
        "id": "fsFHkryn1lNn",
        "outputId": "6106b517-de2a-43da-ec16-1ed1f28d8ed8"
      },
      "execution_count": 13,
      "outputs": [
        {
          "output_type": "error",
          "ename": "SyntaxError",
          "evalue": "invalid syntax (<ipython-input-13-cd6dc6efc76b>, line 10)",
          "traceback": [
            "\u001b[0;36m  File \u001b[0;32m\"<ipython-input-13-cd6dc6efc76b>\"\u001b[0;36m, line \u001b[0;32m10\u001b[0m\n\u001b[0;31m    else:\u001b[0m\n\u001b[0m    ^\u001b[0m\n\u001b[0;31mSyntaxError\u001b[0m\u001b[0;31m:\u001b[0m invalid syntax\n"
          ]
        }
      ]
    },
    {
      "cell_type": "code",
      "source": [
        "# CHALLENGE: make an input() to accept a test score as integer from 0-100\n",
        "# 'Test Score: '\n",
        "# write if-else which compares score to 65\n",
        "# if score is >= 65, print \"You PASSED the test!\"\n",
        "# else print \"Sorry! You FAILED the test!\"\n",
        "# run it twice, once to pass and again to fail\n",
        "\n",
        "# 'What was your test score? '\n",
        "\n",
        "\n",
        "# 'You PASSED the test'\n",
        "\n",
        "# 'You FAILED the test'"
      ],
      "metadata": {
        "id": "TocOyZ_B5xFM"
      },
      "execution_count": 18,
      "outputs": []
    },
    {
      "cell_type": "markdown",
      "source": [
        "- **elif** is for evaluating condition(s) in between the if and else\n",
        "- **and** is for evaluating two conditions, both of which must be true\n",
        "- **or** is for evaluating two conditions, only one of which must be true"
      ],
      "metadata": {
        "id": "HDOqJxdaRbrq"
      }
    },
    {
      "cell_type": "code",
      "metadata": {
        "id": "mN4lVunQShAS",
        "colab": {
          "base_uri": "https://localhost:8080/",
          "height": 211
        },
        "outputId": "8ccfd64a-f31f-41f4-b9af-e9365c04afa6"
      },
      "source": [
        "# if - elif - else (elif is short for \"else if\")\n",
        "# use elif to evaluate a 2nd condition before resorting to the else part\n",
        "'test score '\n",
        "\n",
        "is_\n",
        "# False\n",
        " # True\n",
        "# 'concert ticket' # must have 95+ to be eligible\n",
        "# bool must be true to get reward\n",
        "\n",
        "# how to refactor logic so that score of 95+ gets a\n",
        "# reward BUT only if boolean is true\n",
        "\n",
        "# if\n",
        "# \"Please enter a score from 0-100\"\n",
        "\n",
        "# \"Congrats! You got an A and a free!\")\"\n",
        "\n",
        "# \"Congrats! You got an A!\"\n",
        "\n",
        "# \"Good job! You got a B!\"\n",
        "\n",
        "# \"Okay! You got a C!\"\n",
        "\n",
        "# \"Yikes! You got a D!\"\n",
        "\n",
        "# \"Sorry! You FAILED the test!\""
      ],
      "execution_count": 19,
      "outputs": [
        {
          "output_type": "error",
          "ename": "NameError",
          "evalue": "name 'is_' is not defined",
          "traceback": [
            "\u001b[0;31m---------------------------------------------------------------------------\u001b[0m",
            "\u001b[0;31mNameError\u001b[0m                                 Traceback (most recent call last)",
            "\u001b[0;32m<ipython-input-19-6fbce0c339a6>\u001b[0m in \u001b[0;36m<cell line: 5>\u001b[0;34m()\u001b[0m\n\u001b[1;32m      3\u001b[0m \u001b[0;34m'test score '\u001b[0m\u001b[0;34m\u001b[0m\u001b[0;34m\u001b[0m\u001b[0m\n\u001b[1;32m      4\u001b[0m \u001b[0;34m\u001b[0m\u001b[0m\n\u001b[0;32m----> 5\u001b[0;31m \u001b[0mis_\u001b[0m\u001b[0;34m\u001b[0m\u001b[0;34m\u001b[0m\u001b[0m\n\u001b[0m\u001b[1;32m      6\u001b[0m \u001b[0;31m# False\u001b[0m\u001b[0;34m\u001b[0m\u001b[0;34m\u001b[0m\u001b[0m\n\u001b[1;32m      7\u001b[0m  \u001b[0;31m# True\u001b[0m\u001b[0;34m\u001b[0m\u001b[0;34m\u001b[0m\u001b[0m\n",
            "\u001b[0;31mNameError\u001b[0m: name 'is_' is not defined"
          ]
        }
      ]
    },
    {
      "cell_type": "code",
      "source": [
        "# Refactor the above code to print out Letter grades A-F\n",
        "# CHALLENGE: make an input() to accept a test score as integer from 0-100\n",
        "# 'Test Score: '\n",
        "# write if-else which compares score to 65\n",
        "# if score is >= 65, print \"You PASSED the test!\"\n",
        "# else print \"Sorry! You FAILED the test!\"\n",
        "# run it twice, once to pass and again to fail\n",
        "# 'concert ticket' # must have 95+ to be eligible\n",
        "# bool must be true to get reward\n",
        "\n",
        "# how to refactor logic so that score of 95+ gets a\n",
        "# reward BUT only if boolean is true\n",
        "# 'What was your test score? '\n",
        "\n",
        "\n",
        "# 'You PASSED the test'\n",
        "\n",
        "# 'You FAILED the test'\n",
        "# \"Please enter a score from 0-100\"\n",
        "\n",
        "Grade_Score = int(input(\"Please enter a score from 0-100:\"))\n",
        "if(Grade_Score>=0 and Grade_Score<=100):\n",
        "  if(Grade_Score>=95 and Grade_Score<=100):\n",
        "    print(\"Congrats! You got an A and a free concert ticket!\")\n",
        "  elif(Grade_Score>=90 and Grade_Score <95):\n",
        "        print(\"Congrats! You got a A!\")\n",
        "  elif(Grade_Score>=80 and Grade_Score <90):\n",
        "        print(\"Good Job You got a B!\")\n",
        "  elif(Grade_Score>=70 and Grade_Score <80):\n",
        "        print(\"Okay! You got a C!\")\n",
        "  elif(Grade_Score>=65 and Grade_Score <70):\n",
        "        print(\"Yikes! You got a D!\")\n",
        "  elif(Grade_Score<65):\n",
        "       print('Sorry! You FAILED the test!')\n",
        "else: print(\"Please enter a valid score\")"
      ],
      "metadata": {
        "colab": {
          "base_uri": "https://localhost:8080/"
        },
        "id": "TmaqVPOy8dtz",
        "outputId": "99f1b351-4c0b-448e-e53d-677275c52395"
      },
      "execution_count": 58,
      "outputs": [
        {
          "output_type": "stream",
          "name": "stdout",
          "text": [
            "Please enter a score from 0-100:78\n",
            "Okay! You got a C!\n"
          ]
        }
      ]
    },
    {
      "cell_type": "code",
      "source": [
        "score = int(input(\"Please enter a score from 0-100:\"))\n",
        "if(score >=0 and score <=100):\n",
        "    if(score >=80 and score<=100):\n",
        "        print(f\"Your score is {score}. Congrats! You got an A!\")\n",
        "    elif(score>=70 and score<80):\n",
        "        print(f\"Your score is {score}. Good job! You got an B!\")\n",
        "    elif(score>=60 and score<70):\n",
        "        print(f\"Your score is {score}. Okay! You got an C!\")\n",
        "    elif(score>=35 and score<60):\n",
        "        print(f\"Your score is {score}. Yikes! You got an D!\")\n",
        "    elif(score<35):\n",
        "        print(f\"Your score is {score}. Sorry! You failed the test\")\n",
        "else:\n",
        "    print(\"Please enter a valid score\")"
      ],
      "metadata": {
        "id": "5pPZgYTi-BLd"
      },
      "execution_count": null,
      "outputs": []
    },
    {
      "cell_type": "markdown",
      "source": [
        "**Fibonacci sequence** is a sequence of numbers in which each\n",
        "\n",
        " number is the sum of the two preceding nums: [0,1,1,2,3,5,8,13,21]"
      ],
      "metadata": {
        "id": "cNCo8UBpUSyJ"
      }
    },
    {
      "cell_type": "code",
      "source": [
        "# [0,1,1,2,3,5,8,13,21]"
      ],
      "metadata": {
        "id": "f0KqN2uW85im"
      },
      "execution_count": null,
      "outputs": []
    },
    {
      "cell_type": "code",
      "source": [
        "# using input() have user enter a number\n",
        "# check if it is the next number in the fibonacci\n",
        "# sequence and if so, append it to fibos list\n",
        "# else print \"X is not next number in fibonacci sequence\"\n",
        "# \"Given Fibonacci sequence\"\n",
        "# \"What's the next number? \"\n",
        "\n",
        "# if\n",
        "\n",
        "# \" is not the next number. Try again.\"\n",
        "\n",
        "# \" is not the next number in the fibonacci sequence\"\n",
        "print()\n",
        "\n",
        "# \"Updated Fibonacci sequence: \""
      ],
      "metadata": {
        "id": "_dFiN8au9Tkd"
      },
      "execution_count": null,
      "outputs": []
    },
    {
      "cell_type": "code",
      "source": [],
      "metadata": {
        "id": "XWQcbq7YKtOg"
      },
      "execution_count": null,
      "outputs": []
    }
  ]
}