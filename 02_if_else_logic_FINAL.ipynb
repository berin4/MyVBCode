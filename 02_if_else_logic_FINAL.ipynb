{
  "nbformat": 4,
  "nbformat_minor": 0,
  "metadata": {
    "colab": {
      "provenance": [],
      "include_colab_link": true
    },
    "kernelspec": {
      "name": "python3",
      "display_name": "Python 3"
    },
    "language_info": {
      "name": "python"
    }
  },
  "cells": [
    {
      "cell_type": "markdown",
      "metadata": {
        "id": "view-in-github",
        "colab_type": "text"
      },
      "source": [
        "<a href=\"https://colab.research.google.com/github/berin4/MyVBCode/blob/master/02_if_else_logic_FINAL.ipynb\" target=\"_parent\"><img src=\"https://colab.research.google.com/assets/colab-badge.svg\" alt=\"Open In Colab\"/></a>"
      ]
    },
    {
      "cell_type": "markdown",
      "metadata": {
        "id": "4dnX330-L99l"
      },
      "source": [
        "##If-Else Logic\n",
        "###If a condition is true, do something\n",
        "###Else, do nothing or do something else\n",
        "\n",
        "###Math Operators\n",
        "  - ** exponents: 2 ** 3 = 8\n",
        "  - % modulo operator returns remainder: 11 % 3 = 2\n",
        "\n",
        "- **comparison operator** gees between 2 values and compares them\n",
        "- the comparison returns either **True** or **False**\n",
        "\n",
        "**=** single equal sign is the **Assignment Operator** (it SETS a value).  \n",
        "**==** double equal sign is the **Comparison Operator** (it COMPARES 2 values and returns a boolean)"
      ]
    },
    {
      "cell_type": "markdown",
      "metadata": {
        "id": "Zq_lsMvzM1Lr"
      },
      "source": [
        "###== Comparison Operator: double equal signs"
      ]
    },
    {
      "cell_type": "markdown",
      "metadata": {
        "id": "8vWn6CpDNlBf"
      },
      "source": [
        "###Greater-than, Less-than Operators: <, >, <=, >=\n",
        "### Not Equal To: !="
      ]
    },
    {
      "cell_type": "code",
      "metadata": {
        "id": "we3fRkrbL7Io",
        "colab": {
          "base_uri": "https://localhost:8080/"
        },
        "outputId": "3f42aee9-81d4-4fd5-bf36-4249801cd22d"
      },
      "source": [
        "# = single equal sign is the Assignment Operator (it SETS a value)\n",
        "# == double equal sign is the Comparison Operator (it COMPARES 2 values and returns a boolean)\n",
        "# < and > are less than and greater than, respectively\n",
        "# <= and >= are less than or equal to and and greater than or equal to\n",
        "# these are called inequalities and you can use them in if statements\n",
        "\n",
        "# comparison operator gpes between 2 values and compares them\n",
        "# the comparison returns either True or False\n",
        "print('4 == 4:', 4 == 4) # True\n",
        "print('3 < 5:', 3 < 5) # True\n",
        "print('5 < 3:', 5 < 3) # False\n",
        "print('3 > 5:', 3 > 5) # False\n",
        "print('5 > 3:', 5 > 3) # True\n",
        "print('4 >= 4:', 4 >= 4) # True\n",
        "print('4 >= 3:', 4 >= 3) # True\n",
        "print('4 != 4:', 4 != 4) # False\n",
        "print('4 != 3:', 4 != 3) # True"
      ],
      "execution_count": null,
      "outputs": [
        {
          "output_type": "stream",
          "name": "stdout",
          "text": [
            "4 == 4: True\n",
            "3 < 5: True\n",
            "5 < 3: False\n",
            "3 > 5: False\n",
            "5 > 3: True\n",
            "4 >= 4: True\n",
            "4 >= 3: True\n",
            "4 != 4: False\n",
            "4 != 3: True\n"
          ]
        }
      ]
    },
    {
      "cell_type": "markdown",
      "source": [
        "**if** is followed by a condition to evaluate\n",
        "- condition uses a comparison operator (==, <, >, !=, etc)\n",
        "- condition returns a **boolean**\n",
        "- if **True** code inside if block runs\n",
        "- if **False** code inside if block does not run"
      ],
      "metadata": {
        "id": "csErgbstDw_8"
      }
    },
    {
      "cell_type": "code",
      "source": [
        "# if it returns True, it executes the code\n",
        "# inside the if-block\n",
        "# in Python the if-block code is indented\n",
        "# if the condition is False, the if-block code is ignored\n",
        "x = 17\n",
        "\n",
        "if x > 15:\n",
        "  print('It\\'s true! x is greater than 15')"
      ],
      "metadata": {
        "colab": {
          "base_uri": "https://localhost:8080/"
        },
        "id": "McosXmR7DbMz",
        "outputId": "616c6d2f-ede6-493d-a3dd-6c6c3446230d"
      },
      "execution_count": null,
      "outputs": [
        {
          "output_type": "stream",
          "name": "stdout",
          "text": [
            "It's true! x is greater than 15\n",
            "25\n",
            "125\n",
            "625\n",
            "x squared is NOT 50\n",
            "remainder is 2\n",
            "remainder is NOT 2\n"
          ]
        }
      ]
    },
    {
      "cell_type": "markdown",
      "source": [
        "**x ** 2** means x squared (** is the exponentiation operator)"
      ],
      "metadata": {
        "id": "AQuDeAMBFtJi"
      }
    },
    {
      "cell_type": "code",
      "source": [
        "# ** is for expontents: base ** power\n",
        "x = 5\n",
        "print(x**2) # 25\n",
        "print(x**3) # 125\n",
        "print(x**4) # 625"
      ],
      "metadata": {
        "id": "3xeOUoRYFshx"
      },
      "execution_count": null,
      "outputs": []
    },
    {
      "cell_type": "markdown",
      "source": [
        "**else** is used to run code when **if** condition is **False**"
      ],
      "metadata": {
        "id": "RhkeGFIKFhKT"
      }
    },
    {
      "cell_type": "code",
      "source": [
        "# if evaluates a boolean comparison:\n",
        "# if runs if boolean comparison returns True\n",
        "if x**2 == 50:\n",
        "  print('x squared is 50')\n",
        "else: # runs if boolean comparison returns False\n",
        "  print('x squared is NOT 50')"
      ],
      "metadata": {
        "id": "X3iqZuP2Fd-T"
      },
      "execution_count": null,
      "outputs": []
    },
    {
      "cell_type": "markdown",
      "source": [
        "**17 % 5** modulus operator returns the remainder (2)"
      ],
      "metadata": {
        "id": "x0pu8WqYGPZj"
      }
    },
    {
      "cell_type": "code",
      "source": [
        "# % mod operator returns remainder of num1 divided by num2: num1 % num2\n",
        "if 11 % 3 == 2:\n",
        "  print('11/3 yields remainder of 2')\n",
        "\n",
        "if 11 % 3 == 5:\n",
        "  print('11/3 yields remainder of 5')\n",
        "else:\n",
        "  print('11/3 yields remainder of ' + str(11%3))"
      ],
      "metadata": {
        "colab": {
          "base_uri": "https://localhost:8080/"
        },
        "id": "5tDhGOp1GOVV",
        "outputId": "fb5cae70-2f38-4c8b-8240-177ebe581895"
      },
      "execution_count": null,
      "outputs": [
        {
          "output_type": "stream",
          "name": "stdout",
          "text": [
            "11/3 yields remainder of 2\n",
            "11/3 yields remainder of 2\n"
          ]
        }
      ]
    },
    {
      "cell_type": "markdown",
      "source": [
        "####**f\"Hi, {first_name} {last_name}!\"** formatting intead of concatenation\n",
        "- string concatenation can get too complicated with all the \"\" and +\n",
        "- string concatenation also fails when you include numbers, so you have to stringify nums: str(x)\n",
        "- as an alternative to reg str concat, use **f\"\"** formatting\n",
        "- only need ONE set of quotes\n",
        "- variables go inside **{x}** curly braces\n",
        "- handles number variables with no problem"
      ],
      "metadata": {
        "id": "ROnI5n5PBnub"
      }
    },
    {
      "cell_type": "code",
      "source": [
        "# regular string concatenation can get too complicated:\n",
        "first_name = \"Brian\"\n",
        "last_name = \"McClain\"\n",
        "high_score = 12345\n",
        "greeting = \"Welcome, \" + first_name + \" \" + last_name + \"! Your high score is \" + str(high_score) + \"!\"\n",
        "print(greeting) # \"Welcome, Brian McClain! Your high score is 12345!\""
      ],
      "metadata": {
        "colab": {
          "base_uri": "https://localhost:8080/"
        },
        "id": "p8ZQ_s7dAavY",
        "outputId": "03b63012-81bc-485d-e193-4687271bad9e"
      },
      "execution_count": null,
      "outputs": [
        {
          "output_type": "stream",
          "name": "stdout",
          "text": [
            "Welcome, Brian McClain! Your high score is 12345!\n"
          ]
        }
      ]
    },
    {
      "cell_type": "code",
      "source": [
        "# as an alternative to reg str concat, use f\"\" formatting\n",
        "greeting = f\"Welcome, {first_name} {last_name} ! Your high score is {high_score}!\"\n",
        "# \"Welcome! Your high score is !\"\n",
        "print(greeting)"
      ],
      "metadata": {
        "colab": {
          "base_uri": "https://localhost:8080/"
        },
        "id": "wX4OJ-FFBKJp",
        "outputId": "bb210937-96f2-4423-abda-7f92ccfa10a5"
      },
      "execution_count": null,
      "outputs": [
        {
          "output_type": "stream",
          "name": "stdout",
          "text": [
            "Welcome, Brian McClain ! Your high score is 12345!\n"
          ]
        }
      ]
    },
    {
      "cell_type": "markdown",
      "source": [
        "**strings have list-like properties, len and index**\n",
        "- **string[index]** returns the character at specified index\n",
        "- **\"apple\"[0]** is \"a\""
      ],
      "metadata": {
        "id": "twfuserfJbLz"
      }
    },
    {
      "cell_type": "code",
      "metadata": {
        "id": "j2ckHdAbM4Re",
        "colab": {
          "base_uri": "https://localhost:8080/"
        },
        "outputId": "a25e8cd1-76f5-4ecc-f6a5-504da1ee3a69"
      },
      "source": [
        "# declare a string var and use if-else logic to\n",
        "# run code based on what letter it starts with\n",
        "veg = 'carrot'\n",
        "print(len(veg)) # 6\n",
        "print(len(veg) == 5) # False\n",
        "print(veg[-1]) # t\n",
        "\n",
        "# using == check if veggie starts with 'c'\n",
        "if(veg[0] == 'c'):\n",
        "  print(f'{veg} starts with C')\n",
        "\n",
        "veg = 'kale'\n",
        "if(veg[0] == 'c'):\n",
        "  print(f'{veg} starts with C')\n",
        "else:\n",
        "  print(f'{veg} does NOT start with C. It starts with {veg[0]}')\n",
        "\n",
        "# add a new veg only if it starts with 'c'\n",
        "\n",
        "# declare a new empty list\n",
        "veggies = []\n",
        "\n",
        "new_veg = 'celery'\n",
        "\n",
        "if(new_veg[0] == 'c'):\n",
        "  veggies.append(new_veg)\n",
        "\n",
        "print(veggies) # ['celery']\n",
        "print(veggies[0]) # celery"
      ],
      "execution_count": null,
      "outputs": [
        {
          "output_type": "stream",
          "name": "stdout",
          "text": [
            "6\n",
            "False\n",
            "t\n",
            "carrot starts with C\n",
            "kale does NOT start with C. It starts with k\n",
            "['celery']\n",
            "celery\n"
          ]
        }
      ]
    },
    {
      "cell_type": "markdown",
      "source": [
        "**in** and **not in** keywords are also used for boolean comparisons\n",
        "- they check for existence of an item in a list or a char in a str"
      ],
      "metadata": {
        "id": "P5Wy68OSLJGR"
      }
    },
    {
      "cell_type": "code",
      "metadata": {
        "id": "tsoMpT9hP8Ig",
        "colab": {
          "base_uri": "https://localhost:8080/"
        },
        "outputId": "087f8a04-7626-4f21-e544-220cd716c9d7"
      },
      "source": [
        "# in and not in keywords also used for bool comparisons\n",
        "# they check for existence\n",
        "cars = ['Audi', 'BMW', 'Chevy', 'Dodge']\n",
        "print('Mercedes' in cars) # False\n",
        "print('Mercedes' not in cars) # True\n",
        "print('Chevy' in cars) # True\n",
        "print('Chevy' not in cars) # False"
      ],
      "execution_count": null,
      "outputs": [
        {
          "output_type": "stream",
          "name": "stdout",
          "text": [
            "False\n",
            "True\n",
            "True\n",
            "False\n"
          ]
        }
      ]
    },
    {
      "cell_type": "code",
      "source": [
        "# use in and not in to append conditionally to list:\n",
        "# that is, add item but only if it is not already there:\n",
        "new_car = 'Mercedes'\n",
        "\n",
        "if new_car not in cars: # True, so code below will run:\n",
        "  cars.append(new_car)\n",
        "\n",
        "print(cars)"
      ],
      "metadata": {
        "colab": {
          "base_uri": "https://localhost:8080/"
        },
        "id": "3OhYuDTA46L_",
        "outputId": "bd73767b-895f-4211-8a75-5d7c7e08e93d"
      },
      "execution_count": null,
      "outputs": [
        {
          "output_type": "stream",
          "name": "stdout",
          "text": [
            "['Audi', 'BMW', 'Chevy', 'Dodge', 'Mercedes']\n"
          ]
        }
      ]
    },
    {
      "cell_type": "code",
      "source": [
        "# add car to cars if it starts with \"A\"\n",
        "new_car = 'Toyota'\n",
        "\n",
        "if new_car[0] == 'A': # True, so code below will run:\n",
        "  cars.append(new_car)\n",
        "\n",
        "print(cars)"
      ],
      "metadata": {
        "colab": {
          "base_uri": "https://localhost:8080/"
        },
        "id": "7T7axDikMoSy",
        "outputId": "4c327834-d42b-45fb-f39c-3e0051f146af"
      },
      "execution_count": null,
      "outputs": [
        {
          "output_type": "stream",
          "name": "stdout",
          "text": [
            "['Audi', 'BMW', 'Chevy', 'Dodge', 'Mercedes', 'Aston Martin']\n"
          ]
        }
      ]
    },
    {
      "cell_type": "code",
      "source": [
        "# CHALLENGE: make an input() to accept a test score as integer from 0-100\n",
        "# 'Test Score: '\n",
        "# write if-else which compares score to 65\n",
        "# if score is >= 65, print \"You PASSED the test!\"\n",
        "# else print \"Sorry! You FAILED the test!\"\n",
        "# run it twice, once to pass and again to fail\n",
        "\n",
        "test_score = int(input('What was your test score? '))\n",
        "\n",
        "if test_score >= 65:\n",
        "  print('You PASSED the test')\n",
        "else:\n",
        "  print('You FAILED the test')"
      ],
      "metadata": {
        "id": "TocOyZ_B5xFM",
        "colab": {
          "base_uri": "https://localhost:8080/"
        },
        "outputId": "39da39cf-7afe-4306-a568-c20d2b67a186"
      },
      "execution_count": null,
      "outputs": [
        {
          "output_type": "stream",
          "name": "stdout",
          "text": [
            "What was your test score? 55\n",
            "You FAILED the test\n"
          ]
        }
      ]
    },
    {
      "cell_type": "markdown",
      "source": [
        "- **elif** is for evaluating condition(s) in between the if and else\n",
        "- **and** is for evaluating two conditions, both of which must be true\n",
        "- **or** is for evaluating two conditions, only one of which must be true"
      ],
      "metadata": {
        "id": "HDOqJxdaRbrq"
      }
    },
    {
      "cell_type": "code",
      "metadata": {
        "id": "mN4lVunQShAS",
        "colab": {
          "base_uri": "https://localhost:8080/"
        },
        "outputId": "40618254-afe9-4298-bd7b-8b6f26e343b6"
      },
      "source": [
        "# if - elif - else (elif is short for \"else if\")\n",
        "# use elif to evaluate a 2nd condition before resorting to the else part\n",
        "test_score = int(input('test score '))\n",
        "\n",
        "is_reward = True\n",
        "is_reward = not is_reward # False\n",
        "is_reward = not is_reward # True\n",
        "reward = 'concert ticket' # must have 95+ to be eligible\n",
        "# bool must be true to get reward\n",
        "\n",
        "# how to refactor logic so that score of 95+ gets a\n",
        "# reward BUT only if boolean is true\n",
        "\n",
        "if test_score > 100 or test_score < 0:\n",
        "  print(\"Please enter a score from 0-100\")\n",
        "elif test_score >= 95 and is_reward:\n",
        "  print(f\"Congrats! You got an A and a free {reward}!\")\n",
        "elif test_score >= 90:\n",
        "  print(\"Congrats! You got an A!\")\n",
        "elif test_score >= 80:\n",
        "  print(\"Good job! You got a B!\")\n",
        "elif test_score >= 70:\n",
        "  print(\"Okay! You got a C!\")\n",
        "elif test_score >= 65:\n",
        "  print(\"Yikes! You got a D!\")\n",
        "else:\n",
        "  print(\"Sorry! You FAILED the test!\")"
      ],
      "execution_count": null,
      "outputs": [
        {
          "output_type": "stream",
          "name": "stdout",
          "text": [
            "test score 99\n",
            "Congrats! You got an A and a free concert ticket!\n"
          ]
        }
      ]
    },
    {
      "cell_type": "markdown",
      "source": [
        "**Fibonacci sequence** is a sequence of numbers in which each\n",
        "\n",
        " number is the sum of the two preceding nums: [0,1,1,2,3,5,8,13,21]"
      ],
      "metadata": {
        "id": "cNCo8UBpUSyJ"
      }
    },
    {
      "cell_type": "code",
      "source": [
        "fibos = [0,1,1,2,3,5,8,13,21]"
      ],
      "metadata": {
        "id": "f0KqN2uW85im"
      },
      "execution_count": null,
      "outputs": []
    },
    {
      "cell_type": "code",
      "source": [
        "# using input() have user enter a number\n",
        "# check if it is the next number in the fibonacci\n",
        "# sequence and if so, append it to fibos list\n",
        "# else print \"X is not next number in fibonacci sequence\"\n",
        "print(f\"Given Fibonacci sequence: {fibos}\")\n",
        "num = int(input(\"What's the next number? \"))\n",
        "\n",
        "if num == fibos[-1] + fibos[-2]:\n",
        "  fibos.append(num)\n",
        "else:\n",
        "  print(f\"{num} is not the next number. Try again.\")\n",
        "\n",
        "# \" is not the next number in the fibonacci sequence\"\n",
        "print(fibos)\n",
        "\n",
        "print(f\"Updated Fibonacci sequence: {fibos}\")"
      ],
      "metadata": {
        "colab": {
          "base_uri": "https://localhost:8080/"
        },
        "id": "_dFiN8au9Tkd",
        "outputId": "c321a841-de6d-420c-b5d7-9960ef46938d"
      },
      "execution_count": null,
      "outputs": [
        {
          "output_type": "stream",
          "name": "stdout",
          "text": [
            "Given Fibonacci sequence: [0, 1, 1, 2, 3, 5, 8, 13, 21, 34, 55, 89, 144, 233]\n",
            "What's the next number? 45\n",
            "45 is not the next number. Try again.\n",
            "[0, 1, 1, 2, 3, 5, 8, 13, 21, 34, 55, 89, 144, 233]\n",
            "Updated Fibonacci sequence: [0, 1, 1, 2, 3, 5, 8, 13, 21, 34, 55, 89, 144, 233]\n"
          ]
        }
      ]
    },
    {
      "cell_type": "code",
      "source": [],
      "metadata": {
        "id": "XWQcbq7YKtOg"
      },
      "execution_count": null,
      "outputs": []
    }
  ]
}