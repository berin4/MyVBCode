{
  "cells": [
    {
      "cell_type": "markdown",
      "metadata": {
        "id": "view-in-github",
        "colab_type": "text"
      },
      "source": [
        "<a href=\"https://colab.research.google.com/github/berin4/MyVBCode/blob/master/01_Variables_and_Datatypes_List_Methods_START.ipynb\" target=\"_parent\"><img src=\"https://colab.research.google.com/assets/colab-badge.svg\" alt=\"Open In Colab\"/></a>"
      ]
    },
    {
      "cell_type": "markdown",
      "metadata": {
        "id": "e2-NmQ2S5WQZ"
      },
      "source": [
        "# **Lesson 01: Variables and Datatypes**\n",
        "\n",
        "### A **comment** explains what code does or it deactivates code\n",
        "### **Variables** are named containers that store a value\n",
        "\n",
        "### **Datatypes**: Variables are of several datatypes\n",
        "\n",
        "\n",
        "#### **Variable naming rules**:\n",
        "\n",
        "#### **Variable naming conventions**:\n",
        "\n",
        "#### **Methods** take a value between parentheses, perform an operation and return a value:\n",
        "\n",
        "#### **Markdown** makes Python Notebooks more readable and engaging. This is written in markdown.\n",
        "\n",
        "#### **round() input(), int() functions / methods**\n",
        "#### **math** module for generating **PI** (and doing other stuff)"
      ]
    },
    {
      "cell_type": "markdown",
      "source": [
        "# Python Notes\n",
        "\n",
        "- general scripting language with a wide use of applications\n",
        "- dynamically typed\n",
        "- interpreted language (opposed to compiled, Java , C++ are compiled)\n",
        "- it's a good languages to quickly develop code"
      ],
      "metadata": {
        "id": "zE7_5dWxlD1c"
      }
    },
    {
      "cell_type": "markdown",
      "metadata": {
        "id": "B2WW-0JsGQJa"
      },
      "source": [
        "**comments**"
      ]
    },
    {
      "cell_type": "code",
      "execution_count": null,
      "metadata": {
        "id": "tzzvpkFVtvWB"
      },
      "outputs": [],
      "source": [
        "# comments in Python start with a pound sign or hashtag\n",
        "# comments describe what the code is doing / why it is there\n",
        "# comments are for us humans to read and are ignored by the actual code\n",
        "# \"commenting out code\" means deactivating code by turning it into a comment\n",
        "# comments keyboard shortcut: Command-Slash\n",
        "\n",
        "# this is a new change"
      ]
    },
    {
      "cell_type": "code",
      "source": [
        "# import math module\n",
        "# allow us to display images:\n"
      ],
      "metadata": {
        "id": "9YADi3Z-OPiQ"
      },
      "execution_count": null,
      "outputs": []
    },
    {
      "cell_type": "code",
      "source": [
        "# connect to Google Drive so that we can load assets:\n"
      ],
      "metadata": {
        "id": "zrbJCTZUdUvz"
      },
      "execution_count": null,
      "outputs": []
    },
    {
      "cell_type": "code",
      "source": [
        "base_url = ''\n",
        "img_url = ''"
      ],
      "metadata": {
        "id": "hKI1jyt0eD14"
      },
      "execution_count": null,
      "outputs": []
    },
    {
      "cell_type": "code",
      "source": [
        "print() # <class 'module'>"
      ],
      "metadata": {
        "colab": {
          "base_uri": "https://localhost:8080/"
        },
        "id": "kP-4xZ6vOW2n",
        "outputId": "cae068e5-e95d-4dee-ab91-3b9649c7ca50"
      },
      "execution_count": null,
      "outputs": [
        {
          "output_type": "stream",
          "name": "stdout",
          "text": [
            "\n"
          ]
        }
      ]
    },
    {
      "cell_type": "markdown",
      "metadata": {
        "id": "PAutyRAfHEvc"
      },
      "source": [
        "# **variables**\n",
        "- variables are named **objects** that store a *value*.\n",
        "- variables are the building blocks of all programs\n",
        "- variable (vars for short) come in different datatypes:\n",
        "  - **string**: text in quotes: \"Hello\" or 'Hello! Aren\\'t you Joe?'\n",
        "  - **integer**: whole number: 12345\n",
        "  - **float**: decimal: 3.1415\n",
        "  - **boolean**: True or False *only*\n",
        "  - **list**: ['kiwi', 'lime', 'plum', 'pear']\n",
        "  - variables are name-value pairs: **name = value**\n",
        "\n",
        "**string variables**\n",
        "- strings are text in quotes, either single or double\n",
        "- nested quotes can be resolved by mixing-and-matching single and double or by escaping inner quotes with a backslash"
      ]
    },
    {
      "cell_type": "code",
      "execution_count": null,
      "metadata": {
        "id": "RtM7E1t2HDQW"
      },
      "outputs": [],
      "source": [
        "# 1. Declare two variables: on in single quotes, the other in double\n",
        "\n",
        "# left hand side is the variable name = the data\n",
        "\n",
        "name = \"Dom\"\n"
      ]
    },
    {
      "cell_type": "code",
      "source": [
        "# Exercise: Make a new variable with your name\n",
        "\n",
        "name = \"Dominic\"\n",
        "name"
      ],
      "metadata": {
        "colab": {
          "base_uri": "https://localhost:8080/",
          "height": 35
        },
        "id": "njasyiJfmALz",
        "outputId": "526bbcec-63d0-4274-f15a-39c4190b8217"
      },
      "execution_count": null,
      "outputs": [
        {
          "output_type": "execute_result",
          "data": {
            "text/plain": [
              "'Dominic'"
            ],
            "application/vnd.google.colaboratory.intrinsic+json": {
              "type": "string"
            }
          },
          "metadata": {},
          "execution_count": 7
        }
      ]
    },
    {
      "cell_type": "code",
      "source": [
        "name = 'Dom'\n",
        "name"
      ],
      "metadata": {
        "colab": {
          "base_uri": "https://localhost:8080/",
          "height": 35
        },
        "id": "ABBuqTp0M-xl",
        "outputId": "2a5a0083-9b99-4e19-b9ae-12977102207f"
      },
      "execution_count": null,
      "outputs": [
        {
          "output_type": "execute_result",
          "data": {
            "text/plain": [
              "'Dom'"
            ],
            "application/vnd.google.colaboratory.intrinsic+json": {
              "type": "string"
            }
          },
          "metadata": {},
          "execution_count": 8
        }
      ]
    },
    {
      "cell_type": "markdown",
      "metadata": {
        "id": "1iBQIFkfIziP"
      },
      "source": [
        "**print() method**\n",
        "- **print()** is a **method**\n",
        "- methods perform useful functions\n",
        "- methods take data in their parentheses\n",
        "- the data in the parentheses of a method is called the **argument** (arg for short)\n",
        "- the **print()** method takes as its arg(s) whatever you want to print out as its argument.\n",
        "- print multiple items separated by comma(s)\n",
        "\n",
        "**concatenation**\n",
        "- strings can be joined into one longer string\n",
        "- this is called *concatenation*\n",
        "- **+** is the *concatenation operator*"
      ]
    },
    {
      "cell_type": "code",
      "execution_count": null,
      "metadata": {
        "id": "dGQyHs7TJciW",
        "colab": {
          "base_uri": "https://localhost:8080/",
          "height": 263
        },
        "outputId": "a68007af-a733-47bb-abf0-f147a01cf00c"
      },
      "outputs": [
        {
          "output_type": "stream",
          "name": "stdout",
          "text": [
            "Hello World\n",
            "Dom\n",
            "Dom\n"
          ]
        },
        {
          "output_type": "error",
          "ename": "NameError",
          "evalue": "name 'last' is not defined",
          "traceback": [
            "\u001b[0;31m---------------------------------------------------------------------------\u001b[0m",
            "\u001b[0;31mNameError\u001b[0m                                 Traceback (most recent call last)",
            "\u001b[0;32m<ipython-input-9-eec3c3808884>\u001b[0m in \u001b[0;36m<cell line: 9>\u001b[0;34m()\u001b[0m\n\u001b[1;32m      7\u001b[0m \u001b[0;34m\u001b[0m\u001b[0m\n\u001b[1;32m      8\u001b[0m \u001b[0;34m\u001b[0m\u001b[0m\n\u001b[0;32m----> 9\u001b[0;31m \u001b[0mprint\u001b[0m\u001b[0;34m(\u001b[0m\u001b[0;34m\"Hello,\"\u001b[0m\u001b[0;34m,\u001b[0m \u001b[0mname\u001b[0m\u001b[0;34m,\u001b[0m \u001b[0mlast\u001b[0m\u001b[0;34m)\u001b[0m \u001b[0;31m# the comma allows us to print multiple things\u001b[0m\u001b[0;34m\u001b[0m\u001b[0;34m\u001b[0m\u001b[0m\n\u001b[0m\u001b[1;32m     10\u001b[0m \u001b[0;34m\u001b[0m\u001b[0m\n\u001b[1;32m     11\u001b[0m \u001b[0;31m# 4. Declare and print a longer string:\u001b[0m\u001b[0;34m\u001b[0m\u001b[0;34m\u001b[0m\u001b[0m\n",
            "\u001b[0;31mNameError\u001b[0m: name 'last' is not defined"
          ]
        }
      ],
      "source": [
        "# 2. print() the classic programmer's message: Hello World\n",
        "print(\"Hello World\")\n",
        "\n",
        "# 3. Print your names, separated by a comma:\n",
        "print(name)\n",
        "print(name)\n",
        "\n",
        "\n",
        "print(\"Hello,\", name, last) # the comma allows us to print multiple things\n",
        "\n",
        "# 4. Declare and print a longer string:\n",
        "#print('Hello !')\n",
        "\n",
        "# 4B. Concatenate the greeting w + -- don't just list the print \"\"\n",
        "# 'Hello !'\n",
        "#print(name)"
      ]
    },
    {
      "cell_type": "code",
      "source": [
        "# print using \",\"\n",
        "print(\"first:\",\"Dom\", \"last:\", \"D\") # print puts a \" \" after each comma\n"
      ],
      "metadata": {
        "id": "Q9gYrU09sPAA"
      },
      "execution_count": null,
      "outputs": []
    },
    {
      "cell_type": "code",
      "source": [
        "# we can concat strings together (put them together using +)\n",
        "print('Hello, ' + name)"
      ],
      "metadata": {
        "id": "Q7XNJ5YKN39g"
      },
      "execution_count": null,
      "outputs": []
    },
    {
      "cell_type": "code",
      "source": [
        "# another example of concatenation (adding two strings together)\n",
        "greeting = \"Hello,\"\n",
        "first = \"Dom\"\n",
        "last = \" D\"\n",
        "\n",
        "# we can add strings together and then pass them to print\n",
        "print(greeting + first + last )"
      ],
      "metadata": {
        "id": "AUWZi0O-pATP"
      },
      "execution_count": null,
      "outputs": []
    },
    {
      "cell_type": "markdown",
      "metadata": {
        "id": "zn7JEPJbVJ_m"
      },
      "source": [
        "**escape nested quotes with a backslash**"
      ]
    },
    {
      "cell_type": "code",
      "source": [
        "phrase =  'Let's get started # python thinks the string ends after t."
      ],
      "metadata": {
        "id": "tN6FBExvs8WR"
      },
      "execution_count": null,
      "outputs": []
    },
    {
      "cell_type": "code",
      "source": [
        "# these are the same\n",
        "name  = \"dom\"\n",
        "name2 = 'dom'\n",
        "print(name)\n",
        "print(name2)"
      ],
      "metadata": {
        "id": "UfJILv7etc_l"
      },
      "execution_count": null,
      "outputs": []
    },
    {
      "cell_type": "code",
      "execution_count": null,
      "metadata": {
        "id": "n6MeVptxVPyi"
      },
      "outputs": [],
      "source": [
        "# 5. Declare a string var with nested single quotes (apostrophe):\n",
        "# the nested quote throws an ERROR\n",
        "\n",
        "\n",
        "# this fixes the above error (mixing/matching quotes )\n",
        "phrase = \"Let's get started\"\n",
        "\n",
        "# 6. Fix the error by escaping the apostrophe with a backslash:\n",
        "phrase_2 = 'Let\\'s get started'\n",
        "\n",
        "# 7. Fix the error another way by avoiding nested quotes:\n",
        "\n",
        "print(phrase)\n",
        "print(phrase_2)"
      ]
    },
    {
      "cell_type": "markdown",
      "metadata": {
        "id": "P-CWX4htKFZs"
      },
      "source": [
        "**variable naming rules**\n",
        "- Use letters, numbers and underscores only\n",
        "- NO special characters (except underscore)\n",
        "- NO spaces in a variable name\n",
        "- CAN'T begin with a number\n",
        "- CAN'T be a reserved word / keyword"
      ]
    },
    {
      "cell_type": "markdown",
      "metadata": {
        "id": "iAhNbuAkK8sl"
      },
      "source": [
        "**variable naming conventions**\n",
        "- Two-word names should be joined by underscore:  **last_name**\n",
        "- Variable names should be short, yet meaningful:\n",
        "  - **tel** is good\n",
        "  - **telephone_number** is too long"
      ]
    },
    {
      "cell_type": "code",
      "execution_count": null,
      "metadata": {
        "id": "HipIsfXQKEag"
      },
      "outputs": [],
      "source": [
        "# NO spaces in var names:\n",
        "\n",
        "# 8. Declare a var starting with a number\n",
        "#1day = 'Wednesday'\n",
        "\n",
        "day_1 = 'Monday' # snake_case\n",
        "day_2 = 'Tuesday'\n",
        "\n",
        "# 9. Fix the error by moving the number to the end:\n",
        "# 'Monday'\n",
        "\n",
        "\n",
        "\n",
        "# NO special chars in variable names, except for underscore _\n",
        "\n",
        "# 10. Declare a var containing an @ sign :\n",
        "#next@day = \"tomorrow\" # error\n",
        "next_day = \"tomorrow\"\n",
        "print(next_day)\n",
        "# print(next@day) # error\n",
        "\n",
        "# 11. Fix the error by substituting @ with _\n",
        "# \"tomorrow\"\n",
        "# next day = \"\"\n",
        "# cannot use reserved words for your var names\n",
        "#print = \"Hello World\" # bad! -- var names cannot be reserved words\n",
        "# if you do sthg that wrecks the file such as setting print equal to a string\n",
        "# the only fix is Runtime > Restart session and run all\n",
        "print(next_day)\n",
        "print() # this is now a string, it's no longer a function .....\n",
        "\n",
        "#next_day()"
      ]
    },
    {
      "cell_type": "markdown",
      "metadata": {
        "id": "dQo-8VWt4ZSd"
      },
      "source": [
        "You can add descriptive labels to your print() statements:"
      ]
    },
    {
      "cell_type": "code",
      "execution_count": null,
      "metadata": {
        "id": "23IhxrOcUkik"
      },
      "outputs": [],
      "source": [
        "# 12. Declare a string var and print it with labels\n",
        "# 'blueberries'\n",
        "fruit = 'blueberries'\n",
        "fruit_2 = \"peach\"\n",
        "fruit_3 = 'strawberries'\n",
        "# Exercise: Create a third variable fruit_3\n",
        "# print it out with the label \"The third fruit:\"\n",
        "\n",
        "\n",
        "print(\"Fruit:\", fruit )\n",
        "print(\"Fruit:\", fruit_2)\n",
        "print('The Third Fruit:', fruit_3) # automatically adds a space"
      ]
    },
    {
      "cell_type": "code",
      "source": [
        "print(\"The third fruit:\" + fruit_3) # concat doesn't automatically add a space"
      ],
      "metadata": {
        "id": "5d7xi2UexK3f"
      },
      "execution_count": null,
      "outputs": []
    },
    {
      "cell_type": "markdown",
      "metadata": {
        "id": "0p5mGm61TlD4"
      },
      "source": [
        "**type()** method returns the data type of a variable"
      ]
    },
    {
      "cell_type": "code",
      "execution_count": null,
      "metadata": {
        "id": "FOiRPXQ9wzhq"
      },
      "outputs": [],
      "source": [
        "# 13. Declare a string var and print its data type:\n",
        "# 'ca'\n",
        "veggie = \"carrot\"\n",
        "print('veg:', veggie, type(veggie)) # veg: carrot <class 'str'>\n",
        "\n",
        "# 14. Declare an integer var and print its data type:\n",
        "lucky_num = 7\n",
        "print('lucky_num:', lucky_num, type(lucky_num)) # lucky_num: 8 <class 'int'>\n",
        "\n",
        "lucky_num_str = \"7\"\n",
        "print('lucky_num:', lucky_num_str, type(lucky_num_str)) # lucky_num: 7 <class 'str'>\n",
        "\n",
        "# dynamically typed languages infer type\n"
      ]
    },
    {
      "cell_type": "code",
      "source": [
        "lucky_num = 7\n",
        "print('lucky_num:', lucky_num, type(lucky_num)) # lucky_num: 8 <class 'int'>"
      ],
      "metadata": {
        "id": "wWiKCJPfyYX9"
      },
      "execution_count": null,
      "outputs": []
    },
    {
      "cell_type": "code",
      "source": [
        "f_name = \"John\"\n",
        "l_name = \"Doe\"\n",
        "\n",
        "\n",
        "print(f_name, l_name)"
      ],
      "metadata": {
        "id": "OyRU45-cT3GV"
      },
      "execution_count": null,
      "outputs": []
    },
    {
      "cell_type": "markdown",
      "metadata": {
        "id": "ANqyD9kV5DAm"
      },
      "source": [
        "##Numeric Datatypes:\n",
        "###Integers and Floats\n",
        "####**integers** are whole numbers\n",
        "####**floats** are decimals\n",
        "####**type()** method returns the data type of a variable passed to it\n",
        "####**round()** method rounds off a float to N decimal places\n",
        "####**int()** method rounds float down to int"
      ]
    },
    {
      "cell_type": "code",
      "source": [
        "# pi\n",
        "import math # import buit-in math library\n",
        "\n",
        "\n",
        "pi_ = math.pi\n",
        "\n",
        "num = 3\n",
        "num_2 = 3.4\n",
        "\n",
        "\n",
        "\n",
        "\n",
        "print(\"π:\", pi_, type(pi_))\n",
        "print(\"Integer:\", num, type(num))\n",
        "print(\"Float (Decimal):\",num_2, type(num_2))"
      ],
      "metadata": {
        "id": "WeKryeqTzEbv"
      },
      "execution_count": null,
      "outputs": []
    },
    {
      "cell_type": "code",
      "source": [
        "# 7a will give you an error\n",
        "a = 3\n",
        "num_like = \"232aa232aq\"\n",
        "print(num_like, type(num_like))\n",
        "\n",
        "#\n",
        "num_like_2 = '234'\n",
        "print(num_like_2, type(num_like_2))\n",
        "\n",
        "a_num = 234\n",
        "print(a_num, type(a_num))"
      ],
      "metadata": {
        "id": "axEZHdyZ0EVl"
      },
      "execution_count": null,
      "outputs": []
    },
    {
      "cell_type": "code",
      "execution_count": null,
      "metadata": {
        "id": "XdNgZpSxv5_M"
      },
      "outputs": [],
      "source": [
        "# 14B. declare a float:\n",
        "# pi\n",
        "import math # import buit-in math library\n",
        "\n",
        "\n",
        "pi_ = math.pi\n",
        "\n",
        "\n",
        "print(\"π\", \"\\u03C0\" ,pi_, type(pi_)) # 3.141592653589793\n",
        "\n",
        "print(int(pi_)) # 3\n",
        "print(round(pi_, 2)) # 3.14\n",
        "print() # 3 int rounds DOWN\n",
        "\n",
        "# 14C. int() only rounds down -- it basically just drops the decimal\n",
        "# 7\n",
        "print() # 79\n",
        "print() # 78\n",
        "\n",
        "\n",
        "# Please Pay $ 192.22"
      ]
    },
    {
      "cell_type": "code",
      "source": [
        "# Calculate a restaurant bill using ints & floats:\n",
        "\n",
        "# 14D. declare food and bev vars:\n",
        "\n",
        "food_price = 35\n",
        "bev_price = 23.7\n",
        "\n",
        "\n",
        "# 15. Print food_tot along with its datatype:\n",
        "\n",
        "print(\"Food Total:\", food_price, type(food_price))\n",
        "\n",
        "\n",
        "# 16. Print bev_tot along with its datatype:\n",
        "\n",
        "print(\"Bev Total:\", bev_price, type(bev_price))\n",
        "\n",
        "# 17. Add them together and print the result w datatype\n",
        "sub_total = food_price + bev_price  # float = float + int\n",
        "print(\"Sub Total:\", sub_total, type(sub_total))\n",
        "\n",
        "\n",
        "# 18. Declare 2 more floats:\n",
        "# 8.875% NYC Sales Tax\n",
        "# 0.08875\n",
        "# 0.18\n",
        "tax_pct = 8.875\n",
        "tip_pct = 20.0\n",
        "\n",
        "print('NYC Sales Tax:', tax_pct)\n",
        "print('Tip %:', tip_pct)\n",
        "\n",
        "# # 19. Calculate tax and tip totals:\n",
        "\n",
        "tax_total = (tax_pct / 100) * sub_total\n",
        "tip_total = (tip_pct / 100) * sub_total\n",
        "\n",
        "# # 20. Calculate and print the grand total:\n",
        "\n",
        "grand_total = sub_total + tax_total + tip_total\n",
        "\n",
        "# use round() to round our grand total\n",
        "grand_total = round(grand_total, 2)\n",
        "\n",
        "\n",
        "print('Grand Total:', grand_total) # 192.21562500000002\n"
      ],
      "metadata": {
        "id": "vJaJyCmb1Cfm"
      },
      "execution_count": null,
      "outputs": []
    },
    {
      "cell_type": "code",
      "source": [
        "# using round()\n",
        "\n",
        "print(round(1.5)) # rounds to the nearest digit returns int if ndigits is not specified\n",
        "print(round(2.3)) # round\n",
        "print(round(2.33334, 3))\n",
        "print(round(2.33334, 2))"
      ],
      "metadata": {
        "id": "6Nr4JAxo5c2l"
      },
      "execution_count": null,
      "outputs": []
    },
    {
      "cell_type": "markdown",
      "metadata": {
        "id": "lZU8xs-JbE2N"
      },
      "source": [
        "**input()** method takes user input\n",
        "- input() is set equal to (saved to) a variable\n",
        "- input() pops up a text input box\n",
        "- Nothing else runs while the box awaits input\n",
        "- input() values, even numbers are actually strings\n",
        "\n",
        "**int()** method converts \"string-like numbers\" to integer  \n",
        "**float()** method converts \"string-like numbers\" to decimal floats\n",
        "- \"string-like numbers\" must be converted to actual numbers to do math.\n",
        "\n",
        "**str()** converts number to string (5 into \"5\")"
      ]
    },
    {
      "cell_type": "code",
      "source": [
        "s = input('--> ')\n",
        "\n",
        "s"
      ],
      "metadata": {
        "id": "OfGmaKKO6P4s"
      },
      "execution_count": null,
      "outputs": []
    },
    {
      "cell_type": "code",
      "source": [
        "# Example: Use input to get two numbers from the user, and calculate the sum\n",
        "\n",
        "# get two numbers from the user\n",
        "num1 = input(\"Num 1:\")\n",
        "num2 = input(\"Num 2:\")\n",
        "\n",
        "print(\"User entered:\", num1, type(num1))\n",
        "print(\"User entered:\", num2, type(num2))\n",
        "\n",
        "# convert between types  str -> int , using initializers int() and str()\n",
        "num1 = int(num1)\n",
        "num2 = int(num2)\n",
        "# print(\"converted num1\", num1, type(num1))\n",
        "\n",
        "\n",
        "print(num1 + num2) # this will concat the two numbers as strings if we don't convert using int()\n"
      ],
      "metadata": {
        "id": "I8WQIn8T6d8Z"
      },
      "execution_count": null,
      "outputs": []
    },
    {
      "cell_type": "code",
      "source": [
        "# Example: Use input to get two numbers from the user, and calculate the sum\n",
        "\n",
        "# get two numbers from the user , converts to an int\n",
        "num1 = int(input(\"First Number:\"))\n",
        "num2 = int(input(\"Second Number:\"))\n",
        "\n",
        "print(\"User entered:\", num1, type(num1))\n",
        "print(\"User entered:\", num2, type(num2))\n",
        "\n",
        "# convert between types  str -> int , using initializers int() and str()\n",
        "# num1 = int(num1)\n",
        "# num2 = int(num2)\n",
        "# print(\"converted num1\", num1, type(num1))\n",
        "\n",
        "results_ = num1 + num2\n",
        "print(\"Results: \", results_) # this will concat the two numbers as strings if we don't convert using int()"
      ],
      "metadata": {
        "id": "1oTi0PfK8VDK"
      },
      "execution_count": null,
      "outputs": []
    },
    {
      "cell_type": "code",
      "source": [
        "# TYPE MATTERS!\n",
        "\n",
        "print('3' + '3') # concat putts the strings together if they are strings\n",
        "print(3 + 3) # this adds the numbers if they are integers\n",
        "\n"
      ],
      "metadata": {
        "id": "kXGiZZsfbjm1"
      },
      "execution_count": null,
      "outputs": []
    },
    {
      "cell_type": "code",
      "source": [],
      "metadata": {
        "id": "axQv0OpL8_7q"
      },
      "execution_count": null,
      "outputs": []
    },
    {
      "cell_type": "code",
      "source": [
        "# CHALLENGE - Make a Restaurant Bill Calculator\n",
        "# Calculate a restaurant bill from user input.\n",
        "# Set food and bev equal to the input() method\n",
        "\n",
        "\n",
        "# constant value\n",
        "TAX_PCT = 8.875\n",
        "\n",
        "\n",
        "\n",
        "# get food price as float from user\n",
        "food_price = float(input(\"Enter Food Price:\")) # we can get the price from the user, and parse it in as a float()\n",
        "print(food_price)\n",
        "\n",
        "# get bev price as float from user\n",
        "bev_price = float(input(\"Enter Bev Price:\"))\n",
        "print(bev_price)\n",
        "\n",
        "# get the tip percent\n",
        "tip_pct = float(input(\"Enter the tip %\"))\n",
        "\n",
        "\n",
        "# calculate totals\n",
        "\n",
        "sub_total = food_price + bev_price\n",
        "\n",
        "tip_total = sub_total * (tip_pct / 100)\n",
        "tax_total = sub_total * (TAX_PCT / 100)\n",
        "\n",
        "# calculat grand total\n",
        "final_total = sub_total + tip_total + tax_total\n",
        "\n",
        "\n",
        "\n",
        "print(\"Total:\", round(final_total, 2))\n",
        "\n"
      ],
      "metadata": {
        "id": "wnBjHDh4Xw_8"
      },
      "execution_count": null,
      "outputs": []
    },
    {
      "cell_type": "code",
      "source": [
        "# Bill Calculator revisited\n",
        "# constant value\n",
        "TAX_PCT = 8.875\n",
        "\n",
        "\n",
        "\n",
        "# get food price as float from user\n",
        "\n",
        "\n",
        "try:\n",
        "    food_price = float(input(\"Enter Food Price:\")) # we can get the price from the user, and parse it in as a float()\n",
        "    print(food_price)\n",
        "\n",
        "    # get bev price as float from user\n",
        "    bev_price = float(input(\"Enter Bev Price:\"))\n",
        "    print(bev_price)\n",
        "\n",
        "    # get the tip percent\n",
        "    tip_pct = float(input(\"Enter the tip %\"))\n",
        "\n",
        "except:\n",
        "    print(\"Something went wrong\")\n",
        "\n",
        "\n",
        "# calculate totals\n",
        "\n",
        "sub_total = food_price + bev_price\n",
        "\n",
        "tip_total = sub_total * (tip_pct / 100)\n",
        "tax_total = sub_total * (TAX_PCT / 100)\n",
        "\n",
        "# calculat grand total\n",
        "final_total = sub_total + tip_total + tax_total\n",
        "\n",
        "\n",
        "\n",
        "print(\"Total:\", round(final_total, 2))\n",
        "\n"
      ],
      "metadata": {
        "id": "nH1uvHtABY4h"
      },
      "execution_count": null,
      "outputs": []
    },
    {
      "cell_type": "markdown",
      "metadata": {
        "id": "XU8jodqRI0sX"
      },
      "source": [
        "# **Markdown Syntax:**  \n",
        "####Hashtags make headings of different text sizes.\n",
        "# One Hashtag = h1\n",
        "## Two hashtags = h2\n",
        "### Three hashtags = h3\n",
        "### Four hashtags = h4\n",
        "For **bold**, wrap the text in double asterisks.  \n",
        "For *italics*, wrap the text in one asterisk.  \n",
        "Add a double space after a line for a line break.  \n",
        "For a bulleted list, put a hyphen (-) before each line:  \n",
        "**Favorite Fruits**  \n",
        "- Apple\n",
        "- Banana\n",
        "- Cherry\n",
        "- Grape\n",
        "- Kiwi\n",
        "- Citrus\n",
        "  - Lemon\n",
        "  - Lime\n",
        "  - Orange"
      ]
    },
    {
      "cell_type": "markdown",
      "metadata": {
        "id": "XuLNXI2462av"
      },
      "source": [
        "##Boolean Datatype:\n",
        "#### **Booleans** are vars with only two possible values:  **True** or **False**\n",
        "- **True** or **False** are case-sensitive--as is most everything else in Python and other programming languages\n",
        "- **not** operator toggles (flips) a boolean\n"
      ]
    },
    {
      "cell_type": "code",
      "execution_count": null,
      "metadata": {
        "id": "0RPkc-gYx1tQ"
      },
      "outputs": [],
      "source": [
        "# 31. Declare two vars of type boolean:\n",
        "# T\n",
        "\n",
        "online = False\n",
        "logged_in = False\n",
        "print('online:', online)\n",
        "print('logged_in:', logged_in)\n",
        "\n",
        "# we can flip the value of a boolean using not\n",
        "\n",
        "online = not online # \"not\" flips the boolean value  False -> True\n",
        "logged_in = not logged_in\n",
        "\n",
        "print('online:', online)\n",
        "print('logged_in:', logged_in)\n"
      ]
    },
    {
      "cell_type": "code",
      "source": [
        "is_done = True\n",
        "\n",
        "print(is_done, type(is_done)) # True <class 'bool'>"
      ],
      "metadata": {
        "id": "ZP2pMnDQCKNZ"
      },
      "execution_count": null,
      "outputs": []
    },
    {
      "cell_type": "markdown",
      "metadata": {
        "id": "QaASiiNt7CMc"
      },
      "source": [
        "###**Collections:**\n",
        "####Collections are variables that can hold more than one value at a time.\n",
        "####There are four types of collections:\n",
        "- lists\n",
        "- dictionaries\n",
        "- tuples\n",
        "- sets\n",
        "\n",
        "#### To finish this lesson, we will look at lists.\n",
        "\n",
        "####**list**\n",
        "- A list consists of multiple comma-separated items enclosed in square brackets\n",
        "- Lists can be of any data type or even of mixed data type\n",
        "- Individual list items are referred to by their position number, known as the **index**\n",
        "- The index follows the list, in square brackets\n",
        "- The first item in a list is at **index [0]**\n",
        "- The last item in a list is at **index [-1]**\n",
        "- **len(list)** returns the number of items in the list"
      ]
    },
    {
      "cell_type": "code",
      "execution_count": null,
      "metadata": {
        "id": "02qfRdTF0OxX",
        "colab": {
          "base_uri": "https://localhost:8080/"
        },
        "outputId": "7f43c8a6-3095-4d62-c076-5623d92354f7"
      },
      "outputs": [
        {
          "output_type": "stream",
          "name": "stdout",
          "text": [
            "['apple', 'banana', 'cherry', 'kiwi', 'lime', 'pear'] <class 'list'> 6\n",
            "First Element: apple\n",
            "Last Element: pear\n",
            "Second Last Element: lime lime\n",
            "Last Element: pear pear\n",
            "Last Index: pear\n",
            "Index of kiwi: 3\n",
            "nums [3, 7, 2, 1, 8, 9] <class 'list'>\n",
            "2nd elem: 7 7\n",
            "2nd to last: 8 8\n"
          ]
        }
      ],
      "source": [
        "# 33. Declare a list of fruits: 'apple', 'banana', 'cherry', 'kiwi', 'lime', 'pear'\n",
        "#         0,      , 1        , 2     ,    3     ,4       5\n",
        "fruits = ['apple', 'banana', 'cherry', 'kiwi', 'lime', 'pear'] # last index is always n - 1 , where n is the length\n",
        "\n",
        "print(fruits, type(fruits), len(fruits)) # <class 'list'>\n",
        "# print(le) # 6\n",
        "\n",
        "# 34. Select list items by INDEX\n",
        "# get the first and last fruits\n",
        "print(\"First Element:\", fruits[0]) # 0 is the first element\n",
        "print(\"Last Element:\", fruits[5]) # 5 is the last element\n",
        "\n",
        "# counting from left -> right positive indexing\n",
        "\n",
        "# negative indexing starts counting from the right at -1\n",
        "\n",
        "print(\"Second Last Element:\", fruits[-2], fruits[4])\n",
        "print(\"Last Element:\", fruits[-1], fruits[5])\n",
        "\n",
        "\n",
        "# get the last element using positive indexing when you don't know the length\n",
        "last_index = len(fruits) - 1\n",
        "\n",
        "print(\"Last Index:\", fruits[last_index])\n",
        "\n",
        "# you can also get the index of an element using index()\n",
        "print(\"Index of kiwi:\", fruits.index('kiwi'))\n",
        "\n",
        "\n",
        "# positive indexing stasrts counting from the left at 0\n",
        "\n",
        "\n",
        "# get the kiwi 2 diff ways: pos and neg index (hint: don't need len):\n",
        "\n",
        "\n",
        "# 35. Declare a list of numbers:\n",
        "\n",
        "nums = [3, 7, 2, 1, 8, 9]\n",
        "print(\"nums\", nums, type(nums))\n",
        "# 36. Get the second number using pos and neg indexing:\n",
        "print(\"2nd elem:\", nums[1], nums[-5])\n",
        "\n",
        "# 36B. Get the next to last number  (penultimate ) using pos and neg indexing:\n",
        "print(\"2nd to last:\", nums[4], nums[-2])\n"
      ]
    },
    {
      "cell_type": "code",
      "source": [
        "print(\"Element at index 0:\", nums[0])\n",
        "print(\"Index of element 3:\",nums.index(3))  #[] and the index() function are inverse functions"
      ],
      "metadata": {
        "colab": {
          "base_uri": "https://localhost:8080/"
        },
        "id": "HLSPC4smKIz1",
        "outputId": "d6ace19f-d5f5-43b6-ef29-056a18f7e46d"
      },
      "execution_count": null,
      "outputs": [
        {
          "output_type": "stream",
          "name": "stdout",
          "text": [
            "Element at index 0: 3\n",
            "Index of element 3: 0\n"
          ]
        }
      ]
    },
    {
      "cell_type": "markdown",
      "metadata": {
        "id": "ZIrI-P7ATF_G"
      },
      "source": [
        "**dir()** returns a list of the methods and properties of a data type.   \n",
        "\n",
        "**help()** returns info about how to use something"
      ]
    },
    {
      "cell_type": "code",
      "source": [
        "help(nums) # shows us the documentation of a variables, what functions it has etc."
      ],
      "metadata": {
        "id": "AzPjoAxQK3Ee"
      },
      "execution_count": null,
      "outputs": []
    },
    {
      "cell_type": "code",
      "source": [
        "dir() # shows me all the variables in current namespace\n",
        "# namespace -> scope of the program"
      ],
      "metadata": {
        "id": "SpZjGhmhLJCn"
      },
      "execution_count": null,
      "outputs": []
    },
    {
      "cell_type": "code",
      "execution_count": null,
      "metadata": {
        "id": "H1zuIrQgSHaV"
      },
      "outputs": [],
      "source": [
        "# get a list of all the methods for a class, such as str, list, float, int etc.\n",
        "dir(list) # list is a built data type\n",
        "dir(nums)\n",
        "# he\n",
        "# help() # len(list), len(str) returns the number of items in a container.\n",
        "# help() # list.index returns the first index of the value in ()\n",
        "# dir()"
      ]
    },
    {
      "cell_type": "code",
      "source": [
        "help(nums)"
      ],
      "metadata": {
        "id": "FRaWUEiCn3mu"
      },
      "execution_count": null,
      "outputs": []
    },
    {
      "cell_type": "markdown",
      "source": [
        "**List Methods:**\n",
        "**pop(), append(), insert(), remove(), sort(), reverse()**"
      ],
      "metadata": {
        "id": "o1SNvJa9bGYO"
      }
    },
    {
      "cell_type": "code",
      "source": [
        "\n",
        "# list methods:\n",
        "\n",
        "\n",
        "\n",
        "# A method is function that belongs to a type of object\n",
        "# i.e. pop() is a list method\n",
        "#\n",
        "# pop() removes and returns last item from a list\n",
        "last_item= fruits.pop() # this pop() changes the list\n",
        "print(last_item)\n"
      ],
      "metadata": {
        "id": "G2jXuMAOaRGd",
        "colab": {
          "base_uri": "https://localhost:8080/"
        },
        "outputId": "71c92242-7614-47c6-d783-2696bd1eded4"
      },
      "execution_count": null,
      "outputs": [
        {
          "output_type": "stream",
          "name": "stdout",
          "text": [
            "pear\n"
          ]
        }
      ]
    },
    {
      "cell_type": "markdown",
      "source": [
        "# Lists are Mutable\n",
        "\n",
        "- when we run methods (functions) on our lists, they change our lists permanently"
      ],
      "metadata": {
        "id": "DZitNM9YMoVe"
      }
    },
    {
      "cell_type": "code",
      "source": [
        "print('popped_item:', last_item)\n",
        "print('fruits:', fruits, len(fruits))"
      ],
      "metadata": {
        "id": "rAN8tO0qbpV2"
      },
      "execution_count": null,
      "outputs": []
    },
    {
      "cell_type": "code",
      "source": [
        "# append() adds item(s) to the end of a list\n",
        "# 'ora'\n",
        "fruits.append(\"mango\") # i didn't have to reassign anything, the list just changed -> \"mutable\"\n",
        "print('fruits:',fruits)"
      ],
      "metadata": {
        "id": "33mDVZBybEHN",
        "colab": {
          "base_uri": "https://localhost:8080/"
        },
        "outputId": "4c807673-ba0f-426f-980c-1d6c51a0bf3a"
      },
      "execution_count": null,
      "outputs": [
        {
          "output_type": "stream",
          "name": "stdout",
          "text": [
            "fruits: ['apple', 'banana', 'cherry', 'kiwi', 'lime', 'mango']\n"
          ]
        }
      ]
    },
    {
      "cell_type": "code",
      "source": [
        "# 'ras'\n",
        "print('fruits:')"
      ],
      "metadata": {
        "id": "5x-bfF8hcJuI"
      },
      "execution_count": null,
      "outputs": []
    },
    {
      "cell_type": "code",
      "source": [
        "# list.insert(index,item) - add item to list at specified index\n",
        "# 'gra'\n",
        "\n",
        "# if you run this line commented out, it will overrwrite the list as None\n",
        "fruits.insert(1, \"dragonfruit\") # will insert at index 1\n",
        "print('fruits:', fruits)"
      ],
      "metadata": {
        "id": "om-8ILntrYRZ",
        "colab": {
          "base_uri": "https://localhost:8080/"
        },
        "outputId": "0b6ef693-81bd-41b2-8f0a-999f898529db"
      },
      "execution_count": null,
      "outputs": [
        {
          "output_type": "stream",
          "name": "stdout",
          "text": [
            "fruits: ['apple', 'dragonfruit', 'banana', 'cherry', 'kiwi', 'lime', 'mango']\n"
          ]
        }
      ]
    },
    {
      "cell_type": "code",
      "source": [
        "# using the insert() method, insert 'lemon' into list while maintaining alphabetical order:\n",
        "# 'lem'\n",
        "fruits.insert(-2, \"lemon\")\n",
        "print('fruits:', fruits)"
      ],
      "metadata": {
        "id": "MduT29TRrpDt",
        "colab": {
          "base_uri": "https://localhost:8080/"
        },
        "outputId": "c9d57329-72a2-4068-faca-ebb367d6bd69"
      },
      "execution_count": null,
      "outputs": [
        {
          "output_type": "stream",
          "name": "stdout",
          "text": [
            "fruits: ['apple', 'dragonfruit', 'banana', 'cherry', 'kiwi', 'lemon', 'lime', 'mango']\n"
          ]
        }
      ]
    },
    {
      "cell_type": "markdown",
      "source": [
        "**adding multiple items to end of array all at once**\n",
        "- **list.append(list2)** adds items as a child / nested list\n",
        "- **list.extend(list2)** adds items as just more items, maintaining \"flatness\""
      ],
      "metadata": {
        "id": "N7RmU4fF3Qqp"
      }
    },
    {
      "cell_type": "code",
      "source": [
        "# problem w appending more than one item:\n",
        "# append(arg) only accepts one arg, so to append 3 fruits,\n",
        "# you must a append as a 3 item list\n",
        "# problem w that is, it goes in as a list\n",
        "# fruits.append('watermelon', 'blueberry', 'plum')\n",
        "# list.append() takes exactly one argument (3 given)\n",
        "\n",
        "couple_fruits = ['watermelon', 'blueberry', 'plum']\n",
        "fruits.append(couple_fruits)\n",
        "print('fruits:', fruits) # OOPS! Nested List !\n",
        "#fruits: ['apple', 'banana', 'cherry', 'grape', 'kiwi', 'lemon', 'lime', 'orange', 'raspberry', ['watermelon', 'blueberry', 'plum']]\n"
      ],
      "metadata": {
        "id": "nSqK_AnS17Le",
        "colab": {
          "base_uri": "https://localhost:8080/"
        },
        "outputId": "55c8fb6b-f8ef-4fdc-8d8a-8d39d2a81862"
      },
      "execution_count": null,
      "outputs": [
        {
          "output_type": "stream",
          "name": "stdout",
          "text": [
            "fruits: ['apple', 'dragonfruit', 'banana', 'cherry', 'kiwi', 'lemon', 'lime', 'mango', ['watermelon', 'blueberry', 'plum']]\n"
          ]
        }
      ]
    },
    {
      "cell_type": "code",
      "source": [
        "fruits.pop() # get rid of nested entry\n",
        "fruits"
      ],
      "metadata": {
        "colab": {
          "base_uri": "https://localhost:8080/"
        },
        "id": "NaA8GXdZqPcs",
        "outputId": "256d210d-2ed1-462d-ce5e-141983949e4a"
      },
      "execution_count": null,
      "outputs": [
        {
          "output_type": "execute_result",
          "data": {
            "text/plain": [
              "['apple', 'dragonfruit', 'banana', 'cherry', 'kiwi', 'lemon', 'lime', 'mango']"
            ]
          },
          "metadata": {},
          "execution_count": 17
        }
      ]
    },
    {
      "cell_type": "markdown",
      "source": [
        "**list1.extend(list2)** adds list2 to the end of list1\n",
        "- maintains \"flatness\" (list2 does NOT go in as a nested list)"
      ],
      "metadata": {
        "id": "WrZAkvSC50nC"
      }
    },
    {
      "cell_type": "code",
      "source": [
        "# list1.extend(list2) - add a list to the end of another list\n",
        "# this allows us to put more than one item at a time into list\n",
        "# 'blueberry', 'cranberry', 'strawberry'\n",
        "# ext\n",
        "fruits.extend(couple_fruits)\n",
        "print('fruits:', fruits)"
      ],
      "metadata": {
        "id": "7lLx1SKXsQPG",
        "colab": {
          "base_uri": "https://localhost:8080/"
        },
        "outputId": "baad54b6-7783-444e-f551-4a6c8774bc4e"
      },
      "execution_count": null,
      "outputs": [
        {
          "output_type": "stream",
          "name": "stdout",
          "text": [
            "fruits: ['apple', 'dragonfruit', 'banana', 'cherry', 'kiwi', 'lemon', 'lime', 'mango', 'watermelon', 'blueberry', 'plum']\n"
          ]
        }
      ]
    },
    {
      "cell_type": "code",
      "source": [
        "fruits.remove(\"banana\")\n",
        "fruits"
      ],
      "metadata": {
        "colab": {
          "base_uri": "https://localhost:8080/"
        },
        "id": "xNm6bkVwOTca",
        "outputId": "2693f9c9-0521-4f2a-8f3b-1b85a20e1d8a"
      },
      "execution_count": null,
      "outputs": [
        {
          "output_type": "execute_result",
          "data": {
            "text/plain": [
              "['apple',\n",
              " 'dragonfruit',\n",
              " 'cherry',\n",
              " 'kiwi',\n",
              " 'lemon',\n",
              " 'lime',\n",
              " 'mango',\n",
              " 'watermelon',\n",
              " 'blueberry',\n",
              " 'plum']"
            ]
          },
          "metadata": {},
          "execution_count": 19
        }
      ]
    },
    {
      "cell_type": "code",
      "source": [
        "['a','c'] + ['d', 'e'] # lists support concatentation"
      ],
      "metadata": {
        "colab": {
          "base_uri": "https://localhost:8080/"
        },
        "id": "2Dz99dP5q2RL",
        "outputId": "d2262747-899a-4bc6-83bc-2e04cfd0c26b"
      },
      "execution_count": null,
      "outputs": [
        {
          "output_type": "execute_result",
          "data": {
            "text/plain": [
              "['a', 'c', 'd', 'e']"
            ]
          },
          "metadata": {},
          "execution_count": 20
        }
      ]
    },
    {
      "cell_type": "markdown",
      "source": [
        "- **list.pop()** removes last item\n",
        "- **list.pop(index)** removes item at index\n",
        "\n"
      ],
      "metadata": {
        "id": "EtPIhhkb4JPt"
      }
    },
    {
      "cell_type": "code",
      "source": [
        "# list.pop(index)\n",
        "# remove the unwanted nested list:\n",
        "# -\n",
        "\n",
        "print('popped_items:')\n",
        "print('fruits:')"
      ],
      "metadata": {
        "id": "1gGh6CDW4GqK"
      },
      "execution_count": null,
      "outputs": []
    },
    {
      "cell_type": "code",
      "source": [
        "# put the popped 3-pack back in using extend:\n",
        "# ext\n",
        "print('fruits:')"
      ],
      "metadata": {
        "id": "w65xY7_f4r5p"
      },
      "execution_count": null,
      "outputs": []
    },
    {
      "cell_type": "markdown",
      "source": [
        "- **list.sort()** - put items in ascending order A-Z or 1-100"
      ],
      "metadata": {
        "id": "z9S7jfjz4_8v"
      }
    },
    {
      "cell_type": "code",
      "source": [
        "# list.sort() - put items in ascending order A-Z 1-100\n",
        "# so\n",
        "fruits.sort()\n",
        "print('fruits:', fruits)"
      ],
      "metadata": {
        "id": "U03C9x9RsuY2",
        "colab": {
          "base_uri": "https://localhost:8080/"
        },
        "outputId": "70d3d786-36e0-4cd4-b946-667cadfd1937"
      },
      "execution_count": null,
      "outputs": [
        {
          "output_type": "stream",
          "name": "stdout",
          "text": [
            "fruits: ['apple', 'blueberry', 'cherry', 'dragonfruit', 'kiwi', 'lemon', 'lime', 'mango', 'plum', 'watermelon']\n"
          ]
        }
      ]
    },
    {
      "cell_type": "code",
      "source": [
        "# sort list of nums:\n",
        "nums = [4,1,6,2,9,0,3,7]\n",
        "# nu\n",
        "nums.sort()\n",
        "print('nums:', nums) # [0, 1, 2, 3, 4, 6, 7, 9]"
      ],
      "metadata": {
        "id": "Er2IpFE5s19F",
        "colab": {
          "base_uri": "https://localhost:8080/"
        },
        "outputId": "776a791f-be1d-4712-dbe0-ec105db9c728"
      },
      "execution_count": null,
      "outputs": [
        {
          "output_type": "stream",
          "name": "stdout",
          "text": [
            "nums: [0, 1, 2, 3, 4, 6, 7, 9]\n"
          ]
        }
      ]
    },
    {
      "cell_type": "markdown",
      "source": [
        "**list.reverse()** reverses the order of list items\n",
        "- to sort Z-A, first do a normal sort, then reverse"
      ],
      "metadata": {
        "id": "tcGh3E5m6P_X"
      }
    },
    {
      "cell_type": "code",
      "source": [
        "fruits.reverse()\n",
        "print('fruits:', fruits)"
      ],
      "metadata": {
        "id": "wrnZeFndti6b",
        "colab": {
          "base_uri": "https://localhost:8080/"
        },
        "outputId": "c0c6e176-1889-49d8-a22d-9ec212ed6434"
      },
      "execution_count": null,
      "outputs": [
        {
          "output_type": "stream",
          "name": "stdout",
          "text": [
            "fruits: ['watermelon', 'plum', 'mango', 'lime', 'lemon', 'kiwi', 'dragonfruit', 'cherry', 'blueberry', 'apple']\n"
          ]
        }
      ]
    },
    {
      "cell_type": "code",
      "source": [
        "fruits.sort(reverse=True) # reading the docs, sometimes we find methods that have special keywords we can pass in\n",
        "print('fruits:', fruits)"
      ],
      "metadata": {
        "colab": {
          "base_uri": "https://localhost:8080/"
        },
        "id": "nFfvrJINrx1n",
        "outputId": "b1b056a9-83d8-41a8-fcc9-9f18ffc01718"
      },
      "execution_count": null,
      "outputs": [
        {
          "output_type": "stream",
          "name": "stdout",
          "text": [
            "fruits: ['watermelon', 'plum', 'mango', 'lime', 'lemon', 'kiwi', 'dragonfruit', 'cherry', 'blueberry', 'apple']\n"
          ]
        }
      ]
    },
    {
      "cell_type": "code",
      "source": [
        "# add duplicate fruits using extend method:\n",
        "fruits.extend(['apple', 'banana', 'grape', 'orange', 'mango', 'peach', 'apricot'])\n",
        "# ext\n",
        "fruits.sort() # sort fruits list\n",
        "print('fruits:', fruits)"
      ],
      "metadata": {
        "id": "oG0vA3yttMK4",
        "colab": {
          "base_uri": "https://localhost:8080/"
        },
        "outputId": "cd140fb3-6f56-4498-8eac-526acd22b9c2"
      },
      "execution_count": null,
      "outputs": [
        {
          "output_type": "stream",
          "name": "stdout",
          "text": [
            "fruits: ['apple', 'apple', 'apricot', 'banana', 'blueberry', 'cherry', 'dragonfruit', 'grape', 'kiwi', 'lemon', 'lime', 'mango', 'mango', 'orange', 'peach', 'plum', 'watermelon']\n"
          ]
        }
      ]
    },
    {
      "cell_type": "code",
      "source": [
        "# fruits = ['apple', 'banana', 'cherry', 'kiwi', 'lime', 'pear']"
      ],
      "metadata": {
        "id": "jeLQx11Csgm7"
      },
      "execution_count": null,
      "outputs": []
    },
    {
      "cell_type": "markdown",
      "source": [
        "**set(list)** returns a set from list argument"
      ],
      "metadata": {
        "id": "rppv4ucH7X8Y"
      }
    },
    {
      "cell_type": "code",
      "source": [
        "# remove duplicates from a list by making a set from the list\n",
        "# a set cannot have any duplicates\n",
        "# set(list) returns a set from list argument\n",
        "# set\n",
        "fruits_set = set(fruits) # sets have no order, and no duplicate items\n",
        "print('fruits_set:', fruits_set)\n"
      ],
      "metadata": {
        "id": "38eA0YTrvt-S",
        "colab": {
          "base_uri": "https://localhost:8080/"
        },
        "outputId": "d4df178b-3f7a-4aca-daa4-052c4e0f4fe8"
      },
      "execution_count": null,
      "outputs": [
        {
          "output_type": "stream",
          "name": "stdout",
          "text": [
            "fruits_set: {'plum', 'apple', 'cherry', 'banana', 'blueberry', 'grape', 'lemon', 'apricot', 'lime', 'orange', 'kiwi', 'peach', 'watermelon', 'dragonfruit', 'mango'}\n"
          ]
        }
      ]
    },
    {
      "cell_type": "code",
      "source": [
        "fruits_set[0] # this won't work with sets.\n",
        "\n",
        "#fruits_set."
      ],
      "metadata": {
        "colab": {
          "base_uri": "https://localhost:8080/",
          "height": 176
        },
        "id": "5elt_8fjtP5u",
        "outputId": "9e66bec3-f64e-4200-faa8-f16f7331c6b2"
      },
      "execution_count": null,
      "outputs": [
        {
          "output_type": "error",
          "ename": "TypeError",
          "evalue": "'set' object is not subscriptable",
          "traceback": [
            "\u001b[0;31m---------------------------------------------------------------------------\u001b[0m",
            "\u001b[0;31mTypeError\u001b[0m                                 Traceback (most recent call last)",
            "\u001b[0;32m<ipython-input-27-96e723be2560>\u001b[0m in \u001b[0;36m<cell line: 1>\u001b[0;34m()\u001b[0m\n\u001b[0;32m----> 1\u001b[0;31m \u001b[0mfruits_set\u001b[0m\u001b[0;34m[\u001b[0m\u001b[0;36m0\u001b[0m\u001b[0;34m]\u001b[0m \u001b[0;31m# this won't work with sets.\u001b[0m\u001b[0;34m\u001b[0m\u001b[0;34m\u001b[0m\u001b[0m\n\u001b[0m\u001b[1;32m      2\u001b[0m \u001b[0;34m\u001b[0m\u001b[0m\n\u001b[1;32m      3\u001b[0m \u001b[0;31m#fruits_set.\u001b[0m\u001b[0;34m\u001b[0m\u001b[0;34m\u001b[0m\u001b[0m\n",
            "\u001b[0;31mTypeError\u001b[0m: 'set' object is not subscriptable"
          ]
        }
      ]
    },
    {
      "cell_type": "markdown",
      "source": [
        "**list(items)** returns a list from items argument"
      ],
      "metadata": {
        "id": "wVxjVbLs70rz"
      }
    },
    {
      "cell_type": "code",
      "source": [
        "# then, make a list from the set\n",
        "# list\n",
        "# sor\n",
        "# we can convert the set back to a list\n",
        "fruits_set.add('apple')\n",
        "fruits_set\n",
        "\n",
        "# if we want indexing, we can convert it back to a list\n",
        "unique_lst = list(fruits_set)\n",
        "\n",
        "# get first element, we can now index because we converted it back to a list\n",
        "print(\"First Element:\", unique_lst[0])\n"
      ],
      "metadata": {
        "id": "HAl_8JcY7uAA",
        "colab": {
          "base_uri": "https://localhost:8080/"
        },
        "outputId": "ca09f927-e674-4841-a59b-7e6ed360194c"
      },
      "execution_count": null,
      "outputs": [
        {
          "output_type": "stream",
          "name": "stdout",
          "text": [
            "['apple', 'apple', 'apricot', 'banana', 'blueberry', 'cherry', 'dragonfruit', 'grape', 'kiwi', 'lemon', 'lime', 'mango', 'mango', 'orange', 'peach', 'plum', 'watermelon']\n",
            "First Element: plum\n"
          ]
        }
      ]
    },
    {
      "cell_type": "code",
      "source": [
        "# remove item by name\n",
        "# remove mango (remove does not return anything)\n",
        "# 'mango'\n",
        "removed_fruit = fruits.remove('banana')\n",
        "print('removed_fruit:', removed_fruit) # None\n",
        "print('fruits_list:', fruits)"
      ],
      "metadata": {
        "id": "6xIZ2yqLt9Lk"
      },
      "execution_count": null,
      "outputs": []
    },
    {
      "cell_type": "code",
      "source": [
        "# remove item at index w pop(index)\n",
        "# pop returns the popped item, so set it equal to a var\n",
        "# po\n",
        "print('popped_item:')\n",
        "print('fruits_list:')"
      ],
      "metadata": {
        "id": "W1i8-bNnug50"
      },
      "execution_count": null,
      "outputs": []
    },
    {
      "cell_type": "markdown",
      "source": [
        "# Exercise"
      ],
      "metadata": {
        "id": "VXJzIEE5RWgI"
      }
    },
    {
      "cell_type": "code",
      "source": [
        "#\n",
        "\n",
        "fruits = ['blueberry', 'apple', 'cherry','cherry', 'dragonfruit', 'kiwi', 'lemon', 'lime', 'mango', 'plum', 'plum','watermelon']\n",
        "\n",
        "# Exercise\n",
        "# remove first element\n",
        "first_elem = fruits.pop(0)\n",
        "print(\"removed first elem\", fruits)\n",
        "\n",
        "# add removed first element, to the end\n",
        "fruits.append(first_elem)\n",
        "print(\"add that element to the end\", fruits)\n",
        "# get the unqiue elements using set()\n",
        "fruits_set = set(fruits)\n",
        "print(\"unique elements using set\", fruits_set)\n",
        "\n",
        "\n",
        "\n",
        "# convert back to a list\n",
        "unique_elems = list(fruits_set)\n",
        "\n",
        "print(\"back to a list\", unique_elems)\n",
        "# sort alphabetically\n",
        "\n",
        "unique_elems.sort()\n",
        "print(\"sorted unique elems\", unique_elems)"
      ],
      "metadata": {
        "colab": {
          "base_uri": "https://localhost:8080/"
        },
        "id": "xkgO04B0RYVX",
        "outputId": "851fb94c-16f7-4dac-a237-6c70c1e84aa6"
      },
      "execution_count": null,
      "outputs": [
        {
          "output_type": "stream",
          "name": "stdout",
          "text": [
            "removed first elem ['apple', 'cherry', 'cherry', 'dragonfruit', 'kiwi', 'lemon', 'lime', 'mango', 'plum', 'plum', 'watermelon']\n",
            "add that element to the end ['apple', 'cherry', 'cherry', 'dragonfruit', 'kiwi', 'lemon', 'lime', 'mango', 'plum', 'plum', 'watermelon', 'blueberry']\n",
            "unique elements using set {'plum', 'apple', 'cherry', 'lime', 'lemon', 'watermelon', 'blueberry', 'kiwi', 'dragonfruit', 'mango'}\n",
            "back to a list ['plum', 'apple', 'cherry', 'lime', 'lemon', 'watermelon', 'blueberry', 'kiwi', 'dragonfruit', 'mango']\n",
            "sorted unique elems ['apple', 'blueberry', 'cherry', 'dragonfruit', 'kiwi', 'lemon', 'lime', 'mango', 'plum', 'watermelon']\n"
          ]
        }
      ]
    },
    {
      "cell_type": "code",
      "source": [
        "# condensed version  (harder to read but less lines )\n",
        "fruits = ['blueberry', 'apple', 'cherry','cherry', 'dragonfruit', 'kiwi', 'lemon', 'lime', 'mango', 'plum', 'plum','watermelon']\n",
        "\n",
        "# Exercise\n",
        "# remove first element, add to end\n",
        "fruits.append(fruits.pop(0))\n",
        "\n",
        "unique_fruits = list(set(fruits))\n",
        "unique_fruits.sort()\n",
        "print(\"Unique Fruits\", unique_fruits)\n"
      ],
      "metadata": {
        "colab": {
          "base_uri": "https://localhost:8080/"
        },
        "id": "IhYvN3Ynlt-n",
        "outputId": "99dc9b16-5465-4a50-8849-974521a21e7e"
      },
      "execution_count": null,
      "outputs": [
        {
          "output_type": "stream",
          "name": "stdout",
          "text": [
            "Unique Fruits ['apple', 'blueberry', 'cherry', 'dragonfruit', 'kiwi', 'lemon', 'lime', 'mango', 'plum', 'watermelon']\n"
          ]
        }
      ]
    },
    {
      "cell_type": "code",
      "source": [
        "fruits = ['blueberry', 'apple', 'cherry','cherry', 'dragonfruit', 'kiwi', 'lemon', 'lime', 'mango', 'plum', 'plum','watermelon']\n",
        "# Exercise\n",
        "# remove first element\n",
        "firstelement = fruits[0] #get first fruit\n",
        "print(\"first element:\", firstelement)\n",
        "#fruits.remove(firstelement)\n",
        "fruits.pop(0)\n",
        "print(\"list without first element:\", fruits)\n",
        "# add removed first element, to the end\n",
        "fruits.append(firstelement)\n",
        "print(\"first element moved to the end:\", fruits)\n",
        "# get the unqiue elements using set()\n",
        "fruits_set = set(fruits)\n",
        "print(\"unique set of fruits:\", fruits_set)\n",
        "# convert back to a list\n",
        "fruits_lst = list(fruits_set)\n",
        "print(\"from set to list:\", fruits_lst)\n",
        "# sort alphabetically\n",
        "fruits_lst.sort()\n",
        "print(\"sorted set of fruits:\", fruits_lst)"
      ],
      "metadata": {
        "colab": {
          "base_uri": "https://localhost:8080/"
        },
        "id": "O5z8Ke1ulVSs",
        "outputId": "5edb1ab0-dd5d-4d5a-d8f7-3f10343eae0c"
      },
      "execution_count": null,
      "outputs": [
        {
          "output_type": "stream",
          "name": "stdout",
          "text": [
            "first element: blueberry\n",
            "list without first element: ['apple', 'cherry', 'cherry', 'dragonfruit', 'kiwi', 'lemon', 'lime', 'mango', 'plum', 'plum', 'watermelon']\n",
            "first element moved to the end: ['apple', 'cherry', 'cherry', 'dragonfruit', 'kiwi', 'lemon', 'lime', 'mango', 'plum', 'plum', 'watermelon', 'blueberry']\n",
            "unique set of fruits: {'plum', 'apple', 'cherry', 'lime', 'lemon', 'watermelon', 'blueberry', 'kiwi', 'dragonfruit', 'mango'}\n",
            "from set to list: ['apple', 'cherry', 'cherry', 'dragonfruit', 'kiwi', 'lemon', 'lime', 'mango', 'plum', 'plum', 'watermelon', 'blueberry']\n",
            "sorted set of fruits: ['apple', 'blueberry', 'cherry', 'cherry', 'dragonfruit', 'kiwi', 'lemon', 'lime', 'mango', 'plum', 'plum', 'watermelon']\n"
          ]
        }
      ]
    },
    {
      "cell_type": "code",
      "source": [
        "# list methods:\n",
        "# list.pop() - remove last item if () are empty\n",
        "# list.pop(2) - remove item at index 2\n",
        "# list.append(item) - add item to end of list\n",
        "# list.insert(index,item) - add item to list at specified index\n",
        "# list.extend(list) - add a list to the end of another list\n",
        "# list.sort() - put items in ascending order A-Z 1-100\n",
        "# list.reverse() - reverese prder pf ;ost ote,s. sp fpr Z-A first sprt\n",
        "# list.remove() - item by name\n",
        "# list.index(item) - get the index/numeric posiiton of item by name\n",
        "# make a list of fruits:\n",
        "# 'apple', 'banana', 'kiwi', 'pear', 'peach', 'grape', 'orange'\n",
        "# list.pop()\n",
        "# removes last item from list\n",
        "# list.pop(index)\n",
        "# remove item at index\n",
        "# print(fruits)\n",
        "# list.append(item)\n",
        "# adds item to end of list\n",
        "# list.insert(index,item)\n",
        "# add item to list at specified index\n",
        "# insert expects 2 args: index where you want new item to go and the item\n",
        "# list1.extend(list2)\n",
        "# add a list to an existing without making a new list\n",
        "# 'orange', 'grapefruit', 'lemon', 'lime'\n",
        "# list.sort()\n",
        "# alphabetize list of strings\n",
        "# puts list of nums in ascending orger\n",
        "# list.reverse()\n",
        "# reverses order of list items\n",
        "# remove(item)\n",
        "# removes item by name, not index\n",
        "# remove 'banana'\n",
        "# print(fruits)"
      ],
      "metadata": {
        "id": "W1kXygZ8cXOj"
      },
      "execution_count": null,
      "outputs": []
    }
  ],
  "metadata": {
    "colab": {
      "provenance": [],
      "include_colab_link": true
    },
    "kernelspec": {
      "display_name": "Python 3",
      "language": "python",
      "name": "python3"
    },
    "language_info": {
      "codemirror_mode": {
        "name": "ipython",
        "version": 3
      },
      "file_extension": ".py",
      "mimetype": "text/x-python",
      "name": "python",
      "nbconvert_exporter": "python",
      "pygments_lexer": "ipython3",
      "version": "3.8.5"
    }
  },
  "nbformat": 4,
  "nbformat_minor": 0
}