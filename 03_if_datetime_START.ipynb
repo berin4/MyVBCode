{
  "nbformat": 4,
  "nbformat_minor": 0,
  "metadata": {
    "colab": {
      "provenance": [],
      "include_colab_link": true
    },
    "kernelspec": {
      "name": "python3",
      "display_name": "Python 3"
    },
    "language_info": {
      "name": "python"
    }
  },
  "cells": [
    {
      "cell_type": "markdown",
      "metadata": {
        "id": "view-in-github",
        "colab_type": "text"
      },
      "source": [
        "<a href=\"https://colab.research.google.com/github/berin4/MyVBCode/blob/master/03_if_datetime_START.ipynb\" target=\"_parent\"><img src=\"https://colab.research.google.com/assets/colab-badge.svg\" alt=\"Open In Colab\"/></a>"
      ]
    },
    {
      "cell_type": "markdown",
      "source": [
        "##datetime module\n",
        "- provides full date and time\n",
        "- set your timezone with **pytz** module\n",
        "- \"Timely Greeting\" : say Good Morn/Afternoon/Eve"
      ],
      "metadata": {
        "id": "28YeQqbTC40e"
      }
    },
    {
      "cell_type": "code",
      "source": [
        "# import the datetime package / library / object / class\n",
        "\n",
        "# import pytz in order to set time to your local time zone\n",
        "\n",
        "# \"America/New_York\"\n",
        "\n",
        "# instantiate datetime object called dt\n",
        "# and set it for the current timezone\n",
        "\n",
        "# 2024-03-19 10:19:27.874826-04:00\n",
        "\n",
        "print()"
      ],
      "metadata": {
        "colab": {
          "base_uri": "https://localhost:8080/"
        },
        "id": "vYeE2j8BFCIX",
        "outputId": "b5f623ec-8dea-4821-ed03-4b71b8590de4"
      },
      "execution_count": null,
      "outputs": [
        {
          "output_type": "stream",
          "name": "stdout",
          "text": [
            "\n"
          ]
        }
      ]
    },
    {
      "cell_type": "markdown",
      "source": [
        "- **pytz.all_timezones** returns list of 596 time zone codes\n",
        "- **pytz.all_timezones[510:520]** returns just the items in index range\n",
        "- **[start_index:end_index_exclusive]**"
      ],
      "metadata": {
        "id": "5M3JvOK5HdTO"
      }
    },
    {
      "cell_type": "code",
      "source": [
        "# show all timezone codes:\n",
        "# pytz.all_timezones is example of obj.property\n",
        "\n",
        "# 596\n",
        "\n",
        "# print every 50th tz:\n",
        "\n",
        "# [start_index:end_index_exclusive:step]"
      ],
      "metadata": {
        "id": "fj5LvFSqGHRB"
      },
      "execution_count": null,
      "outputs": []
    },
    {
      "cell_type": "markdown",
      "source": [
        "- **get individual time and date units**\n",
        "- **dt.strftime('%char_code')** returns string version of date"
      ],
      "metadata": {
        "id": "esU4nzzaFK3L"
      }
    },
    {
      "cell_type": "code",
      "metadata": {
        "id": "fQdnbSOtl-2P",
        "colab": {
          "base_uri": "https://localhost:8080/"
        },
        "outputId": "67310164-4b02-4451-8112-80e33fad3421"
      },
      "source": [
        "print('dt:') # <class 'datetime.datetime'>\n",
        "\n",
        "# parse the datetime object:\n",
        "\n",
        "# get the year property\n",
        "print('year:') # year: 2024 <class 'int'>\n",
        "\n",
        "# get the month as int\n",
        "print('month as number:')\n",
        "\n",
        "# '%B' # get the name of the full month\n",
        "print('full month string:') # March\n",
        "\n",
        "# '%b' # get the abbrev name of month\n",
        "print('abbrev month string:') # Mar\n",
        "\n",
        "# get the date from 1-31\n",
        "\n",
        "print('date:') # 19\n",
        "\n",
        "# get the full name day of the week\n",
        "# '%A'\n",
        "print('day_str:')\n",
        "\n",
        "# get the abbrev name day of the week\n",
        "# '%a'\n",
        "print('day_str:')\n",
        "\n",
        "# get the hour as int from 0-23\n",
        "\n",
        "print('hour:')\n",
        "\n",
        "# get the minute from 0-59\n",
        "\n",
        "print('min:')\n",
        "\n",
        "# get the second as int from 0-59\n",
        "\n",
        "print('sec:')\n",
        "\n",
        "# get the full time in military format\n",
        "# add leading 0 as needed\n",
        "\n",
        "# '0'\n",
        "\n",
        "# if\n",
        "\n",
        "\n",
        "# ti\n",
        "print('time_now:')\n",
        "\n",
        "# '%H:%M:%S'\n",
        "print('formatted_time:') # '14:30:15'\n",
        "\n",
        "# get the full time in AM-PM format without seconds\n",
        "# '%I:%M %p'\n",
        "print('am_pm_time:') # '2:30:15 PM'\n",
        "\n",
        "# get today's date:\n",
        "# '%B %d, %Y'\n",
        "print('%B %d, %Y')"
      ],
      "execution_count": null,
      "outputs": [
        {
          "output_type": "stream",
          "name": "stdout",
          "text": [
            "dt:\n",
            "year:\n",
            "month as number:\n",
            "full month string:\n",
            "abbrev month string:\n",
            "date:\n",
            "day_str:\n",
            "day_str:\n",
            "hour:\n",
            "min:\n",
            "sec:\n",
            "time_now:\n",
            "formatted_time:\n",
            "am_pm_time:\n",
            "%B %d, %Y\n"
          ]
        }
      ]
    },
    {
      "cell_type": "code",
      "source": [
        "# allow us to display images:\n",
        "\n",
        "# connect to Google Drive so that we can load image:\n"
      ],
      "metadata": {
        "id": "T4IwvvBzQlcM"
      },
      "execution_count": null,
      "outputs": []
    },
    {
      "cell_type": "code",
      "source": [
        "base_url = ''\n",
        "img_url = ''\n",
        "# Im"
      ],
      "metadata": {
        "id": "NKaLr7YyQs1p"
      },
      "execution_count": null,
      "outputs": []
    },
    {
      "cell_type": "code",
      "metadata": {
        "id": "UDApIQ-2stKj"
      },
      "source": [
        "# CHALLENGE:\n",
        "# use if-else logic to output a \"Timely Greeting\"\n",
        "# have a variable (a string) to hold our greeting\n",
        "# 'Good '\n",
        "\n",
        "# try:\n",
        "#   print(x)\n",
        "# except:\n",
        "#   print(\"An exception occurred\")\n",
        "\n",
        "# allow hr value to be inputted for testing\n",
        "# try / except to vailidate input where bad input would otherwise\n",
        "\n",
        "# try this and if it throws an error anywhere, jump to except part\n",
        "  # but if no error do everything in try part and do not do except part\n",
        "\n",
        "  # 'Hour(0-23): ' # this throws error if not in \"try-except\" block\n",
        "  # start by validating the input: only accept 0-23\n",
        "  # if\n",
        "    # \"Evening!\"\n",
        "  # el\n",
        "    # \"Hey, Night Owl!\"\n",
        "\n",
        "    # \"Morning!\"\n",
        "\n",
        "    # \"Afternoon!\"\n",
        "\n",
        "    # \"Evening!\"\n",
        "\n",
        "# ex\n",
        "  # \"ERROR: Input whole number from 0-23: \"\n",
        "  # hr = int(input('Hour(0-23): ')) # try again w new input box\n",
        "\n",
        "# use if-else logic to decide how to complete greeting\n",
        "# += is the concat operator for adding more to a variable\n"
      ],
      "execution_count": null,
      "outputs": []
    },
    {
      "cell_type": "code",
      "metadata": {
        "id": "IEX4XjRD0mVE"
      },
      "source": [
        "# BONUS CHALLENGE:\n",
        "# if the time is from 2 AM - 4 AM (up to 3:59:59)\n",
        "# make the greeting say \"Hey, Night Owl!\"\n",
        "# otherwise, use one of the other three greetings"
      ],
      "execution_count": null,
      "outputs": []
    }
  ]
}