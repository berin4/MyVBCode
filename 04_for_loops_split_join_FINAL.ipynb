{
  "nbformat": 4,
  "nbformat_minor": 0,
  "metadata": {
    "colab": {
      "provenance": [],
      "include_colab_link": true
    },
    "kernelspec": {
      "name": "python3",
      "display_name": "Python 3"
    },
    "language_info": {
      "name": "python"
    }
  },
  "cells": [
    {
      "cell_type": "markdown",
      "metadata": {
        "id": "view-in-github",
        "colab_type": "text"
      },
      "source": [
        "<a href=\"https://colab.research.google.com/github/berin4/MyVBCode/blob/master/04_for_loops_split_join_FINAL.ipynb\" target=\"_parent\"><img src=\"https://colab.research.google.com/assets/colab-badge.svg\" alt=\"Open In Colab\"/></a>"
      ]
    },
    {
      "cell_type": "markdown",
      "source": [
        "##**Loops**\n",
        "####Repeating code again and again (as long as a condition remains true)\n",
        "\n",
        "####Select List items by Range: **[start_index,end_index]**\n",
        "\n",
        "- a **loop** is a block of code that runs over and over again\n",
        "- the loop repeats as long as the **condition** remains true\n",
        "- the condition is a comparison of some number to the **counter** variable\n",
        "- the counter goes up or down with each iteration of the loop\n",
        "- when the counter reaches a certain value, the condition becomes false, and the loop stops\n",
        "- syntax: **for i in range(1,11)** will loop 10x (1-10) provided **i** is incremented by 1 each time loop runs\n",
        "- an **infinite loop** (loop that never ends) occurs when the logic is flawed in such a way that the condition is forever true\n",
        "- the most common type of loop is the **for loop**\n",
        "- a loop can **iterate** a **range** of numbers or the items in an **iterable**, such as a list\n",
        "- **range(start, stop, step)** is a function used to loop a range of numbers, as opposed to the items of a list"
      ],
      "metadata": {
        "id": "JHwFP3LSvwlA"
      }
    },
    {
      "cell_type": "markdown",
      "source": [
        "#### looping a range of numbers"
      ],
      "metadata": {
        "id": "OPC5rH_JREO9"
      }
    },
    {
      "cell_type": "code",
      "source": [
        "# import pprint to make print output easier to read\n",
        "# (long output doesn't scroll sideways)\n",
        "import pprint as pp"
      ],
      "metadata": {
        "id": "Ghjd0kYK9sIF"
      },
      "execution_count": null,
      "outputs": []
    },
    {
      "cell_type": "code",
      "metadata": {
        "id": "OdFheQt67Xv2",
        "colab": {
          "base_uri": "https://localhost:8080/"
        },
        "outputId": "d579f203-9f4f-4b21-c5d5-608bc52a7200"
      },
      "source": [
        "# 1. use the range() function to loop 10 tims, printing the\n",
        "# square of the numbers from 1-10 each time\n",
        "# range(start_num,end_exclusive)\n",
        "for i in range(1,11):\n",
        "  print(i**2)"
      ],
      "execution_count": null,
      "outputs": [
        {
          "output_type": "stream",
          "name": "stdout",
          "text": [
            "1\n",
            "4\n",
            "9\n",
            "16\n",
            "25\n",
            "36\n",
            "49\n",
            "64\n",
            "81\n",
            "100\n"
          ]
        }
      ]
    },
    {
      "cell_type": "markdown",
      "source": [
        "#### loops & conditional logic (if-else)"
      ],
      "metadata": {
        "id": "-3gVFmyyRQK1"
      }
    },
    {
      "cell_type": "code",
      "source": [
        "# 2. if-else logic is used in a loop to do one thing if the condition is true\n",
        "# and something else (or nothing if the condition is false)\n",
        "# refactor the loop so that it prints squares of only the even numbers\n",
        "# (ignore the odd numbers):\n",
        "# x % y operator returns remainder of x divided by y\n",
        "for n in range(1,11):\n",
        "  # using the modulus (%) operator, check if n is even:\n",
        "  if(n % 2 == 0):\n",
        "    print(n**2) # square it"
      ],
      "metadata": {
        "id": "NAaedX3_QGOa",
        "colab": {
          "base_uri": "https://localhost:8080/"
        },
        "outputId": "22d63d08-0c26-4d58-86f0-8d53ff43c453"
      },
      "execution_count": null,
      "outputs": [
        {
          "output_type": "stream",
          "name": "stdout",
          "text": [
            "4\n",
            "16\n",
            "36\n",
            "64\n",
            "100\n"
          ]
        }
      ]
    },
    {
      "cell_type": "code",
      "source": [
        "# 3. CHALLENGE:\n",
        "#.   refactor the loop above so that it squares the even ints and cubes the odds.\n",
        "#    since we are doing something even if the condition is false, we need an else part\n",
        "for n in range(1,11):\n",
        "  # using the modulus (%) operator, check if n is even:\n",
        "  if(n % 2 == 0):\n",
        "    print(n**2) # square it\n",
        "  else:\n",
        "    print(n**3)"
      ],
      "metadata": {
        "id": "2Eea2PCWQRjQ",
        "colab": {
          "base_uri": "https://localhost:8080/"
        },
        "outputId": "c8eab91f-0026-4508-93d9-7fc75edbef6d"
      },
      "execution_count": null,
      "outputs": [
        {
          "output_type": "stream",
          "name": "stdout",
          "text": [
            "1\n",
            "4\n",
            "27\n",
            "16\n",
            "125\n",
            "36\n",
            "343\n",
            "64\n",
            "729\n",
            "100\n"
          ]
        }
      ]
    },
    {
      "cell_type": "markdown",
      "source": [
        "#### loops are used for iterating a list\n",
        "- the syntax is: **for item in list:**\n",
        "- inside the loop, the current list item goes by **item** (or whatever name you give it)\n"
      ],
      "metadata": {
        "id": "H0EPZ35aRBCA"
      }
    },
    {
      "cell_type": "code",
      "metadata": {
        "id": "FXYMwPmm9wZD",
        "colab": {
          "base_uri": "https://localhost:8080/"
        },
        "outputId": "ef8481f2-0656-47a2-a7db-d3e52ba4aec2"
      },
      "source": [
        "# 4. declare a list:\n",
        "fruits = [\"apple\", \"blueberry\", \"cantaloupe\", \"cherry\", \"grape\", \"kiwi\", \"mango\", \"orange\",\n",
        "          \"peach\", \"pear\", \"plum\", \"pineapple\", \"raspberry\", \"strawberry\", \"tangerine\"]\n",
        "\n",
        "# 5. loop the fruits and \"make jellybeans\":\n",
        "for fru in fruits:\n",
        "  print(fru + \" jellybean\")"
      ],
      "execution_count": null,
      "outputs": [
        {
          "output_type": "stream",
          "name": "stdout",
          "text": [
            "apple jellybean\n",
            "blueberry jellybean\n",
            "cantaloupe jellybean\n",
            "cherry jellybean\n",
            "grape jellybean\n",
            "kiwi jellybean\n",
            "mango jellybean\n",
            "orange jellybean\n",
            "peach jellybean\n",
            "pear jellybean\n",
            "plum jellybean\n",
            "pineapple jellybean\n",
            "raspberry jellybean\n",
            "strawberry jellybean\n",
            "tangerine jellybean\n"
          ]
        }
      ]
    },
    {
      "cell_type": "markdown",
      "source": [
        "**loops with conditional logic (if/else)**"
      ],
      "metadata": {
        "id": "o62u5x6hhZ5J"
      }
    },
    {
      "cell_type": "code",
      "source": [
        "# only make jellybeans from 5-letter fruits\n",
        "for fru in fruits:\n",
        "  if len(fru) == 5:\n",
        "    print(fru + \" jellybean\")"
      ],
      "metadata": {
        "colab": {
          "base_uri": "https://localhost:8080/"
        },
        "id": "Ee-Ew4ruhWPM",
        "outputId": "715d4266-b390-4887-e9ff-b798ac73b1ad"
      },
      "execution_count": null,
      "outputs": [
        {
          "output_type": "stream",
          "name": "stdout",
          "text": [
            "apple jellybean\n",
            "grape jellybean\n",
            "mango jellybean\n",
            "peach jellybean\n"
          ]
        }
      ]
    },
    {
      "cell_type": "code",
      "source": [
        "# challenge: only make jellybeans from fruits starting w \"p\":\n",
        "# first add as many p-fruits as you can think of:\n",
        "fruits.append('papaya')\n",
        "print(fruits)"
      ],
      "metadata": {
        "colab": {
          "base_uri": "https://localhost:8080/"
        },
        "id": "stUf28pAiB10",
        "outputId": "710348cb-2969-477a-e4fa-589ad265abda"
      },
      "execution_count": null,
      "outputs": [
        {
          "output_type": "stream",
          "name": "stdout",
          "text": [
            "['apple', 'blueberry', 'cantaloupe', 'cherry', 'grape', 'kiwi', 'mango', 'orange', 'peach', 'pear', 'plum', 'pineapple', 'raspberry', 'strawberry', 'tangerine', 'papaya']\n"
          ]
        }
      ]
    },
    {
      "cell_type": "code",
      "source": [
        "# add more that now p-fruits at a time\n",
        "fruits.extend(['pomegranate', 'persimmon'])\n",
        "print(fruits)"
      ],
      "metadata": {
        "colab": {
          "base_uri": "https://localhost:8080/"
        },
        "id": "zhLXLDsMiscZ",
        "outputId": "2129995e-9c1c-4ff8-ed89-d4f94e3bb4f3"
      },
      "execution_count": null,
      "outputs": [
        {
          "output_type": "stream",
          "name": "stdout",
          "text": [
            "['apple', 'blueberry', 'cantaloupe', 'cherry', 'grape', 'kiwi', 'mango', 'orange', 'peach', 'pear', 'plum', 'pineapple', 'raspberry', 'strawberry', 'tangerine', 'papaya', 'pomegranate', 'persimmon']\n"
          ]
        }
      ]
    },
    {
      "cell_type": "code",
      "source": [
        "# make the p-fruit j-beans:\n",
        "for fru in fruits:\n",
        "  if fru[0] == 'p':\n",
        "    print(fru + ' jellybean')"
      ],
      "metadata": {
        "colab": {
          "base_uri": "https://localhost:8080/"
        },
        "id": "ocI-kPMGi1ge",
        "outputId": "4b1c8dc3-a49c-4873-ad8e-aec8d600c64a"
      },
      "execution_count": null,
      "outputs": [
        {
          "output_type": "stream",
          "name": "stdout",
          "text": [
            "peach jellybean\n",
            "pear jellybean\n",
            "plum jellybean\n",
            "pineapple jellybean\n",
            "papaya jellybean\n",
            "pomegranate jellybean\n",
            "persimmon jellybean\n"
          ]
        }
      ]
    },
    {
      "cell_type": "markdown",
      "source": [
        "**berry good challenge**\n",
        "- only make berry jellybeans\n",
        "- what's the test?\n",
        "  - **string slice** last 5 chars: **str[-5:]**\n",
        "  - **in** to check if \"berry\" is in item"
      ],
      "metadata": {
        "id": "ykCqshaCj96F"
      }
    },
    {
      "cell_type": "markdown",
      "source": [
        "- **if \"string\" in item** checks if a string is in a bigger string or in a list item\n",
        "- if the string is in the item it returns **True**, else **False**"
      ],
      "metadata": {
        "id": "a-03ZvGhS9x0"
      }
    },
    {
      "cell_type": "code",
      "source": [
        "# 6. try out the string slice:\n",
        "# string[start:end_excl:step]\n",
        "animal = 'elephant'\n",
        "froot = 'strawberry'\n",
        "# get the 'ant' in elephant:\n",
        "print(animal[-3]) # a\n",
        "print(animal[-3:-1]) # an\n",
        "print(animal[-3:]) # ant\n",
        "print(froot[-5]) # b\n",
        "# get the 'berry' and 'straw' in 'strawberry':\n",
        "print(froot[-5:]) # berry\n",
        "print(froot[0:5]) # straw\n",
        "print(froot[:5]) # straw\n",
        "print(froot[0:1]) # s\n",
        "print(froot[0]) # s\n",
        "print(froot[::]) # strawberry\n",
        "print(froot[::2]) # srwer\n",
        "print(froot[::-1]) # yrrebwarts (-1 step goes backwards!)"
      ],
      "metadata": {
        "colab": {
          "base_uri": "https://localhost:8080/"
        },
        "id": "P2Kb3UzuS6uI",
        "outputId": "229495c0-96a1-47cd-85d7-af50e8f253cf"
      },
      "execution_count": null,
      "outputs": [
        {
          "output_type": "stream",
          "name": "stdout",
          "text": [
            "a\n",
            "an\n",
            "ant\n",
            "b\n",
            "berry\n",
            "straw\n",
            "straw\n",
            "s\n",
            "s\n",
            "strawberry\n",
            "srwer\n",
            "yrrebwarts\n"
          ]
        }
      ]
    },
    {
      "cell_type": "code",
      "source": [
        "# \"item in list\" returns true or false\n",
        "# \"char in str\" returns true or false\n",
        "print('peach' in fruits) # True\n",
        "print('ma' in 'mango') # True\n",
        "print('x-ray' in fruits) # False\n",
        "print('x' in 'mango') # False"
      ],
      "metadata": {
        "colab": {
          "base_uri": "https://localhost:8080/"
        },
        "id": "p5w8UcA9m2S3",
        "outputId": "f48bb190-9944-4880-ff85-9bd8be554280"
      },
      "execution_count": null,
      "outputs": [
        {
          "output_type": "stream",
          "name": "stdout",
          "text": [
            "True\n",
            "True\n",
            "False\n",
            "False\n"
          ]
        }
      ]
    },
    {
      "cell_type": "markdown",
      "source": [
        "- strings have index values, just like lists do\n",
        "- negative indexing applies: -1 is the last item"
      ],
      "metadata": {
        "id": "JWUw5bgKTYME"
      }
    },
    {
      "cell_type": "code",
      "source": [
        "# 7. get the first and last letters of this string:\n",
        "animal = \"bunny\"\n",
        "print(animal[0]) # b\n",
        "print(animal[-1]) # y\n",
        "\n",
        "# 8. get the second and third items in fruits\n",
        "print(fruits[1:3]) # ['blueberry', 'cantaloupe']\n",
        "\n",
        "# 8B. get the second letter of the third\n",
        "# item in fruits ('a' in 'cantaloupe')\n",
        "print(fruits[2][1]) # [2] is 3rd item, [2][1] is 3rd item, 2nd char\n",
        "\n",
        "# 8C. get the last 5 fruits\n",
        "print(fruits[-5:])\n",
        "\n",
        "# 8D. get every other fruit starting w 'apple' at beginning:\n",
        "print(fruits[::2])\n",
        "# ['apple', 'cantaloupe', 'grape', 'mango', 'peach', 'plum', 'raspberry', 'tangerine', 'pomegranate']\n",
        "\n",
        "# 8E. get all the other fruits not gotten in previous step:\n",
        "print(fruits[1::2])\n",
        "# ['blueberry', 'cherry', 'kiwi', 'orange', 'pear', 'pineapple', 'strawberry', 'papaya', 'persimmon']"
      ],
      "metadata": {
        "colab": {
          "base_uri": "https://localhost:8080/"
        },
        "id": "axJYVyIVTeeU",
        "outputId": "3f12fb4b-46c5-42b8-8c95-f31e096ad2d7"
      },
      "execution_count": null,
      "outputs": [
        {
          "output_type": "stream",
          "name": "stdout",
          "text": [
            "b\n",
            "y\n",
            "['blueberry', 'cantaloupe']\n",
            "a\n",
            "['strawberry', 'tangerine', 'papaya', 'pomegranate', 'persimmon']\n",
            "['apple', 'cantaloupe', 'grape', 'mango', 'peach', 'plum', 'raspberry', 'tangerine', 'pomegranate']\n",
            "['blueberry', 'cherry', 'kiwi', 'orange', 'pear', 'pineapple', 'strawberry', 'papaya', 'persimmon']\n"
          ]
        }
      ]
    },
    {
      "cell_type": "markdown",
      "source": [
        "- print() works but has a limitation: it doesn't store the output anywhere.\n",
        "- we have no way going forward to access any of our fruit treats\n",
        "- better would be to store all the treats in a new list"
      ],
      "metadata": {
        "id": "tEJ5XhqRUP9A"
      }
    },
    {
      "cell_type": "code",
      "source": [
        "# 8. CHALLENGE: Make Fruit Treats\n",
        "# loop the fruits and make  \"jam\", \"popsicles\", \"jelly\" or \"jellybeans\"\n",
        "# according to these conditions:\n",
        "\n",
        "# - if the fruit is a 'berry', make jam (\"strawberry jam\")\n",
        "# - if it starts with \"p\", make a popsicle (\"plum popsicle\")\n",
        "# - if the fruit consists of 5 letters or less, make jelly (\"apple jelly\", \"kiwi jelly\")\n",
        "# - if none of these conditions apply, make jellybean (\"cherry jellybean\")\n",
        "\n",
        "# don't just print the fruit treats\n",
        "# save the fruit treats to a new list, called treats,\n",
        "# rather than just printing the treats; this way,\n",
        "# the treats will be available throughout the code\n",
        "\n",
        "# 9. before starting if-else logic part..\n",
        "# sort() fruits and then add more fruits:\n",
        "# append() 'watermelon' to end of fruits:\n",
        "# insert() 'apricot' at correct spot to maintain A-Z order (without sorting again)\n",
        "# insert() 'banana' at correct spot to maintain A-Z order (without sorting again)\n",
        "fruits.sort()\n",
        "fruits.append('watermelon')\n",
        "fruits.insert(1,'apricot')\n",
        "fruits.insert(2,'banana')\n",
        "print(fruits)"
      ],
      "metadata": {
        "id": "dXZ-GHEgSKHq",
        "colab": {
          "base_uri": "https://localhost:8080/"
        },
        "outputId": "80276598-dc25-42f7-bf1e-3719b39e137b"
      },
      "execution_count": null,
      "outputs": [
        {
          "output_type": "stream",
          "name": "stdout",
          "text": [
            "['apple', 'apricot', 'banana', 'blueberry', 'cantaloupe', 'cherry', 'grape', 'kiwi', 'mango', 'orange', 'papaya', 'peach', 'pear', 'persimmon', 'pineapple', 'plum', 'pomegranate', 'raspberry', 'strawberry', 'tangerine', 'watermelon']\n"
          ]
        }
      ]
    },
    {
      "cell_type": "code",
      "source": [
        "# 10. declare a new empty list\n",
        "treats = []"
      ],
      "metadata": {
        "id": "alcOXpbD_Aw6"
      },
      "execution_count": null,
      "outputs": []
    },
    {
      "cell_type": "code",
      "source": [
        "for fru in fruits:\n",
        "  # if the fruit is a 'berry'\n",
        "  if 'berry' in fru: # OR: if fru[-5:] == 'berry' OR fru.endswith('berry')\n",
        "    # make jam (\"strawberry jam\")\n",
        "    treats.append(fru + ' jam')\n",
        "  # if it starts with \"p\"\n",
        "  elif fru[0] == 'p': # OR fru.startswith('berry')\n",
        "    # make a popsicle (\"plum popsicle\")\n",
        "    treats.append(fru + ' popsicle')\n",
        "  # if the fruit consists of 5 letters or less\n",
        "  elif len(fru) <= 5:\n",
        "    # make jelly (\"apple jelly\", \"kiwi jelly\")\n",
        "    treats.append(fru + ' jelly')\n",
        "  # none of these conditions apply\n",
        "  else:\n",
        "    # make jellybean (\"cherry jellybean\")\n",
        "    treats.append(fru + ' jellybean')\n",
        "\n",
        "pp.pprint(treats)"
      ],
      "metadata": {
        "colab": {
          "base_uri": "https://localhost:8080/"
        },
        "id": "w_l35kKy-_RJ",
        "outputId": "f0255d68-4e0b-4e68-8939-b5260b46b3d4"
      },
      "execution_count": null,
      "outputs": [
        {
          "output_type": "stream",
          "name": "stdout",
          "text": [
            "['apple jelly',\n",
            " 'apricot jellybean',\n",
            " 'banana jellybean',\n",
            " 'blueberry jam',\n",
            " 'cantaloupe jellybean',\n",
            " 'cherry jellybean',\n",
            " 'grape jelly',\n",
            " 'kiwi jelly',\n",
            " 'mango jelly',\n",
            " 'orange jellybean',\n",
            " 'papaya popsicle',\n",
            " 'peach popsicle',\n",
            " 'pear popsicle',\n",
            " 'persimmon popsicle',\n",
            " 'pineapple popsicle',\n",
            " 'plum popsicle',\n",
            " 'pomegranate popsicle',\n",
            " 'raspberry jam',\n",
            " 'strawberry jam',\n",
            " 'tangerine jellybean',\n",
            " 'watermelon jellybean',\n",
            " 'apple jelly',\n",
            " 'apricot jellybean',\n",
            " 'banana jellybean',\n",
            " 'apricot jellybean',\n",
            " 'apricot jellybean',\n",
            " 'apricot jellybean',\n",
            " 'banana jellybean',\n",
            " 'banana jellybean',\n",
            " 'banana jellybean',\n",
            " 'blueberry jam',\n",
            " 'cantaloupe jellybean',\n",
            " 'cherry jellybean',\n",
            " 'grape jelly',\n",
            " 'kiwi jelly',\n",
            " 'mango jelly',\n",
            " 'orange jellybean',\n",
            " 'papaya popsicle',\n",
            " 'peach popsicle',\n",
            " 'pear popsicle',\n",
            " 'persimmon popsicle',\n",
            " 'pineapple popsicle',\n",
            " 'plum popsicle',\n",
            " 'pomegranate popsicle',\n",
            " 'raspberry jam',\n",
            " 'strawberry jam',\n",
            " 'tangerine jellybean',\n",
            " 'watermelon jellybean',\n",
            " 'watermelon jellybean',\n",
            " 'watermelon jellybean',\n",
            " 'watermelon jellybean']\n"
          ]
        }
      ]
    },
    {
      "cell_type": "code",
      "source": [
        "# ChatGPT request:\n",
        "# Given this list:\n",
        "fruits = ['apple', 'apricot', 'banana', 'apricot', 'apricot', 'apricot', 'banana', 'banana', 'banana', 'blueberry', 'cantaloupe', 'cherry', 'grape', 'kiwi', 'mango', 'orange', 'papaya', 'peach', 'pear', 'persimmon', 'pineapple', 'plum', 'pomegranate', 'raspberry', 'strawberry', 'tangerine', 'watermelon', 'watermelon', 'watermelon', 'watermelon']\n",
        "print('fruits w duplicates:\\n', fruits)\n",
        "fruits = list(set(fruits)) # set() scrambles the order\n",
        "fruits.sort()\n",
        "print('fruits w/o duplicates:\\n', fruits)\n",
        "\n",
        "# Write Python code that makes  \"jam\", \"popsicles\", \"jelly\" or \"jellybeans\"\n",
        "# according to these conditions:\n",
        "# - if the fruit is a 'berry', make jam (\"strawberry jam\")\n",
        "# - if it starts with \"p\", make a popsicle (\"plum popsicle\")\n",
        "# - if the fruit consists of 5 letters or less, make jelly (\"apple jelly\", \"kiwi jelly\")\n",
        "# - if none of these conditions apply, make jellybean (\"cherry jellybean\")\n",
        "# don't just print the fruit treats\n",
        "# save the fruit treats to a new list, called treats,"
      ],
      "metadata": {
        "colab": {
          "base_uri": "https://localhost:8080/"
        },
        "id": "rGTN0rQ6-Wr5",
        "outputId": "ec59391c-ad74-4120-cbf0-1994876c7714"
      },
      "execution_count": null,
      "outputs": [
        {
          "output_type": "stream",
          "name": "stdout",
          "text": [
            "fruits w duplicates:\n",
            " ['apple', 'apricot', 'banana', 'apricot', 'apricot', 'apricot', 'banana', 'banana', 'banana', 'blueberry', 'cantaloupe', 'cherry', 'grape', 'kiwi', 'mango', 'orange', 'papaya', 'peach', 'pear', 'persimmon', 'pineapple', 'plum', 'pomegranate', 'raspberry', 'strawberry', 'tangerine', 'watermelon', 'watermelon', 'watermelon', 'watermelon']\n",
            "fruits w/o duplicates:\n",
            " ['apple', 'apricot', 'banana', 'blueberry', 'cantaloupe', 'cherry', 'grape', 'kiwi', 'mango', 'orange', 'papaya', 'peach', 'pear', 'persimmon', 'pineapple', 'plum', 'pomegranate', 'raspberry', 'strawberry', 'tangerine', 'watermelon']\n"
          ]
        }
      ]
    },
    {
      "cell_type": "markdown",
      "source": [
        "**slicing: [start_index:end_index]** returns a \"slice\" of a list or string\n",
        "- end_index is exclusive (not included in returned slice)"
      ],
      "metadata": {
        "id": "eedkaz5DVHQf"
      }
    },
    {
      "cell_type": "code",
      "source": [
        "# HW: more slicing of items from list\n",
        "# 13. get the first 5 fruits:\n",
        "print(fruits[:5])\n",
        "\n",
        "# 14. get the last 5 fruits:\n",
        "print(fruits[-5:])\n",
        "\n",
        "# 15. get from 'cherry' all the way to the end\n",
        "# find cherry:\n",
        "cherry_index = fruits.index('cherry')\n",
        "print('cherry_index:', cherry_index)\n",
        "print(fruits[cherry_index:])\n",
        "\n",
        "# 16. get all but first and last items:\n",
        "print(fruits[1:-1]) # end index is exclusive, so last item at -1 doesn't go\n",
        "\n",
        "# 17. specify a step\n",
        "# get every other item starting w apple: 'apple', 'blueberry', 'cherry'\n",
        "print(fruits[::2]) # nothing: means start at beginning\n",
        "# :nothing means go to the end\n",
        "# :: means start at beginning and go to the end\n",
        "# ::2 means do all, but only every other one\n",
        "# ::-1 do all, backwards\n",
        "\n",
        "# 18. starting at 3rd item, get every 3rd item:\n",
        "print(fruits[2::3])\n",
        "\n",
        "# 19. selecting ranges works for strings too: get the \"blue\" in \"blueberry\"\n",
        "print(\"blueberry\"[:4])\n",
        "\n",
        "# 20. get the 'apple' in \"pineapple\"\n",
        "print(\"pineapple\"[-5:])"
      ],
      "metadata": {
        "colab": {
          "base_uri": "https://localhost:8080/"
        },
        "id": "9mZuWNDGNnUB",
        "outputId": "75a7e2d3-d067-49bb-a7fd-8f4349c05428"
      },
      "execution_count": null,
      "outputs": [
        {
          "output_type": "stream",
          "name": "stdout",
          "text": [
            "['apple', 'apricot', 'banana', 'blueberry', 'cantaloupe']\n",
            "['pomegranate', 'raspberry', 'strawberry', 'tangerine', 'watermelon']\n",
            "cherry_index: 5\n",
            "['cherry', 'grape', 'kiwi', 'mango', 'orange', 'papaya', 'peach', 'pear', 'persimmon', 'pineapple', 'plum', 'pomegranate', 'raspberry', 'strawberry', 'tangerine', 'watermelon']\n",
            "['apricot', 'banana', 'blueberry', 'cantaloupe', 'cherry', 'grape', 'kiwi', 'mango', 'orange', 'papaya', 'peach', 'pear', 'persimmon', 'pineapple', 'plum', 'pomegranate', 'raspberry', 'strawberry', 'tangerine']\n",
            "['apple', 'banana', 'cantaloupe', 'grape', 'mango', 'papaya', 'pear', 'pineapple', 'pomegranate', 'strawberry', 'watermelon']\n",
            "['banana', 'cherry', 'mango', 'peach', 'pineapple', 'raspberry', 'watermelon']\n",
            "blue\n",
            "apple\n"
          ]
        }
      ]
    },
    {
      "cell_type": "markdown",
      "source": [
        "**split()** method is called on a string and returns a list\n",
        "- **split(\"-\") takes an optional **delimiter**, specifying where to split, such as on the hyphens\n",
        "- if no delimiter is provided, it splits on the space"
      ],
      "metadata": {
        "id": "K4wsdOnEQicW"
      }
    },
    {
      "cell_type": "code",
      "source": [
        "# split method is called on a string and returns a list\n",
        "\n",
        "# 21. declare two strings\n",
        "full_name = 'Ralph Waldo Emerson'\n",
        "car = 'Toyota Corolla SR5'\n",
        "\n",
        "# 22. split the name into a list of 3 items\n",
        "names_list = full_name.split()\n",
        "print(names_list)\n",
        "\n",
        "# 23. split the car into a list of make and model\n",
        "car_make_and_model = car.split()\n",
        "print(car_make_and_model)\n",
        "\n",
        "# 23B. save just the make (Toyota) to a variable (make)\n",
        "make = car_make_and_model[0]\n",
        "print('make:', make) # Toyota (as string)\n",
        "\n",
        "# 23C. save the model, which may be more than one word, to a var (model)\n",
        "model = car_make_and_model[1:]\n",
        "print('model:', model) # ['Corolla', 'SR5']\n",
        "# result is list, BUT we want string: 'Corolla SR5'"
      ],
      "metadata": {
        "colab": {
          "base_uri": "https://localhost:8080/"
        },
        "id": "8f1FajPrQhto",
        "outputId": "4ad31ef7-8c02-4996-bcea-df45387a2332"
      },
      "execution_count": null,
      "outputs": [
        {
          "output_type": "stream",
          "name": "stdout",
          "text": [
            "['Ralph', 'Waldo', 'Emerson']\n",
            "['Toyota', 'Corolla', 'SR5']\n",
            "make: Toyota\n",
            "model: ['Corolla', 'SR5']\n"
          ]
        }
      ]
    },
    {
      "cell_type": "code",
      "source": [
        "# split() splits on space if no delimiter is provided\n",
        "# to split on non-space, pass in a delimiter, such as a '-'\n",
        "\n",
        "# 24. split this file name into a list of words\n",
        "file_name = 'cat-playing-with-ball-of-yarn.jpg'\n",
        "file_name_words = file_name.split('-')\n",
        "print(file_name_words) # ['cat', 'playing', 'with', 'ball', 'of', 'yarn.jpg']"
      ],
      "metadata": {
        "colab": {
          "base_uri": "https://localhost:8080/"
        },
        "id": "99JgOqhBQ_7n",
        "outputId": "f94fd9d7-ba68-49f2-d418-29188b7f5828"
      },
      "execution_count": null,
      "outputs": [
        {
          "output_type": "stream",
          "name": "stdout",
          "text": [
            "['cat', 'playing', 'with', 'ball', 'of', 'yarn.jpg']\n"
          ]
        }
      ]
    },
    {
      "cell_type": "code",
      "source": [
        "# get rid of the .jpg file extension\n",
        "# this involves selecting the string from index 0 to the index of the dot\n",
        "# string.index('x') returns the index of the first 'x'\n",
        "\n",
        "# 25. find the index of the dot in the original string\n",
        "index_of_dot = file_name.index('.')\n",
        "print('index_of_dot:', index_of_dot) # 29\n",
        "\n",
        "# 26. select up to but not including the dot\n",
        "file_name_no_ext = file_name[:index_of_dot]\n",
        "print('file_name_no_ext:', file_name_no_ext)\n",
        "\n",
        "# 27. The file extension is gone, go split again:\n",
        "words_list = file_name_no_ext.split('-')\n",
        "print(words_list)"
      ],
      "metadata": {
        "colab": {
          "base_uri": "https://localhost:8080/"
        },
        "id": "ttjNknlbRhvs",
        "outputId": "dd9d689f-42a3-4cc0-ab3f-658987aed190"
      },
      "execution_count": null,
      "outputs": [
        {
          "output_type": "stream",
          "name": "stdout",
          "text": [
            "index_of_dot: 29\n",
            "file_name_no_ext: cat-playing-with-ball-of-yarn\n",
            "['cat', 'playing', 'with', 'ball', 'of', 'yarn']\n"
          ]
        }
      ]
    },
    {
      "cell_type": "code",
      "source": [
        "# loop version of the above:\n",
        "# remove file ext from list of filenames\n",
        "# make list of resulting words\n",
        "# save ALL words in a new list called all_words\n",
        "file_names_list = ['cat-playing-with-ball-of-yarn.jpg',\n",
        "                   'cat-refuses-to-play-with-floppy-fish.jpg',\n",
        "                   'suspicious-dog-glancing-sideways.jpeg',\n",
        "                   'cute-fluffy-bunny-eating-kale.gif']\n",
        "\n",
        "# declare a new list for storing ALL words from ALL files\n",
        "all_words  = []\n",
        "for file in file_names_list:\n",
        "  # remove ext:\n",
        "  dot_index = file.index('.')\n",
        "  file_no_ext = file[:dot_index]\n",
        "  # split current file name into list\n",
        "  file_words = file_no_ext.split('-')\n",
        "  all_words.extend(file_words)\n",
        "\n",
        "# get rid of duplicate words\n",
        "all_words = list(set(all_words))\n",
        "\n",
        "# sort the words in alphabetical order\n",
        "all_words.sort()\n",
        "pp.pprint(all_words)"
      ],
      "metadata": {
        "colab": {
          "base_uri": "https://localhost:8080/"
        },
        "id": "7WxepTbIGGhf",
        "outputId": "f9c7a48e-783a-4004-a3b3-9e778290b6eb"
      },
      "execution_count": null,
      "outputs": [
        {
          "output_type": "stream",
          "name": "stdout",
          "text": [
            "['ball',\n",
            " 'bunny',\n",
            " 'cat',\n",
            " 'cute',\n",
            " 'dog',\n",
            " 'eating',\n",
            " 'fish',\n",
            " 'floppy',\n",
            " 'fluffy',\n",
            " 'glancing',\n",
            " 'kale',\n",
            " 'of',\n",
            " 'play',\n",
            " 'playing',\n",
            " 'refuses',\n",
            " 'sideways',\n",
            " 'suspicious',\n",
            " 'to',\n",
            " 'with',\n",
            " 'yarn']\n"
          ]
        }
      ]
    },
    {
      "cell_type": "markdown",
      "source": [
        "**join()** method is called on a delimiter, takes a list as its argument and returns a string"
      ],
      "metadata": {
        "id": "6qe8bhGHAeg0"
      }
    },
    {
      "cell_type": "code",
      "source": [
        "print(model) # ['Corolla', 'SR5']\n",
        "# join the list into a string, so that we have the model name as string\n",
        "model_str = \" \".join(model)\n",
        "print('model_str:', model_str)"
      ],
      "metadata": {
        "colab": {
          "base_uri": "https://localhost:8080/"
        },
        "id": "ha0NKo4uAY_K",
        "outputId": "cb767f71-9957-4185-972b-3cefbf698d69"
      },
      "execution_count": null,
      "outputs": [
        {
          "output_type": "stream",
          "name": "stdout",
          "text": [
            "['Corolla', 'SR5']\n",
            "model_str: Corolla SR5\n"
          ]
        }
      ]
    },
    {
      "cell_type": "code",
      "source": [
        "# 30. CHALLENGE: given this list, make 2 new lists:\n",
        "\n",
        "vehicles = ['Ford Bronco XLT', 'Ford Ranger Cub Delux', 'Chevrolet Corvette CV3', 'Chevrolet Camaro',\n",
        "        'Toyota Corolla SR5', 'Ford Taurus XL', 'Toyota 4Runner', 'Ford Pinto', \"AMC Pacer\"]\n",
        "\n",
        "# one list should have just the makes\n",
        "makes = []\n",
        "# the other list should have the models, which can be anywhere from one to three words:\n",
        "models = []\n",
        "# expected output:\n",
        "# [\"Ford\", \"Ford\", \"Chevrolet\", \"Chevrolet\", \"Toyota\", \"Ford\", \"Toyots\"]\n",
        "# ['Bronco XLT', 'Ranger Cub Delux', 'Corvette CV3', 'Camaro', 'Corolla SR5', 'Taurus XL', '4Runner']\n",
        "\n",
        "# TIP: first, get your code to work on just ONE thing item in the list\n",
        "# then, roll out that solution in a loop to all the items in the list\n",
        "# TIP 2: print to test early and often -- don't wait til end to see ERROR\n",
        "\n",
        "# 31. loop the vehicles list:\n",
        "for car in vehicles:\n",
        "  # 32. split() the car into a list\n",
        "  mm_list = car.split() # ['Ford', 'Bronco', 'XLT']\n",
        "  # 33. get the make, which is the first item in the list\n",
        "  makes.append(mm_list[0]) # 'Ford'\n",
        "  # 34. get the model, which is all the rest of the items\n",
        "  models.append(\" \".join(mm_list[1:]))\n",
        "\n",
        "print(makes)\n",
        "print(models)"
      ],
      "metadata": {
        "colab": {
          "base_uri": "https://localhost:8080/"
        },
        "id": "C2qwZZ6LBtoj",
        "outputId": "7aa5dc54-a1ba-4940-b27f-d96cfe03f6ee"
      },
      "execution_count": null,
      "outputs": [
        {
          "output_type": "stream",
          "name": "stdout",
          "text": [
            "['Ford', 'Ford', 'Chevrolet', 'Chevrolet', 'Toyota', 'Ford', 'Toyota', 'Ford', 'AMC']\n",
            "['Bronco XLT', 'Ranger Cub Delux', 'Corvette CV3', 'Camaro', 'Corolla SR5', 'Taurus XL', '4Runner', 'Pinto', 'Pacer']\n",
            "\n",
            "\n",
            "\n",
            "\n",
            "\n"
          ]
        }
      ]
    }
  ]
}