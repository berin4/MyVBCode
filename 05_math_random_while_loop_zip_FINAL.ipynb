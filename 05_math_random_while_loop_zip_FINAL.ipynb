{
  "nbformat": 4,
  "nbformat_minor": 0,
  "metadata": {
    "colab": {
      "provenance": [],
      "include_colab_link": true
    },
    "kernelspec": {
      "name": "python3",
      "display_name": "Python 3"
    },
    "language_info": {
      "name": "python"
    }
  },
  "cells": [
    {
      "cell_type": "markdown",
      "metadata": {
        "id": "view-in-github",
        "colab_type": "text"
      },
      "source": [
        "<a href=\"https://colab.research.google.com/github/berin4/MyVBCode/blob/master/05_math_random_while_loop_zip_FINAL.ipynb\" target=\"_parent\"><img src=\"https://colab.research.google.com/assets/colab-badge.svg\" alt=\"Open In Colab\"/></a>"
      ]
    },
    {
      "cell_type": "markdown",
      "source": [
        "##Randon Numbers\n",
        "- **random** module provides various methods for generating random numbers"
      ],
      "metadata": {
        "id": "VJk9DWfsxZP_"
      }
    },
    {
      "cell_type": "code",
      "source": [
        "# 1. import random module:\n",
        "import random\n",
        "# check the datatype which is 'module':\n",
        "print(type(random))\n",
        "# <class 'module'>"
      ],
      "metadata": {
        "id": "HkFpozEOZkf1",
        "colab": {
          "base_uri": "https://localhost:8080/"
        },
        "outputId": "0e1a39c7-cd3f-4dc1-dd3b-39469c92eff2"
      },
      "execution_count": null,
      "outputs": [
        {
          "output_type": "stream",
          "name": "stdout",
          "text": [
            "<class 'module'>\n"
          ]
        }
      ]
    },
    {
      "cell_type": "markdown",
      "source": [
        "**random.random()** generates a 17-digit random float from 0-1"
      ],
      "metadata": {
        "id": "pINrssmKhi5t"
      }
    },
    {
      "cell_type": "code",
      "source": [
        "# 2. generates a 17-digit random float from 0-1\n",
        "r = random.random()\n",
        "print(r) # 0.6204716734735688"
      ],
      "metadata": {
        "id": "cLmfcFMfhiEO",
        "colab": {
          "base_uri": "https://localhost:8080/"
        },
        "outputId": "6126cb38-05e3-4526-85e8-eb3894816948"
      },
      "execution_count": null,
      "outputs": [
        {
          "output_type": "stream",
          "name": "stdout",
          "text": [
            "0.288194434256445\n"
          ]
        }
      ]
    },
    {
      "cell_type": "markdown",
      "source": [
        "- **while loop** runs as long as a condition is met\n",
        "- **for loop** runs a specified *number* of times\n",
        "- use for loop when you know exactly how many iterations there will be, such as iterating the fruits list\n",
        "- use while loop when you're not sure how many iterations it will take to get the job done"
      ],
      "metadata": {
        "id": "OmJB-uG8TPGd"
      }
    },
    {
      "cell_type": "code",
      "source": [
        "# generate rand int from 1 - 69\n",
        "r = int(random.random() * 70)\n",
        "print(r) # 34.53943269838626\n",
        "\n",
        "# make Powerball ticket:\n",
        "# 5 non-repeating ints from 1-69 in ascending order\n",
        "# followed by 1 int from 1-26 (can repeat one of the 5)\n",
        "ticket = []\n",
        "# loop 5x the ints from 0-4\n",
        "# for i in range(5):\n",
        "while len(ticket) < 5:\n",
        "  # generate random int in 1-69 range:\n",
        "  r = int(random.random() * 69) + 1\n",
        "  # check if rand num is not already in ticket list:\n",
        "  if r not in ticket:\n",
        "    ticket.append(r)\n",
        "\n",
        "# put the 5 nums in asc order:\n",
        "ticket.sort()\n",
        "\n",
        "# append the Powerball number (1-26)\n",
        "pbn = int(random.random() * 26) + 1\n",
        "ticket.append(pbn)\n",
        "print(ticket)"
      ],
      "metadata": {
        "colab": {
          "base_uri": "https://localhost:8080/"
        },
        "id": "6YPIvAPoRRCT",
        "outputId": "cf2f1711-ba75-42d2-912c-74325f6ef3cb"
      },
      "execution_count": null,
      "outputs": [
        {
          "output_type": "stream",
          "name": "stdout",
          "text": [
            "14\n",
            "[11, 24, 54, 55, 60, 5]\n"
          ]
        }
      ]
    },
    {
      "cell_type": "markdown",
      "source": [
        "**random.randint(min,max)** generates a random integer in the min, max range"
      ],
      "metadata": {
        "id": "oXUl2RwLhXSH"
      }
    },
    {
      "cell_type": "code",
      "source": [
        "# 4. generate a random integer from 1-100\n",
        "# randint(min, max) w max being inclusive\n",
        "r = random.randint(1,100)\n",
        "print(r)\n",
        "\n",
        "# refactor lottery ticket genertor:\n",
        "ticket = []\n",
        "while len(ticket) < 5:\n",
        "  r = random.randint(1,69)\n",
        "  if r not in ticket:\n",
        "    ticket.append(r)\n",
        "\n",
        "ticket.sort()\n",
        "\n",
        "pbn = random.randint(1,26)\n",
        "ticket.append(pbn)\n",
        "print(ticket)"
      ],
      "metadata": {
        "colab": {
          "base_uri": "https://localhost:8080/"
        },
        "id": "iTxMbMbphfi2",
        "outputId": "466c88d6-bd5c-42c9-da42-ca342595f058"
      },
      "execution_count": null,
      "outputs": [
        {
          "output_type": "stream",
          "name": "stdout",
          "text": [
            "80\n",
            "[8, 40, 48, 63, 69, 16]\n"
          ]
        }
      ]
    },
    {
      "cell_type": "markdown",
      "source": [
        "**random.sample(min,max,count)** generates a sample of numbers in the min max range as provided by the\n",
        "**range(min,max)** method"
      ],
      "metadata": {
        "id": "XCJ4DMClgKQo"
      }
    },
    {
      "cell_type": "code",
      "source": [
        "# ChatGPT prompt:\n",
        "# Using Python, please generate one random powerball lottery ticket as a list\n",
        "# a powerball ticket has 5 non-repeating numbers from 1-69 in ascending order\n",
        "# followed by a number from 1-26 which may repeat one of the previous 5 numbers\n",
        "\n",
        "# ChatGPT avoids while loop by using random.sample(min,max,count)\n",
        "# which returns only unique values\n",
        "\n",
        "# Generate 5 non-repeating numbers from 1 to 69\n",
        "numbers = random.sample(range(1, 70), 5)\n",
        "numbers.sort()\n",
        "\n",
        "# Generate a random powerball number from 1 to 26\n",
        "powerball = random.randint(1, 26)\n",
        "\n",
        "# Append the powerball number to the list of numbers\n",
        "numbers.append(powerball)\n",
        "\n",
        "print(\"Powerball ticket:\", numbers)"
      ],
      "metadata": {
        "id": "NL8bjaflVubg"
      },
      "execution_count": null,
      "outputs": []
    },
    {
      "cell_type": "code",
      "metadata": {
        "id": "lk7pRz1jC-zj",
        "colab": {
          "base_uri": "https://localhost:8080/"
        },
        "outputId": "668f9b1a-512c-4b3d-bec4-bd0da8957062"
      },
      "source": [
        "# 3. generate a random integer from 1-100 in multiples of 5\n",
        "# randint(min, max) w max being inclusive\n",
        "\n",
        "print()"
      ],
      "execution_count": null,
      "outputs": [
        {
          "output_type": "stream",
          "name": "stdout",
          "text": [
            "\n"
          ]
        }
      ]
    },
    {
      "cell_type": "code",
      "metadata": {
        "id": "Q5m_Jl06F7Bi",
        "colab": {
          "base_uri": "https://localhost:8080/"
        },
        "outputId": "91d6d1a7-c573-40e6-81c1-42ad8b6e8d6c"
      },
      "source": [
        "# 5. make a list of 10 random years from 1900-1999, w no repeats\n",
        "\n",
        "print()\n",
        "\n",
        "# 6. sort the years\n",
        "\n"
      ],
      "execution_count": null,
      "outputs": [
        {
          "output_type": "stream",
          "name": "stdout",
          "text": [
            "\n"
          ]
        }
      ]
    },
    {
      "cell_type": "code",
      "source": [
        "# 7. CHALLENGE\n",
        "\n",
        "# given this list of students\n",
        "students = [\"Amy\", \"Ben\", \"Cal\", \"Dan\", \"Eli\", \"Fay\", \"Guo\",\n",
        "            \"Hal\", \"Ida\", \"Jed\", \"Ken\", \"Les\", \"Moe\"]\n",
        "\n",
        "# generate pairs of random SAT Math and Verbal scores for each student\n",
        "# scores must range from 400-800\n",
        "# scores must end in 0\n",
        "# expected output example: Amy: Math: 680  Verbal: 700\n",
        "# hint 1: get it to work for ONE student first,\n",
        "# then roll out that solution with a loop\n",
        "# print each students score, one by one, in the loop\n",
        "\n",
        "# 8. Make a random SAT Math and Verbal Scores:\n",
        "math_score = random.randint(20,80) * 10\n",
        "print(math_score)\n",
        "\n",
        "verb_score = random.randint(20,80) * 10\n",
        "print(verb_score)\n",
        "\n",
        "# 9. Assign those scores to the first student:\n",
        "student_score = f'{students[0]}: Math: ${math_score}, Verb: {verb_score}'\n",
        "print(student_score)\n",
        "\n",
        "# 10. Loop the students list, assigning scores to each student:\n",
        "for s in students:\n",
        "  M = random.randint(40,80) * 10\n",
        "  V = random.randint(40,80) * 10\n",
        "  print(f\"{s}: Math: {M}  Verbal: {V}\")\n",
        "\n",
        "# Example Output:\n",
        "# Amy: Math: 680,  Verbal: 560\n",
        "# Ben: Math: 580,  Verbal: 650\n",
        "# Cal: Math: 480,  Verbal: 760\n",
        "# Dan: Math: 670,  Verbal: 450"
      ],
      "metadata": {
        "colab": {
          "base_uri": "https://localhost:8080/"
        },
        "id": "n4x22xZafB1g",
        "outputId": "a8ca6386-81dc-4f48-8451-a5c84ffcf642"
      },
      "execution_count": null,
      "outputs": [
        {
          "output_type": "stream",
          "name": "stdout",
          "text": [
            "\n",
            "\n",
            "\n",
            "Math Verbal: \n"
          ]
        }
      ]
    },
    {
      "cell_type": "markdown",
      "source": [
        "**random.sample(range(min,max,step), count)** allows you to set a step in the range as the third argument; in this way we can step by 10 to assure that the scores always end in 0"
      ],
      "metadata": {
        "id": "TJsLHMT2jwmp"
      }
    },
    {
      "cell_type": "code",
      "metadata": {
        "id": "iZgamne0K-ur",
        "colab": {
          "base_uri": "https://localhost:8080/"
        },
        "outputId": "0ae32104-64ec-44b2-922c-209bc80d5204"
      },
      "source": [
        "# 5. make a list of 10 random years from 1900-1999, w no repeats\n",
        "rand_years = random.sample(range(1950,2024),10)\n",
        "print(rand_years)\n",
        "\n",
        "# 6. sort the years\n",
        "rand_years.sort()\n",
        "print(rand_years)"
      ],
      "execution_count": null,
      "outputs": [
        {
          "output_type": "stream",
          "name": "stdout",
          "text": [
            "\n",
            "\n"
          ]
        }
      ]
    },
    {
      "cell_type": "markdown",
      "source": [
        "**zip(list1, list2, etc.)** takes multiple lists so that we can have access to more than one list in a loop.  \n",
        "- in the loop, we need both the math and verbal lists to assign scores to all the *students*\n",
        "- in the loop, each item in the zip object is available with each iteration\n",
        "- **for s, m, v in zip(students, math_scores, verb_scores)** represents the current list items as s, m and v  \n",
        "(current student, math score, verbal score)"
      ],
      "metadata": {
        "id": "huj--vXYkSTY"
      }
    },
    {
      "cell_type": "code",
      "source": [
        "# using zip, make smoothie pairs\n",
        "# consisting of one fruits and one veggie,\n",
        "# taken from their lists in the same order\n",
        "fruits = ['apple', 'banana', 'cherry']\n",
        "veggies = ['kale', 'celery', 'carrot']\n",
        "\n",
        "for fru, veg in zip(fruits, veggies):\n",
        "  print(f'{fru}-{veg} smoothie')\n"
      ],
      "metadata": {
        "colab": {
          "base_uri": "https://localhost:8080/"
        },
        "id": "93CV_L6zkSmH",
        "outputId": "4de62dd0-4d86-4d8f-e2a1-5641e95ba5b5"
      },
      "execution_count": null,
      "outputs": [
        {
          "output_type": "stream",
          "name": "stdout",
          "text": [
            "Math: Verbal: \n"
          ]
        }
      ]
    }
  ]
}