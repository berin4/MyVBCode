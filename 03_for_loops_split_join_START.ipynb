{
  "nbformat": 4,
  "nbformat_minor": 0,
  "metadata": {
    "colab": {
      "provenance": [],
      "include_colab_link": true
    },
    "kernelspec": {
      "name": "python3",
      "display_name": "Python 3"
    },
    "language_info": {
      "name": "python"
    }
  },
  "cells": [
    {
      "cell_type": "markdown",
      "metadata": {
        "id": "view-in-github",
        "colab_type": "text"
      },
      "source": [
        "<a href=\"https://colab.research.google.com/github/berin4/MyVBCode/blob/master/03_for_loops_split_join_START.ipynb\" target=\"_parent\"><img src=\"https://colab.research.google.com/assets/colab-badge.svg\" alt=\"Open In Colab\"/></a>"
      ]
    },
    {
      "cell_type": "markdown",
      "source": [
        "##**Loops**\n",
        "####Repeating code again and again (as long as a condition remains true)\n",
        "\n",
        "####Select List items by Range: **[start_index,end_index]**\n",
        "\n",
        "- a **loop** is a block of code that runs over and over again\n",
        "- the loop repeats as long as the **condition** remains true\n",
        "- the condition is a comparison of some number to the **counter** variable\n",
        "- the counter goes up or down with each iteration of the loop\n",
        "- when the counter reaches a certain value, the condition becomes false, and the loop stops\n",
        "- syntax: **for i in range(1,11)** will loop 10x (1-10) provided **i** is incremented by 1 each time loop runs\n",
        "- an **infinite loop** (loop that never ends) occurs when the logic is flawed in such a way that the condition is forever true\n",
        "- the most common type of loop is the **for loop**\n",
        "- a loop can **iterate** a **range** of numbers or the items in an **iterable**, such as a list\n",
        "- **range(start, stop, step)** is a function used to loop a range of numbers, as opposed to the items of a list"
      ],
      "metadata": {
        "id": "JHwFP3LSvwlA"
      }
    },
    {
      "cell_type": "markdown",
      "source": [
        "#### looping a range of numbers"
      ],
      "metadata": {
        "id": "OPC5rH_JREO9"
      }
    },
    {
      "cell_type": "code",
      "source": [
        "# import pprint to make print output easier to read\n",
        "# (long output doesn't scroll sideways)\n",
        "from pprint import pprint"
      ],
      "metadata": {
        "id": "Ghjd0kYK9sIF"
      },
      "execution_count": 2,
      "outputs": []
    },
    {
      "cell_type": "code",
      "metadata": {
        "id": "OdFheQt67Xv2",
        "colab": {
          "base_uri": "https://localhost:8080/"
        },
        "outputId": "5a1bbb19-d5dc-4c92-ac23-9ba7edf4798c"
      },
      "source": [
        "# 1. use the range() function to loop 10 tims, printing the\n",
        "\n",
        "\n",
        "\n",
        "# [1, 11) in interval notation\n",
        "# start= inclusive, end=exclusive\n",
        "\n",
        "# first iteration:i = 1, second iteration: i= 2, Third Iteration:i = 3,,, etc.\n",
        "\n",
        "# by default starts at 0\n",
        "for i in range(10): # [0, 10) starting at 0 inclusively to 10 exclusively\n",
        "    print(f\"printing ... {i}\")\n",
        "\n",
        "print(\"---------------------------\")\n",
        "\n",
        "for i in range(1, 11): # [1, 11) starting at 1 inclusively to 11 exclusively\n",
        "    print(f\"printing ... {i}\")\n",
        "\n"
      ],
      "execution_count": null,
      "outputs": [
        {
          "output_type": "stream",
          "name": "stdout",
          "text": [
            "printing ... 0\n",
            "printing ... 1\n",
            "printing ... 2\n",
            "printing ... 3\n",
            "printing ... 4\n",
            "printing ... 5\n",
            "printing ... 6\n",
            "printing ... 7\n",
            "printing ... 8\n",
            "printing ... 9\n",
            "---------------------------\n",
            "printing ... 1\n",
            "printing ... 2\n",
            "printing ... 3\n",
            "printing ... 4\n",
            "printing ... 5\n",
            "printing ... 6\n",
            "printing ... 7\n",
            "printing ... 8\n",
            "printing ... 9\n",
            "printing ... 10\n"
          ]
        }
      ]
    },
    {
      "cell_type": "code",
      "source": [
        "# square of the numbers from 1-10 each time\n",
        "\n",
        "for i in range(1, 11):\n",
        "    print(i ** 2)"
      ],
      "metadata": {
        "colab": {
          "base_uri": "https://localhost:8080/"
        },
        "id": "DsMZiphAPZE_",
        "outputId": "8076718d-928c-40ca-bae7-92dd8e6c1058"
      },
      "execution_count": null,
      "outputs": [
        {
          "output_type": "stream",
          "name": "stdout",
          "text": [
            "1\n",
            "4\n",
            "9\n",
            "16\n",
            "25\n",
            "36\n",
            "49\n",
            "64\n",
            "81\n",
            "100\n"
          ]
        }
      ]
    },
    {
      "cell_type": "code",
      "source": [
        "# doesn't have to by i, can be called whatever we want\n",
        "for x in range(1, 11):\n",
        "    print(x ** 2)"
      ],
      "metadata": {
        "colab": {
          "base_uri": "https://localhost:8080/"
        },
        "id": "wgFiw1DM4oYl",
        "outputId": "7b2e61e5-b209-4639-ea32-18101a9fcb25"
      },
      "execution_count": null,
      "outputs": [
        {
          "output_type": "stream",
          "name": "stdout",
          "text": [
            "1\n",
            "4\n",
            "9\n",
            "16\n",
            "25\n",
            "36\n",
            "49\n",
            "64\n",
            "81\n",
            "100\n"
          ]
        }
      ]
    },
    {
      "cell_type": "code",
      "source": [
        "# example of nested for loop\n",
        "\n",
        "# iterate 11 x 11 times\n",
        "\n",
        "# outer loop\n",
        "for i in range(1, 11):\n",
        "    for j in range(1, 11):\n",
        "        print(f\"i= {i}, j= {j}\")\n"
      ],
      "metadata": {
        "colab": {
          "base_uri": "https://localhost:8080/"
        },
        "id": "EJB-8MpM5JR2",
        "outputId": "c2fe9fd9-f922-43b2-e6fa-2037265406a1"
      },
      "execution_count": null,
      "outputs": [
        {
          "output_type": "stream",
          "name": "stdout",
          "text": [
            "i= 1, j= 1\n",
            "i= 1, j= 2\n",
            "i= 1, j= 3\n",
            "i= 1, j= 4\n",
            "i= 1, j= 5\n",
            "i= 1, j= 6\n",
            "i= 1, j= 7\n",
            "i= 1, j= 8\n",
            "i= 1, j= 9\n",
            "i= 1, j= 10\n",
            "i= 2, j= 1\n",
            "i= 2, j= 2\n",
            "i= 2, j= 3\n",
            "i= 2, j= 4\n",
            "i= 2, j= 5\n",
            "i= 2, j= 6\n",
            "i= 2, j= 7\n",
            "i= 2, j= 8\n",
            "i= 2, j= 9\n",
            "i= 2, j= 10\n",
            "i= 3, j= 1\n",
            "i= 3, j= 2\n",
            "i= 3, j= 3\n",
            "i= 3, j= 4\n",
            "i= 3, j= 5\n",
            "i= 3, j= 6\n",
            "i= 3, j= 7\n",
            "i= 3, j= 8\n",
            "i= 3, j= 9\n",
            "i= 3, j= 10\n",
            "i= 4, j= 1\n",
            "i= 4, j= 2\n",
            "i= 4, j= 3\n",
            "i= 4, j= 4\n",
            "i= 4, j= 5\n",
            "i= 4, j= 6\n",
            "i= 4, j= 7\n",
            "i= 4, j= 8\n",
            "i= 4, j= 9\n",
            "i= 4, j= 10\n",
            "i= 5, j= 1\n",
            "i= 5, j= 2\n",
            "i= 5, j= 3\n",
            "i= 5, j= 4\n",
            "i= 5, j= 5\n",
            "i= 5, j= 6\n",
            "i= 5, j= 7\n",
            "i= 5, j= 8\n",
            "i= 5, j= 9\n",
            "i= 5, j= 10\n",
            "i= 6, j= 1\n",
            "i= 6, j= 2\n",
            "i= 6, j= 3\n",
            "i= 6, j= 4\n",
            "i= 6, j= 5\n",
            "i= 6, j= 6\n",
            "i= 6, j= 7\n",
            "i= 6, j= 8\n",
            "i= 6, j= 9\n",
            "i= 6, j= 10\n",
            "i= 7, j= 1\n",
            "i= 7, j= 2\n",
            "i= 7, j= 3\n",
            "i= 7, j= 4\n",
            "i= 7, j= 5\n",
            "i= 7, j= 6\n",
            "i= 7, j= 7\n",
            "i= 7, j= 8\n",
            "i= 7, j= 9\n",
            "i= 7, j= 10\n",
            "i= 8, j= 1\n",
            "i= 8, j= 2\n",
            "i= 8, j= 3\n",
            "i= 8, j= 4\n",
            "i= 8, j= 5\n",
            "i= 8, j= 6\n",
            "i= 8, j= 7\n",
            "i= 8, j= 8\n",
            "i= 8, j= 9\n",
            "i= 8, j= 10\n",
            "i= 9, j= 1\n",
            "i= 9, j= 2\n",
            "i= 9, j= 3\n",
            "i= 9, j= 4\n",
            "i= 9, j= 5\n",
            "i= 9, j= 6\n",
            "i= 9, j= 7\n",
            "i= 9, j= 8\n",
            "i= 9, j= 9\n",
            "i= 9, j= 10\n",
            "i= 10, j= 1\n",
            "i= 10, j= 2\n",
            "i= 10, j= 3\n",
            "i= 10, j= 4\n",
            "i= 10, j= 5\n",
            "i= 10, j= 6\n",
            "i= 10, j= 7\n",
            "i= 10, j= 8\n",
            "i= 10, j= 9\n",
            "i= 10, j= 10\n"
          ]
        }
      ]
    },
    {
      "cell_type": "markdown",
      "source": [
        "#### loops & conditional logic (if-else)"
      ],
      "metadata": {
        "id": "-3gVFmyyRQK1"
      }
    },
    {
      "cell_type": "code",
      "source": [
        "print(6/2) # we can divide by two, but this still doesn't tell us if it's even\n",
        "# one way to figure it out is by using modulo\n",
        "# modulo returns the remainder of the division between two numbers\n",
        "\n",
        "print(6 % 2)\n",
        "print(5 % 2)\n",
        "print(1 % 2)\n",
        "print(3 % 7)\n",
        "\n",
        "print(4 % 2) # even, remainder = 0\n",
        "print(3 % 2) # odd , remainer = 1\n",
        "print(8 % 2) # even, remainder = 0\n",
        "\n",
        "# for a % b, how many times does b divide into a ?"
      ],
      "metadata": {
        "colab": {
          "base_uri": "https://localhost:8080/"
        },
        "id": "9dJCPKtyQTPh",
        "outputId": "235134c5-bfb8-4999-e4d0-bea6b023bfd4"
      },
      "execution_count": null,
      "outputs": [
        {
          "output_type": "stream",
          "name": "stdout",
          "text": [
            "3.0\n",
            "0\n",
            "1\n",
            "1\n",
            "3\n",
            "0\n",
            "1\n",
            "0\n"
          ]
        }
      ]
    },
    {
      "cell_type": "code",
      "source": [
        "# 2. if-else logic is used in a loop to do one thing if the condition is true\n",
        "# and something else (or nothing if the condition is false)\n",
        "# refactor the loop so that it prints squares of only the even numbers\n",
        "# (ignore the odd numbers):\n",
        "\n",
        "\n",
        "START = 1\n",
        "END = 10\n",
        "\n",
        "\n",
        "# iterate over the number 1 - 10\n",
        "for n in range(START, END + 1):\n",
        "\n",
        "    # check if n is even\n",
        "    if n % 2 == 0:\n",
        "        print(f\"{n} is even\")\n",
        "    else:\n",
        "        print(f\"{n} is odd\")\n",
        "\n",
        "\n",
        "# x % y operator returns remainder of x divided by y\n",
        "\n",
        "  # using the modulus (%) operator, check if n is even:\n",
        "\n",
        "    # square it"
      ],
      "metadata": {
        "id": "NAaedX3_QGOa",
        "colab": {
          "base_uri": "https://localhost:8080/"
        },
        "outputId": "dd50c3ed-e88c-4668-f81a-a3a6e44f4fc1"
      },
      "execution_count": null,
      "outputs": [
        {
          "output_type": "stream",
          "name": "stdout",
          "text": [
            "1 is odd\n",
            "2 is even\n",
            "3 is odd\n",
            "4 is even\n",
            "5 is odd\n",
            "6 is even\n",
            "7 is odd\n",
            "8 is even\n",
            "9 is odd\n",
            "10 is even\n"
          ]
        }
      ]
    },
    {
      "cell_type": "code",
      "source": [
        "# we loop 1-10\n",
        "# is is going to be each number from 1-10 as we iterate\n",
        "for i in range(1, 11):\n",
        "\n",
        "    if i % 2 == 0:\n",
        "        print(f\"{i} squared is {i ** 2}\")\n"
      ],
      "metadata": {
        "colab": {
          "base_uri": "https://localhost:8080/"
        },
        "id": "plLSqmW0Re-h",
        "outputId": "8f623dbe-e7b0-4e1b-b634-994c18b2b7ad"
      },
      "execution_count": null,
      "outputs": [
        {
          "output_type": "stream",
          "name": "stdout",
          "text": [
            "2 squared is 4\n",
            "4 squared is 16\n",
            "6 squared is 36\n",
            "8 squared is 64\n",
            "10 squared is 100\n"
          ]
        }
      ]
    },
    {
      "cell_type": "code",
      "source": [
        "# 3. CHALLENGE:\n",
        "#.   refactor the loop above so that it squares the even ints and cubes the odds.\n",
        "#    since we are doing something even if the condition is false, we need an else part\n",
        "\n",
        "for i in range(1, 11):\n",
        "\n",
        "    if i % 2 == 0:\n",
        "        print(f\"{i} squared is {i ** 2}\")\n",
        "    else:\n",
        "        print(f\"{i} cubed is {i ** 3}\")\n"
      ],
      "metadata": {
        "id": "2Eea2PCWQRjQ",
        "colab": {
          "base_uri": "https://localhost:8080/"
        },
        "outputId": "418e71d0-d340-487c-8518-2cc6a3ce5a76"
      },
      "execution_count": null,
      "outputs": [
        {
          "output_type": "stream",
          "name": "stdout",
          "text": [
            "1 cubed is 1\n",
            "2 squared is 4\n",
            "3 cubed is 27\n",
            "4 squared is 16\n",
            "5 cubed is 125\n",
            "6 squared is 36\n",
            "7 cubed is 343\n",
            "8 squared is 64\n",
            "9 cubed is 729\n",
            "10 squared is 100\n"
          ]
        }
      ]
    },
    {
      "cell_type": "code",
      "source": [
        "# we can also reverse the logic and have the same result\n",
        "\n",
        "for i in range(1, 11):\n",
        "\n",
        "    if i % 2 != 0:\n",
        "        print(f\"{i} cubed is {i ** 3}\")\n",
        "    else:\n",
        "        print(f\"{i} squared is {i ** 2}\")\n",
        "\n",
        "    # we can break out if we need to with with \"break\"\n",
        "    if i > 3:\n",
        "        break\n",
        "\n"
      ],
      "metadata": {
        "colab": {
          "base_uri": "https://localhost:8080/"
        },
        "id": "rCUPAgmXUejF",
        "outputId": "c130fd07-3e3b-471d-c621-83d7d6f4667c"
      },
      "execution_count": null,
      "outputs": [
        {
          "output_type": "stream",
          "name": "stdout",
          "text": [
            "1 cubed is 1\n",
            "2 squared is 4\n",
            "3 cubed is 27\n",
            "4 squared is 16\n"
          ]
        }
      ]
    },
    {
      "cell_type": "markdown",
      "source": [
        "#### loops are used for iterating a list\n",
        "- the syntax is: **for item in list:**\n",
        "- inside the loop, the current list item goes by **item** (or whatever name you give it)\n"
      ],
      "metadata": {
        "id": "H0EPZ35aRBCA"
      }
    },
    {
      "cell_type": "code",
      "metadata": {
        "id": "FXYMwPmm9wZD",
        "colab": {
          "base_uri": "https://localhost:8080/"
        },
        "outputId": "d3bd4698-ac61-48b5-96ff-fc6994e0368c"
      },
      "source": [
        "# 4. declare a list:\n",
        "fruits = [\"apple\", \"blueberry\", \"cantaloupe\", \"cherry\", \"grape\", \"kiwi\", \"mango\", \"orange\",\"peach\", \"pear\", \"plum\", \"pineapple\", \"raspberry\", \"strawberry\", \"tangerine\"]\n",
        "#print(fruits) #instead use pretty print\n",
        "#pprint(fruits) # pretty printed below\n",
        "\n",
        "for fru in fruits:\n",
        "    print(fru)\n",
        "\n"
      ],
      "execution_count": null,
      "outputs": [
        {
          "output_type": "stream",
          "name": "stdout",
          "text": [
            "apple\n",
            "blueberry\n",
            "cantaloupe\n",
            "cherry\n",
            "grape\n",
            "kiwi\n",
            "mango\n",
            "orange\n",
            "peach\n",
            "pear\n",
            "plum\n",
            "pineapple\n",
            "raspberry\n",
            "strawberry\n",
            "tangerine\n"
          ]
        }
      ]
    },
    {
      "cell_type": "markdown",
      "source": [
        "**loops with conditional logic (if/else)**"
      ],
      "metadata": {
        "id": "o62u5x6hhZ5J"
      }
    },
    {
      "cell_type": "code",
      "source": [
        "fruit_ = \"apple\"\n",
        "print(len(fruit_))"
      ],
      "metadata": {
        "id": "OXSjGHGb_tgS",
        "outputId": "4987883f-9092-42c6-af80-0c64d46e5013",
        "colab": {
          "base_uri": "https://localhost:8080/"
        }
      },
      "execution_count": null,
      "outputs": [
        {
          "output_type": "stream",
          "name": "stdout",
          "text": [
            "5\n"
          ]
        }
      ]
    },
    {
      "cell_type": "code",
      "source": [
        "# only make jellybeans from 5-letter fruits\n",
        "# example of filtering with for and if statements\n",
        "\n",
        "for fru in fruits:\n",
        "\n",
        "    # check that the length of the string is 5\n",
        "    if len(fru) == 5:\n",
        "        print(f\"{fru} jellybeans\")\n",
        "\n",
        "\n"
      ],
      "metadata": {
        "id": "Ee-Ew4ruhWPM",
        "colab": {
          "base_uri": "https://localhost:8080/"
        },
        "outputId": "90cd08e3-3240-48ee-a404-9fa0df53a5a6"
      },
      "execution_count": null,
      "outputs": [
        {
          "output_type": "stream",
          "name": "stdout",
          "text": [
            "apple jellybeans\n",
            "grape jellybeans\n",
            "mango jellybeans\n",
            "peach jellybeans\n"
          ]
        }
      ]
    },
    {
      "cell_type": "code",
      "source": [
        "# challenge: only make jellybeans from fruits starting w \"p\":\n",
        "# first add as many p-fruits as you can think of:\n",
        "# 'papaya'\n",
        "fruits = [\"apple\", \"blueberry\", \"cantaloupe\", \"cherry\", \"grape\", \"kiwi\", \"mango\", \"orange\",\"peach\", \"pear\", \"plum\", \"pineapple\", \"raspberry\", \"strawberry\", \"tangerine\"]\n",
        "\n",
        "for fru in fruits:\n",
        "  if fru.startswith('p'):\n",
        "    print(f\"{fru} jellybeans\")\n",
        "\n",
        "# all fruits that start with p, make them jellybeans\n",
        "\n",
        "print()"
      ],
      "metadata": {
        "id": "INwfOccSAeNr",
        "outputId": "30920446-b95c-4b84-fdcf-707c7d5b63a2",
        "colab": {
          "base_uri": "https://localhost:8080/"
        }
      },
      "execution_count": 5,
      "outputs": [
        {
          "output_type": "stream",
          "name": "stdout",
          "text": [
            "peach jellybeans\n",
            "pear jellybeans\n",
            "plum jellybeans\n",
            "pineapple jellybeans\n",
            "\n"
          ]
        }
      ]
    },
    {
      "cell_type": "code",
      "source": [
        "# challenge: only make jellybeans from fruits starting w \"p\":\n",
        "# first add as many p-fruits as you can think of:\n",
        "# 'papaya'\n",
        "\n",
        "\n",
        "# all fruits that start with p, make them jellybeans\n",
        "fruits = [\"apple\", \"blueberry\", \"cantaloupe\", \"cherry\", \"grape\", \"kiwi\", \"mango\", \"orange\",\"peach\", \"pear\", \"plum\", \"pineapple\", \"raspberry\", \"strawberry\", \"tangerine\"]\n",
        "\n",
        "for fru in fruits:\n",
        "  if fru.startswith('p'):\n",
        "    print(f\"{fru} jellybeans\")\n",
        ""
      ],
      "metadata": {
        "colab": {
          "base_uri": "https://localhost:8080/"
        },
        "id": "stUf28pAiB10",
        "outputId": "e2a852ff-d7f9-4a65-a5b7-aa7f4dd57299"
      },
      "execution_count": 6,
      "outputs": [
        {
          "output_type": "stream",
          "name": "stdout",
          "text": [
            "peach jellybeans\n",
            "pear jellybeans\n",
            "plum jellybeans\n",
            "pineapple jellybeans\n"
          ]
        }
      ]
    },
    {
      "cell_type": "code",
      "source": [
        "# alternate solution using string methods\n"
      ],
      "metadata": {
        "colab": {
          "base_uri": "https://localhost:8080/"
        },
        "id": "rOF5qVPMY_om",
        "outputId": "0059d4b7-231a-4ee8-ffee-9139fdeefd5c"
      },
      "execution_count": null,
      "outputs": [
        {
          "output_type": "stream",
          "name": "stdout",
          "text": [
            "peach jellybeans\n",
            "pear jellybeans\n",
            "plum jellybeans\n",
            "pineapple jellybeans\n",
            "pomegranate jellybeans\n",
            "persimmon jellybeans\n",
            "pomegranate jellybeans\n",
            "persimmon jellybeans\n"
          ]
        }
      ]
    },
    {
      "cell_type": "code",
      "source": [
        "# add more that now p-fruits at a time\n",
        "# fruits.extend(['pomegranate', 'persimmon']) # remember that lists are mutable\n",
        "\n",
        "\n",
        "# 'pomegranate'\n",
        "# 'persimmon'\n",
        "pp(fruits)"
      ],
      "metadata": {
        "colab": {
          "base_uri": "https://localhost:8080/"
        },
        "id": "zhLXLDsMiscZ",
        "outputId": "c9dc4cde-c027-4495-fc76-5072280c8fa8"
      },
      "execution_count": null,
      "outputs": [
        {
          "output_type": "stream",
          "name": "stdout",
          "text": [
            "['apple',\n",
            " 'blueberry',\n",
            " 'cantaloupe',\n",
            " 'cherry',\n",
            " 'grape',\n",
            " 'kiwi',\n",
            " 'mango',\n",
            " 'orange',\n",
            " 'peach',\n",
            " 'pear',\n",
            " 'plum',\n",
            " 'pineapple',\n",
            " 'raspberry',\n",
            " 'strawberry',\n",
            " 'tangerine',\n",
            " 'pomegranate',\n",
            " 'persimmon',\n",
            " 'pomegranate',\n",
            " 'persimmon']\n"
          ]
        }
      ]
    },
    {
      "cell_type": "code",
      "source": [
        "# review on indexing\n",
        "\n",
        "# str_ = 'persimmon'\n",
        "# print(str_[0])\n",
        "# print(str_[-1])\n",
        "# print(str_[-5:])"
      ],
      "metadata": {
        "colab": {
          "base_uri": "https://localhost:8080/"
        },
        "id": "Uy-90KZdaGih",
        "outputId": "d034c163-296f-4331-d32b-f041006c4760"
      },
      "execution_count": null,
      "outputs": [
        {
          "output_type": "stream",
          "name": "stdout",
          "text": [
            "p\n",
            "n\n",
            "immon\n"
          ]
        }
      ]
    },
    {
      "cell_type": "code",
      "source": [
        "# review of \"in\"\n",
        "\n",
        "# print(\"apple\" in fruits)\n",
        "# print(\"a\" in \"apple\")"
      ],
      "metadata": {
        "colab": {
          "base_uri": "https://localhost:8080/"
        },
        "id": "kyE43vlwaeKh",
        "outputId": "84eae944-3bb3-4074-9e96-23380630b479"
      },
      "execution_count": null,
      "outputs": [
        {
          "output_type": "stream",
          "name": "stdout",
          "text": [
            "True\n",
            "True\n"
          ]
        }
      ]
    },
    {
      "cell_type": "markdown",
      "source": [
        "**berry good challenge**\n",
        "- only make berry jellybeans\n",
        "- what's the test?\n",
        "  - **string slice** last 5 chars: **str[-5:]**\n",
        "  - **in** to check if \"berry\" is in item"
      ],
      "metadata": {
        "id": "ykCqshaCj96F"
      }
    },
    {
      "cell_type": "markdown",
      "source": [
        "- **if \"string\" in item** checks if a string is in a bigger string or in a list item\n",
        "- if the string is in the item it returns **True**, else **False**"
      ],
      "metadata": {
        "id": "a-03ZvGhS9x0"
      }
    },
    {
      "cell_type": "code",
      "source": [
        "# 6. try out the string slice:\n",
        "# string[start:end_excl:step]\n",
        "# 'elephant'\n",
        "# 'strawberry'\n",
        "# get the 'ant' in elephant:\n",
        "\n",
        "\n",
        "\n",
        "\n",
        "print() # a\n",
        "print() # an\n",
        "print() # ant\n",
        "print() # b\n",
        "# get the 'berry' and 'straw' in 'strawberry':\n",
        "print() # berry\n",
        "print() # straw\n",
        "print() # straw\n",
        "print() # s\n",
        "print() # s\n",
        "print() # strawberry\n",
        "print() # srwer\n",
        "print() # yrrebwarts (-1 step goes backwards!)"
      ],
      "metadata": {
        "colab": {
          "base_uri": "https://localhost:8080/"
        },
        "id": "P2Kb3UzuS6uI",
        "outputId": "7cc79c41-c78e-4c46-aaec-0adf7cec72a7"
      },
      "execution_count": null,
      "outputs": [
        {
          "output_type": "stream",
          "name": "stdout",
          "text": [
            "blueberry jellybeans\n",
            "raspberry jellybeans\n",
            "strawberry jellybeans\n",
            "\n",
            "\n",
            "\n",
            "\n",
            "\n",
            "\n",
            "\n",
            "\n",
            "\n",
            "\n",
            "\n",
            "\n"
          ]
        }
      ]
    },
    {
      "cell_type": "code",
      "source": [
        "# \"item in list\" returns true or false\n",
        "# \"char in str\" returns true or false\n",
        "print('peach' in fruits) # True\n",
        "print('ma' in 'mango') # True\n",
        "print('x-ray' in fruits) # False\n",
        "print('x' in 'mango') # False\n",
        "\n",
        "\n",
        "# we can look up a character in a string\n",
        "# we can also look up a entry in a list\n",
        "# strings , lists -> iterable (we can loop over them)"
      ],
      "metadata": {
        "colab": {
          "base_uri": "https://localhost:8080/"
        },
        "id": "p5w8UcA9m2S3",
        "outputId": "69a277a2-2a49-42f7-edba-1779301cc189"
      },
      "execution_count": null,
      "outputs": [
        {
          "output_type": "stream",
          "name": "stdout",
          "text": [
            "True\n",
            "ma\n",
            "x-ray\n",
            "x\n"
          ]
        }
      ]
    },
    {
      "cell_type": "markdown",
      "source": [
        "- strings have index values, just like lists do\n",
        "- negative indexing applies: -1 is the last item"
      ],
      "metadata": {
        "id": "JWUw5bgKTYME"
      }
    },
    {
      "cell_type": "code",
      "source": [],
      "metadata": {
        "id": "cNovfinRG0yE"
      },
      "execution_count": null,
      "outputs": []
    },
    {
      "cell_type": "code",
      "source": [
        "# 7. get the first and last letters of this string:\n",
        "# \"bunny\"\n",
        "fruits = [\"apple\", \"blueberry\", \"cantaloupe\", \"cherry\", \"grape\", \"kiwi\", \"mango\", \"orange\",\"peach\", \"pear\", \"plum\", \"pineapple\", \"raspberry\", \"strawberry\", \"tangerine\"]\n",
        "animal = \"bunny\"\n",
        "\n",
        "print('first char:', animal[0])\n",
        "print('last cahr:', animal[-1])\n",
        "\n",
        "print('fruits:', fruits)\n",
        "\n",
        "# 8. get the second and third items in fruitsudes\n",
        "# includes elements at index 1, 2 (excludes 3)\n",
        "print('fruits index: 1, 2', fruits[1:3])\n",
        "\n",
        "\n",
        "# 8B. get the second letter of the third\n",
        "# item in fruits ('a' in 'cantaloupe')\n",
        "print(fruits[3][2]) # [2] is 3rd item, [2][1] is 3rd item, 2nd char\n",
        "\n",
        "# 8C. get the last 5 fruits\n",
        "print('last 5 fruits', fruits[-5:])\n",
        "\n",
        "# 8D. get every other fruit starting w 'apple' at beginning:\n",
        "print('every other fruit, apple at begining', fruits[::2]) # start = 0, end = length of fruits\n",
        "# ['apple', 'cantaloupe', 'grape', 'mango', 'peach', 'plum', 'raspberry', 'tangerine', 'pomegranate']\n",
        "\n",
        "# 8E. get all the other fruits not gotten in previous step:\n",
        "\n",
        "# ['blueberry', 'cherry', 'kiwi', 'orange', 'pear', 'pineapple', 'strawberry', 'papaya', 'persimmon']"
      ],
      "metadata": {
        "colab": {
          "base_uri": "https://localhost:8080/"
        },
        "id": "axJYVyIVTeeU",
        "outputId": "f3d4ac18-8d19-46ce-c5d2-0e58b772f9fe"
      },
      "execution_count": 9,
      "outputs": [
        {
          "output_type": "stream",
          "name": "stdout",
          "text": [
            "first char: b\n",
            "last cahr: y\n",
            "fruits: ['apple', 'blueberry', 'cantaloupe', 'cherry', 'grape', 'kiwi', 'mango', 'orange', 'peach', 'pear', 'plum', 'pineapple', 'raspberry', 'strawberry', 'tangerine']\n",
            "fruits index: 1, 2 ['blueberry', 'cantaloupe']\n",
            "e\n",
            "last 5 fruits ['plum', 'pineapple', 'raspberry', 'strawberry', 'tangerine']\n",
            "every other fruit, apple at begining ['apple', 'cantaloupe', 'grape', 'mango', 'peach', 'plum', 'raspberry', 'tangerine']\n"
          ]
        }
      ]
    },
    {
      "cell_type": "markdown",
      "source": [
        "- print() works but has a limitation: it doesn't store the output anywhere.\n",
        "- we have no way going forward to access any of our fruit treats\n",
        "- better would be to store all the treats in a new list"
      ],
      "metadata": {
        "id": "tEJ5XhqRUP9A"
      }
    },
    {
      "cell_type": "code",
      "source": [
        "# 8. CHALLENGE: Make Fruit Treats\n",
        "# loop the fruits and make  \"jam\", \"popsicles\", \"jelly\" or \"jellybeans\"\n",
        "# according to these conditions:\n",
        "\n",
        "treats = [] # for saving the different treats\n",
        "\n",
        "#treats.extend([])\n",
        "#treats.append(\" banana\")\n",
        "\n",
        "for fru in fruits:\n",
        "  # - if the fruit is a 'berry', make jam (\"strawberry jam\")\n",
        "  #if fru[-5:] == 'berry':\n",
        "  if'berry'in fru:\n",
        "    print(f\"{fru} jam\")\n",
        "    treats.append(f\"{fru} jam\") #(save it to the list)\n",
        "# - if it starts with \"p\", make a popsicle (\"plum popsicle\")\n",
        "#  elif fru.startswith('p'):\n",
        "  elif fru[0].lower()== 'p':\n",
        "    print(f\"{fru} popsicle\")\n",
        "    treats.append(f\"{fru} popsicle\")\n",
        "# - if the fruit consists of 5 letters or less, make jelly (\"apple jelly\", \"kiwi jelly\")\n",
        "  elif len(fru) <= 5:\n",
        "    print(f\"{fru} jelly\")\n",
        "    treats.append(f\"{fru} jelly\")\n",
        "# - if none of these conditions apply, make jellybean (\"cherry jellybean\")\n",
        "  else:\n",
        "    print(f\"{fru} jellybean\")\n",
        "    treats.append(f\"{fru} jellybean\")\n",
        "print()\n",
        "print(treats)\n",
        "\n",
        "# don't just print the fruit treats\n",
        "# save the fruit treats to a new list, called treats,\n",
        "\n",
        "print(fruits)\n",
        "# rather than just printing the treats; this way,\n",
        "# the treats will be available throughout the code\n",
        "\n",
        "# 9. before starting if-else logic part..\n",
        "# sort() fruits and then add more fruits:\n",
        "fruits.sort()\n",
        "print(fruits)\n",
        "fruits.extend(['watermelon', 'apricot', 'banana'])\n",
        "print(fruits)"
      ],
      "metadata": {
        "id": "dAQ3tb5QIuJm",
        "outputId": "dd75cfd8-1154-4cfa-b4d2-cb83444752a8",
        "colab": {
          "base_uri": "https://localhost:8080/"
        }
      },
      "execution_count": 27,
      "outputs": [
        {
          "output_type": "stream",
          "name": "stdout",
          "text": [
            "apple jelly\n",
            "apricot jellybean\n",
            "apricot jellybean\n",
            "apricot jellybean\n",
            "apricot jellybean\n",
            "apricot jellybean\n",
            "banana jellybean\n",
            "banana jellybean\n",
            "banana jellybean\n",
            "banana jellybean\n",
            "banana jellybean\n",
            "blueberry jam\n",
            "cantaloupe jellybean\n",
            "cherry jellybean\n",
            "grape jelly\n",
            "kiwi jelly\n",
            "mango jelly\n",
            "orange jellybean\n",
            "peach popsicle\n",
            "pear popsicle\n",
            "pineapple popsicle\n",
            "plum popsicle\n",
            "raspberry jam\n",
            "strawberry jam\n",
            "tangerine jellybean\n",
            "watermelon jellybean\n",
            "watermelon jellybean\n",
            "watermelon jellybean\n",
            "watermelon jellybean\n",
            "watermelon jellybean\n",
            "watermelon jellybean\n",
            "apricot jellybean\n",
            "banana jellybean\n",
            "\n",
            "['apple jelly', 'apricot jellybean', 'apricot jellybean', 'apricot jellybean', 'apricot jellybean', 'apricot jellybean', 'banana jellybean', 'banana jellybean', 'banana jellybean', 'banana jellybean', 'banana jellybean', 'blueberry jam', 'cantaloupe jellybean', 'cherry jellybean', 'grape jelly', 'kiwi jelly', 'mango jelly', 'orange jellybean', 'peach popsicle', 'pear popsicle', 'pineapple popsicle', 'plum popsicle', 'raspberry jam', 'strawberry jam', 'tangerine jellybean', 'watermelon jellybean', 'watermelon jellybean', 'watermelon jellybean', 'watermelon jellybean', 'watermelon jellybean', 'watermelon jellybean', 'apricot jellybean', 'banana jellybean']\n",
            "['apple', 'apricot', 'apricot', 'apricot', 'apricot', 'apricot', 'banana', 'banana', 'banana', 'banana', 'banana', 'blueberry', 'cantaloupe', 'cherry', 'grape', 'kiwi', 'mango', 'orange', 'peach', 'pear', 'pineapple', 'plum', 'raspberry', 'strawberry', 'tangerine', 'watermelon', 'watermelon', 'watermelon', 'watermelon', 'watermelon', 'watermelon', 'apricot', 'banana']\n",
            "['apple', 'apricot', 'apricot', 'apricot', 'apricot', 'apricot', 'apricot', 'banana', 'banana', 'banana', 'banana', 'banana', 'banana', 'blueberry', 'cantaloupe', 'cherry', 'grape', 'kiwi', 'mango', 'orange', 'peach', 'pear', 'pineapple', 'plum', 'raspberry', 'strawberry', 'tangerine', 'watermelon', 'watermelon', 'watermelon', 'watermelon', 'watermelon', 'watermelon']\n",
            "['apple', 'apricot', 'apricot', 'apricot', 'apricot', 'apricot', 'apricot', 'banana', 'banana', 'banana', 'banana', 'banana', 'banana', 'blueberry', 'cantaloupe', 'cherry', 'grape', 'kiwi', 'mango', 'orange', 'peach', 'pear', 'pineapple', 'plum', 'raspberry', 'strawberry', 'tangerine', 'watermelon', 'watermelon', 'watermelon', 'watermelon', 'watermelon', 'watermelon', 'watermelon', 'apricot', 'banana']\n"
          ]
        }
      ]
    },
    {
      "cell_type": "code",
      "source": [
        "# 8. CHALLENGE: Make Fruit Treats\n",
        "# loop the fruits and make  \"jam\", \"popsicles\", \"jelly\" or \"jellybeans\"\n",
        "# according to these conditions:\n",
        "\n",
        "treats = [] # for saving the different treats\n",
        "\n",
        "# treats.extend([])\n",
        "# treats.append(\"something new\")\n",
        "\n",
        "\n",
        "\n",
        "\n",
        "# - if the fruit is a 'berry', make jam (\"strawberry jam\")\n",
        "# - if it starts with \"p\", make a popsicle (\"plum popsicle\")\n",
        "# - if the fruit consists of 5 letters or less, make jelly (\"apple jelly\", \"kiwi jelly\")\n",
        "# - if none of these conditions apply, make jellybean (\"cherry jellybean\")\n",
        "\n",
        "# don't just print the fruit treats\n",
        "# save the fruit treats to a new list, called treats,\n",
        "# rather than just printing the treats; this way,\n",
        "# the treats will be available throughout the code\n",
        "\n",
        "# 9. before starting if-else logic part..\n",
        "# sort() fruits and then add more fruits:\n",
        "\n",
        "\n",
        "# append() 'watermelon' to end of fruits:\n",
        "# insert() 'apricot' at correct spot to maintain A-Z order (without sorting again)\n",
        "\n",
        "# insert() 'banana' at correct spot to maintain A-Z order (without sorting again)\n",
        "\n",
        "# 'watermelon'\n",
        "# 'apricot'\n",
        "# 'banana'\n",
        "print()"
      ],
      "metadata": {
        "id": "dXZ-GHEgSKHq",
        "colab": {
          "base_uri": "https://localhost:8080/"
        },
        "outputId": "20aa9535-629e-4fe3-a466-232e047ce357"
      },
      "execution_count": null,
      "outputs": [
        {
          "output_type": "stream",
          "name": "stdout",
          "text": [
            "['apple jellybean',\n",
            " 'blueberry jam',\n",
            " 'cantaloupe jellybean',\n",
            " 'cherry jellybean',\n",
            " 'grape jellybean',\n",
            " 'kiwi jelly',\n",
            " 'mango jellybean',\n",
            " 'orange jellybean',\n",
            " 'peach popsicle',\n",
            " 'pear popsicle',\n",
            " 'plum popsicle',\n",
            " 'pineapple popsicle',\n",
            " 'raspberry jam',\n",
            " 'strawberry jam',\n",
            " 'tangerine jellybean',\n",
            " 'pomegranate popsicle',\n",
            " 'persimmon popsicle',\n",
            " 'pomegranate popsicle',\n",
            " 'persimmon popsicle']\n",
            "\n"
          ]
        }
      ]
    },
    {
      "cell_type": "code",
      "source": [],
      "metadata": {
        "id": "6oh0Ui6XgOoW"
      },
      "execution_count": null,
      "outputs": []
    },
    {
      "cell_type": "code",
      "source": [
        "fruits"
      ],
      "metadata": {
        "colab": {
          "base_uri": "https://localhost:8080/"
        },
        "id": "rSX6kdT9gbFC",
        "outputId": "4b38fd2d-5652-4c7b-e339-4e9a2eb8f81c"
      },
      "execution_count": null,
      "outputs": [
        {
          "output_type": "execute_result",
          "data": {
            "text/plain": [
              "['apple',\n",
              " 'apricot',\n",
              " 'banana',\n",
              " 'blueberry',\n",
              " 'cantaloupe',\n",
              " 'cherry',\n",
              " 'grape',\n",
              " 'kiwi',\n",
              " 'mango',\n",
              " 'orange',\n",
              " 'peach',\n",
              " 'pear',\n",
              " 'persimmon',\n",
              " 'persimmon',\n",
              " 'pineapple',\n",
              " 'plum',\n",
              " 'pomegranate',\n",
              " 'pomegranate',\n",
              " 'raspberry',\n",
              " 'strawberry',\n",
              " 'tangerine',\n",
              " 'watermelon']"
            ]
          },
          "metadata": {},
          "execution_count": 55
        }
      ]
    },
    {
      "cell_type": "code",
      "source": [
        "\n",
        "# alt using string methods\n"
      ],
      "metadata": {
        "id": "TubEIqcXf4Wx"
      },
      "execution_count": null,
      "outputs": []
    },
    {
      "cell_type": "code",
      "source": [
        "# 10. declare a new empty list\n",
        "# []"
      ],
      "metadata": {
        "id": "alcOXpbD_Aw6"
      },
      "execution_count": null,
      "outputs": []
    },
    {
      "cell_type": "code",
      "source": [
        "\n",
        "  # if the fruit is a 'berry'\n",
        "  # 'berry' # OR: if fru[-5:] == 'berry' OR fru.endswith('berry')\n",
        "    # make jam (\"strawberry jam\")\n",
        "    # ' jam'\n",
        "  # if it starts with \"p\"\n",
        "  # 'p' # OR fru.startswith('berry')\n",
        "    # make a popsicle (\"plum popsicle\")\n",
        "    # ' popsicle'\n",
        "  # if the fruit consists of 5 letters or less\n",
        "\n",
        "    # make jelly (\"apple jelly\", \"kiwi jelly\")\n",
        "    # ' jelly'\n",
        "  # none of these conditions apply\n",
        "\n",
        "    # make jellybean (\"cherry jellybean\")\n",
        "    # ' jellybean'\n",
        "\n",
        "# pp.pprint()"
      ],
      "metadata": {
        "id": "w_l35kKy-_RJ"
      },
      "execution_count": null,
      "outputs": []
    },
    {
      "cell_type": "code",
      "source": [
        "# ChatGPT request:\n",
        "# Given this list:\n",
        "# 'apple', 'apricot', 'banana', 'apricot', 'apricot', 'apricot',\n",
        "# 'banana', 'banana', 'banana', 'blueberry', 'cantaloupe', 'cherry',\n",
        "#  'grape', 'kiwi', 'mango', 'orange', 'papaya', 'peach', 'pear',\n",
        "#  'persimmon', 'pineapple', 'plum', 'pomegranate', 'raspberry',\n",
        "#  'strawberry', 'tangerine', 'watermelon', 'watermelon',\n",
        "#  'watermelon', 'watermelon'\n",
        "print('fruits w duplicates:\\n')\n",
        "# set() scrambles the order\n",
        "\n",
        "print('fruits w/o duplicates:\\n')\n",
        "\n",
        "# Write Python code that makes  \"jam\", \"popsicles\", \"jelly\" or \"jellybeans\"\n",
        "# according to these conditions:\n",
        "# - if the fruit is a 'berry', make jam (\"strawberry jam\")\n",
        "# - if it starts with \"p\", make a popsicle (\"plum popsicle\")\n",
        "# - if the fruit consists of 5 letters or less, make jelly (\"apple jelly\", \"kiwi jelly\")\n",
        "# - if none of these conditions apply, make jellybean (\"cherry jellybean\")\n",
        "# don't just print the fruit treats\n",
        "# save the fruit treats to a new list, called treats,"
      ],
      "metadata": {
        "colab": {
          "base_uri": "https://localhost:8080/"
        },
        "id": "rGTN0rQ6-Wr5",
        "outputId": "94c750fb-45be-4f81-ef27-72425c368ea4"
      },
      "execution_count": null,
      "outputs": [
        {
          "output_type": "stream",
          "name": "stdout",
          "text": [
            "fruits w duplicates:\n",
            "\n",
            "fruits w/o duplicates:\n",
            "\n"
          ]
        }
      ]
    },
    {
      "cell_type": "markdown",
      "source": [
        "**slicing: [start_index:end_index]** returns a \"slice\" of a list or string\n",
        "- end_index is exclusive (not included in returned slice)"
      ],
      "metadata": {
        "id": "eedkaz5DVHQf"
      }
    },
    {
      "cell_type": "code",
      "source": [
        "# HW: more slicing of items from list\n",
        "# 13. get the first 5 fruits:\n",
        "print()\n",
        "\n",
        "# 14. get the last 5 fruits:\n",
        "print()\n",
        "\n",
        "# 15. get from 'cherry' all the way to the end\n",
        "# find cherry:\n",
        "# 'cherry'\n",
        "print('cherry_index:')\n",
        "print()\n",
        "\n",
        "# 16. get all but first and last items:\n",
        "print() # end index is exclusive, so last item at -1 doesn't go\n",
        "\n",
        "# 17. specify a step\n",
        "# get every other item starting w apple: 'apple', 'blueberry', 'cherry'\n",
        "print() # nothing: means start at beginning\n",
        "# :nothing means go to the end\n",
        "# :: means start at beginning and go to the end\n",
        "# ::2 means do all, but only every other one\n",
        "# ::-1 do all, backwards\n",
        "\n",
        "# 18. starting at 3rd item, get every 3rd item:\n",
        "print()\n",
        "\n",
        "# 19. selecting ranges works for strings too: get the \"blue\" in \"blueberry\"\n",
        "print(\"bl\")\n",
        "\n",
        "# 20. get the 'apple' in \"pineapple\"\n",
        "print(\"pi\")"
      ],
      "metadata": {
        "colab": {
          "base_uri": "https://localhost:8080/"
        },
        "id": "9mZuWNDGNnUB",
        "outputId": "b01a4c8d-b14a-4b66-b854-873685869b33"
      },
      "execution_count": null,
      "outputs": [
        {
          "output_type": "stream",
          "name": "stdout",
          "text": [
            "\n",
            "\n",
            "cherry_index:\n",
            "\n",
            "\n",
            "\n",
            "\n",
            "bl\n",
            "pi\n"
          ]
        }
      ]
    },
    {
      "cell_type": "markdown",
      "source": [
        "**split()** method is called on a string and returns a list\n",
        "- **split(\"-\") takes an optional **delimiter**, specifying where to split, such as on the hyphens\n",
        "- if no delimiter is provided, it splits on the space"
      ],
      "metadata": {
        "id": "K4wsdOnEQicW"
      }
    },
    {
      "cell_type": "code",
      "source": [
        "# split method is called on a string and returns a list\n",
        "\n",
        "# 21. declare two strings\n",
        "str_1 = 'Ralph Waldo Emerson'\n",
        "str_2 = 'Toyota Corolla SR5'\n",
        "\n",
        "# 22. split the name into a list of 3 items\n",
        "# sp\n",
        "print()\n",
        "\n",
        "\n",
        "\n",
        "# 23. split the car into a list of make and model\n",
        "# sp\n",
        "\n",
        "\n",
        "# 23B. save just the make (Toyota) to a variable (make)\n",
        "# 0\n",
        "\n",
        "\n",
        "# 23C. save the model, which may be more than one word, to a var (model)\n",
        "# 1:\n",
        "\n",
        "# result is list, BUT we want string: 'Corolla SR5'"
      ],
      "metadata": {
        "colab": {
          "base_uri": "https://localhost:8080/"
        },
        "id": "8f1FajPrQhto",
        "outputId": "cd6a2f50-3bf8-4d82-cf6f-a6ad632d5a03"
      },
      "execution_count": null,
      "outputs": [
        {
          "output_type": "stream",
          "name": "stdout",
          "text": [
            "['Ralph', 'Waldo', 'Emerson']\n",
            "Ralph\n",
            "Waldo\n",
            "Emerson\n",
            "\n",
            "['Toyota', 'Corolla', 'SR5']\n",
            "make: Toyota\n",
            "model: ['Corolla', 'SR5']\n"
          ]
        }
      ]
    },
    {
      "cell_type": "code",
      "source": [
        "# split() splits on space if no delimiter is provided\n",
        "# to split on non-space, pass in a delimiter, such as a '-'\n",
        "\n",
        "# 24. split this file name into a list of words\n",
        "file_name = 'cat-playing-with-ball-of-yarn.jpg'[:-4]\n",
        "file_parts = file_name.split('-')\n",
        "print(file_parts) # ['cat', 'playing', 'with', 'ball', 'of', 'yarn.jpg']"
      ],
      "metadata": {
        "colab": {
          "base_uri": "https://localhost:8080/"
        },
        "id": "99JgOqhBQ_7n",
        "outputId": "efa08613-8d92-4877-9003-ec658256024f"
      },
      "execution_count": null,
      "outputs": [
        {
          "output_type": "stream",
          "name": "stdout",
          "text": [
            "['cat', 'playing', 'with', 'ball', 'of', 'yarn.']\n"
          ]
        }
      ]
    },
    {
      "cell_type": "code",
      "source": [
        "# get rid of the .jpg file extension\n",
        "# this involves selecting the string from index 0 to the index of the dot\n",
        "# string.index('x') returns the index of the first 'x'\n",
        "\n",
        "file_name[:-4] # this would work specficially for jpg, but not not for .jpeg\n",
        "\n",
        "# 25. find the index of the dot in the original string\n",
        "# '.'\n",
        "print('index_of_dot:', file_name.index(\".\")) # 29\n",
        "\n",
        "# 26. select up to but not including the dot\n",
        "# :\n",
        "ext_index = file_name.index('.') # save the index of '.'\n",
        "print('file_name_no_ext:', file_name[:ext_index])\n",
        "\n",
        "# 27. The file extension is gone, go split again:\n",
        "file_parts = file_name[:ext_index].split('-')\n",
        "print(file_parts)"
      ],
      "metadata": {
        "colab": {
          "base_uri": "https://localhost:8080/"
        },
        "id": "ttjNknlbRhvs",
        "outputId": "740baae3-7762-40b7-bd2a-f5d178f0c8e9"
      },
      "execution_count": null,
      "outputs": [
        {
          "output_type": "stream",
          "name": "stdout",
          "text": [
            "index_of_dot: 29\n",
            "file_name_no_ext: cat-playing-with-ball-of-yarn\n",
            "['cat', 'playing', 'with', 'ball', 'of', 'yarn']\n"
          ]
        }
      ]
    },
    {
      "cell_type": "code",
      "source": [
        "# we could have also done a split() on the dot directly, but then we have to call split() twice\n",
        "\n",
        "file_words = 'cat-playing-with-ball-of-yarn.jpg'.split('.')\n",
        "print(file_words[0].split('-'))"
      ],
      "metadata": {
        "colab": {
          "base_uri": "https://localhost:8080/"
        },
        "id": "4jTuy7G_lauR",
        "outputId": "a6bc1003-d7a4-405b-a8e0-6defaf4190e2"
      },
      "execution_count": null,
      "outputs": [
        {
          "output_type": "stream",
          "name": "stdout",
          "text": [
            "['cat', 'playing', 'with', 'ball', 'of', 'yarn']\n"
          ]
        }
      ]
    },
    {
      "cell_type": "code",
      "source": [
        "# loop version of the above:\n",
        "# remove file ext from list of filenames\n",
        "# make list of resulting words\n",
        "# save ALL words in a new list called all_words\n",
        "\n",
        "file_names = [\n",
        "    'cat-playing-with-ball-of-yarn.jpg',\n",
        "    'cat-refuses-to-play-with-floppy-fish.jpg',\n",
        "    'suspicious-dog-glancing-sideways.jpeg',\n",
        "    'cute-fluffy-bunny-eating-kale.gif'\n",
        "]\n",
        "\n",
        "# declare a new list for storing ALL words from ALL files\n",
        "all_words = []\n"
      ],
      "metadata": {
        "id": "7WxepTbIGGhf",
        "colab": {
          "base_uri": "https://localhost:8080/"
        },
        "outputId": "37748d12-025f-4221-8f6d-79eb446afd21"
      },
      "execution_count": null,
      "outputs": [
        {
          "output_type": "stream",
          "name": "stdout",
          "text": [
            "['ball',\n",
            " 'bunny',\n",
            " 'cat',\n",
            " 'cute',\n",
            " 'dog',\n",
            " 'eating',\n",
            " 'fish',\n",
            " 'floppy',\n",
            " 'fluffy',\n",
            " 'glancing',\n",
            " 'kale',\n",
            " 'of',\n",
            " 'play',\n",
            " 'playing',\n",
            " 'refuses',\n",
            " 'sideways',\n",
            " 'suspicious',\n",
            " 'to',\n",
            " 'with',\n",
            " 'yarn']\n"
          ]
        }
      ]
    },
    {
      "cell_type": "markdown",
      "source": [
        "**join()** method is called on a delimiter, takes a list as its argument and returns a string"
      ],
      "metadata": {
        "id": "6qe8bhGHAeg0"
      }
    },
    {
      "cell_type": "code",
      "source": [
        "car_ = ['Corolla', 'SR5']\n",
        "# join the list into a string, so that we have the model name as string\n",
        "# # \" \"\n",
        "# joiner = \" \"\n",
        "# joined_str = joiner.join(car_)\n",
        "# print('model_str:',joined_str ) # join is the inverse of split  , \" \" is the joiner\n",
        "\n",
        "# # split() str -> list : split is a str method\n",
        "# # join() list -> str : join is a str method"
      ],
      "metadata": {
        "colab": {
          "base_uri": "https://localhost:8080/"
        },
        "id": "ha0NKo4uAY_K",
        "outputId": "38d49f61-b36f-4b69-8024-cff5c8703e2f"
      },
      "execution_count": null,
      "outputs": [
        {
          "output_type": "stream",
          "name": "stdout",
          "text": [
            "model_str: Corolla SR5\n"
          ]
        }
      ]
    },
    {
      "cell_type": "code",
      "source": [
        "# 30. CHALLENGE: given this list, make 2 new lists:\n",
        "\n",
        "cars_list = [\n",
        "    'Ford Bronco XLT',\n",
        "    'Ford Ranger Cub Delux',\n",
        "    'Chevrolet Corvette CV3',\n",
        "    'Chevrolet Camaro',\n",
        "    'Toyota Corolla SR5',\n",
        "    'Ford Taurus XL',\n",
        "    'Toyota 4Runner',\n",
        "    'Ford Pinto',\n",
        "    \"AMC Pacer\"\n",
        "]\n",
        "\n",
        "# make two lists\n",
        "# 1. make\n",
        "\n",
        "\n",
        "\n",
        "# 2. model\n",
        "\n",
        "make = []\n",
        "model = []\n",
        "\n",
        "\n",
        "\n",
        "# runs after the loop\n",
        "print(make)\n",
        "print(model)\n",
        "\n",
        "# one list should have just the makes\n",
        "# []\n",
        "# the other list should have the models, which can be anywhere from one to three words:\n",
        "# []\n",
        "# expected output:\n",
        "# [\"Ford\", \"Ford\", \"Chevrolet\", \"Chevrolet\", \"Toyota\", \"Ford\", \"Toyota\", \"Ford\", \"AMC\"]\n",
        "# ['Bronco XLT', 'Ranger Cub Delux', 'Corvette CV3', 'Camaro', 'Corolla SR5', 'Taurus XL', '4Runner']\n",
        "\n",
        "# TIP: first, get your code to work on just ONE thing item in the list\n",
        "# then, roll out that solution in a loop to all the items in the list\n",
        "# TIP 2: print to test early and often -- don't wait til end to see ERROR\n",
        "\n",
        "# 31. loop the vehicles list:\n",
        "# fo\n",
        "  # 32. split() the car into a list\n",
        "  # sp # ['Ford', 'Bronco', 'XLT']\n",
        "  # 33. get the make, which is the first item in the list\n",
        "  # mm_ # 'Ford'\n",
        "  # 34. get the model, which is all the rest of the items\n",
        "  # \" \"\n",
        "\n",
        "# check if they line up\n"
      ],
      "metadata": {
        "colab": {
          "base_uri": "https://localhost:8080/"
        },
        "id": "C2qwZZ6LBtoj",
        "outputId": "784d6ed3-cd73-4475-9182-de379a5eaa1e"
      },
      "execution_count": null,
      "outputs": [
        {
          "output_type": "stream",
          "name": "stdout",
          "text": [
            "Car split ['Ford', 'Bronco', 'XLT']\n",
            "adding Ford to make list\n",
            "adding ['Bronco', 'XLT'] to model list\n",
            "Car split ['Ford', 'Ranger', 'Cub', 'Delux']\n",
            "adding Ford to make list\n",
            "adding ['Ranger', 'Cub', 'Delux'] to model list\n",
            "Car split ['Chevrolet', 'Corvette', 'CV3']\n",
            "adding Chevrolet to make list\n",
            "adding ['Corvette', 'CV3'] to model list\n",
            "Car split ['Chevrolet', 'Camaro']\n",
            "adding Chevrolet to make list\n",
            "adding ['Camaro'] to model list\n",
            "Car split ['Toyota', 'Corolla', 'SR5']\n",
            "adding Toyota to make list\n",
            "adding ['Corolla', 'SR5'] to model list\n",
            "Car split ['Ford', 'Taurus', 'XL']\n",
            "adding Ford to make list\n",
            "adding ['Taurus', 'XL'] to model list\n",
            "Car split ['Toyota', '4Runner']\n",
            "adding Toyota to make list\n",
            "adding ['4Runner'] to model list\n",
            "Car split ['Ford', 'Pinto']\n",
            "adding Ford to make list\n",
            "adding ['Pinto'] to model list\n",
            "Car split ['AMC', 'Pacer']\n",
            "adding AMC to make list\n",
            "adding ['Pacer'] to model list\n",
            "['Ford', 'Ford', 'Chevrolet', 'Chevrolet', 'Toyota', 'Ford', 'Toyota', 'Ford', 'AMC']\n",
            "['Bronco XLT', 'Ranger Cub Delux', 'Corvette CV3', 'Camaro', 'Corolla SR5', 'Taurus XL', '4Runner', 'Pinto', 'Pacer']\n",
            "True\n",
            "\n"
          ]
        }
      ]
    }
  ]
}